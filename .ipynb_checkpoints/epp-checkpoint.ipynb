{
 "cells": [
  {
   "cell_type": "code",
   "execution_count": 2,
   "metadata": {},
   "outputs": [],
   "source": [
    "# Importing the necessary libraries\n",
    "import pandas as pd\n",
    "import seaborn as sns\n",
    "import numpy as np\n",
    "import matplotlib.pyplot as plt\n",
    "from sklearn.preprocessing import LabelEncoder, StandardScaler\n",
    "from sklearn.model_selection import train_test_split, GridSearchCV\n",
    "from sklearn.metrics import accuracy_score, classification_report, confusion_matrix"
   ]
  },
  {
   "cell_type": "code",
   "execution_count": 3,
   "metadata": {},
   "outputs": [],
   "source": [
    "import warnings\n",
    "warnings.filterwarnings('ignore')\n",
    "%matplotlib inline"
   ]
  },
  {
   "cell_type": "markdown",
   "metadata": {},
   "source": [
    "# Data"
   ]
  },
  {
   "cell_type": "markdown",
   "metadata": {},
   "source": [
    "### Importing Raw data "
   ]
  },
  {
   "cell_type": "code",
   "execution_count": 4,
   "metadata": {},
   "outputs": [],
   "source": [
    "# Importing the csv file\n",
    "data = pd.read_csv('Performance Data.csv')"
   ]
  },
  {
   "cell_type": "markdown",
   "metadata": {},
   "source": [
    "## Source Code"
   ]
  },
  {
   "cell_type": "markdown",
   "metadata": {},
   "source": [
    "### Exploratory Data Analysis"
   ]
  },
  {
   "cell_type": "code",
   "execution_count": 5,
   "metadata": {},
   "outputs": [
    {
     "data": {
      "text/plain": [
       "(13066, 26)"
      ]
     },
     "execution_count": 5,
     "metadata": {},
     "output_type": "execute_result"
    }
   ],
   "source": [
    "data.shape"
   ]
  },
  {
   "cell_type": "code",
   "execution_count": 6,
   "metadata": {},
   "outputs": [
    {
     "data": {
      "text/plain": [
       "Index(['employeeid', 'Gender', 'Age', 'Education', 'Tenure in the company',\n",
       "       'Prevous Exp in Months', 'Building Team Commitment',\n",
       "       'Strategic Thinking', 'Leads Decision Making and Delivers Results',\n",
       "       'Analytical Thinking', 'Customer Relations',\n",
       "       'Service Quality and Planning', 'Solution Selling',\n",
       "       'In Market Execution', 'Sales Planning and Forecasting', 'Negotiation ',\n",
       "       'Actionable Insights', 'Solving Problems', 'Engage', 'Applied Thinking',\n",
       "       'Change', 'Drive', 'Average Comp Score', 'Competen2y', 'Attried',\n",
       "       'PerformanceRating'],\n",
       "      dtype='object')"
      ]
     },
     "execution_count": 6,
     "metadata": {},
     "output_type": "execute_result"
    }
   ],
   "source": [
    "data.columns"
   ]
  },
  {
   "cell_type": "code",
   "execution_count": 7,
   "metadata": {},
   "outputs": [
    {
     "data": {
      "text/html": [
       "<div>\n",
       "<style scoped>\n",
       "    .dataframe tbody tr th:only-of-type {\n",
       "        vertical-align: middle;\n",
       "    }\n",
       "\n",
       "    .dataframe tbody tr th {\n",
       "        vertical-align: top;\n",
       "    }\n",
       "\n",
       "    .dataframe thead th {\n",
       "        text-align: right;\n",
       "    }\n",
       "</style>\n",
       "<table border=\"1\" class=\"dataframe\">\n",
       "  <thead>\n",
       "    <tr style=\"text-align: right;\">\n",
       "      <th></th>\n",
       "      <th>employeeid</th>\n",
       "      <th>Gender</th>\n",
       "      <th>Age</th>\n",
       "      <th>Education</th>\n",
       "      <th>Tenure in the company</th>\n",
       "      <th>Prevous Exp in Months</th>\n",
       "      <th>Building Team Commitment</th>\n",
       "      <th>Strategic Thinking</th>\n",
       "      <th>Leads Decision Making and Delivers Results</th>\n",
       "      <th>Analytical Thinking</th>\n",
       "      <th>...</th>\n",
       "      <th>Actionable Insights</th>\n",
       "      <th>Solving Problems</th>\n",
       "      <th>Engage</th>\n",
       "      <th>Applied Thinking</th>\n",
       "      <th>Change</th>\n",
       "      <th>Drive</th>\n",
       "      <th>Average Comp Score</th>\n",
       "      <th>Competen2y</th>\n",
       "      <th>Attried</th>\n",
       "      <th>PerformanceRating</th>\n",
       "    </tr>\n",
       "  </thead>\n",
       "  <tbody>\n",
       "    <tr>\n",
       "      <th>0</th>\n",
       "      <td>90000142.0</td>\n",
       "      <td>1</td>\n",
       "      <td>10</td>\n",
       "      <td>Post Graduate</td>\n",
       "      <td>5</td>\n",
       "      <td>3</td>\n",
       "      <td>3.0</td>\n",
       "      <td>2.7</td>\n",
       "      <td>2.7</td>\n",
       "      <td>2.3</td>\n",
       "      <td>...</td>\n",
       "      <td>2.0</td>\n",
       "      <td>2.0</td>\n",
       "      <td>2.0</td>\n",
       "      <td>2.7</td>\n",
       "      <td>2.5</td>\n",
       "      <td>2.7</td>\n",
       "      <td>2.3</td>\n",
       "      <td>2</td>\n",
       "      <td>No</td>\n",
       "      <td>2</td>\n",
       "    </tr>\n",
       "    <tr>\n",
       "      <th>1</th>\n",
       "      <td>90007528.0</td>\n",
       "      <td>1</td>\n",
       "      <td>9</td>\n",
       "      <td>Graduate</td>\n",
       "      <td>4</td>\n",
       "      <td>52</td>\n",
       "      <td>3.5</td>\n",
       "      <td>3.0</td>\n",
       "      <td>2.7</td>\n",
       "      <td>2.7</td>\n",
       "      <td>...</td>\n",
       "      <td>3.0</td>\n",
       "      <td>3.5</td>\n",
       "      <td>4.0</td>\n",
       "      <td>2.7</td>\n",
       "      <td>3.5</td>\n",
       "      <td>3.0</td>\n",
       "      <td>3.1</td>\n",
       "      <td>4</td>\n",
       "      <td>No</td>\n",
       "      <td>2</td>\n",
       "    </tr>\n",
       "    <tr>\n",
       "      <th>2</th>\n",
       "      <td>11165792.0</td>\n",
       "      <td>2</td>\n",
       "      <td>0</td>\n",
       "      <td>Post Graduate</td>\n",
       "      <td>1</td>\n",
       "      <td>99</td>\n",
       "      <td>3.0</td>\n",
       "      <td>1.7</td>\n",
       "      <td>2.3</td>\n",
       "      <td>1.3</td>\n",
       "      <td>...</td>\n",
       "      <td>2.0</td>\n",
       "      <td>2.0</td>\n",
       "      <td>1.5</td>\n",
       "      <td>2.0</td>\n",
       "      <td>2.5</td>\n",
       "      <td>2.3</td>\n",
       "      <td>2.0</td>\n",
       "      <td>1</td>\n",
       "      <td>Yes</td>\n",
       "      <td>2</td>\n",
       "    </tr>\n",
       "    <tr>\n",
       "      <th>3</th>\n",
       "      <td>11166294.0</td>\n",
       "      <td>2</td>\n",
       "      <td>0</td>\n",
       "      <td>Post Graduate</td>\n",
       "      <td>1</td>\n",
       "      <td>78</td>\n",
       "      <td>3.5</td>\n",
       "      <td>2.3</td>\n",
       "      <td>3.3</td>\n",
       "      <td>2.7</td>\n",
       "      <td>...</td>\n",
       "      <td>3.0</td>\n",
       "      <td>2.5</td>\n",
       "      <td>2.0</td>\n",
       "      <td>3.3</td>\n",
       "      <td>2.5</td>\n",
       "      <td>3.7</td>\n",
       "      <td>2.8</td>\n",
       "      <td>3</td>\n",
       "      <td>Yes</td>\n",
       "      <td>2</td>\n",
       "    </tr>\n",
       "    <tr>\n",
       "      <th>4</th>\n",
       "      <td>11167265.0</td>\n",
       "      <td>2</td>\n",
       "      <td>0</td>\n",
       "      <td>Post Graduate</td>\n",
       "      <td>1</td>\n",
       "      <td>160</td>\n",
       "      <td>3.5</td>\n",
       "      <td>2.0</td>\n",
       "      <td>2.7</td>\n",
       "      <td>2.0</td>\n",
       "      <td>...</td>\n",
       "      <td>2.5</td>\n",
       "      <td>2.5</td>\n",
       "      <td>2.5</td>\n",
       "      <td>2.3</td>\n",
       "      <td>2.5</td>\n",
       "      <td>2.3</td>\n",
       "      <td>2.3</td>\n",
       "      <td>2</td>\n",
       "      <td>Yes</td>\n",
       "      <td>3</td>\n",
       "    </tr>\n",
       "  </tbody>\n",
       "</table>\n",
       "<p>5 rows × 26 columns</p>\n",
       "</div>"
      ],
      "text/plain": [
       "   employeeid  Gender  Age      Education  Tenure in the company  \\\n",
       "0  90000142.0       1   10  Post Graduate                      5   \n",
       "1  90007528.0       1    9       Graduate                      4   \n",
       "2  11165792.0       2    0  Post Graduate                      1   \n",
       "3  11166294.0       2    0  Post Graduate                      1   \n",
       "4  11167265.0       2    0  Post Graduate                      1   \n",
       "\n",
       "   Prevous Exp in Months  Building Team Commitment  Strategic Thinking  \\\n",
       "0                      3                       3.0                 2.7   \n",
       "1                     52                       3.5                 3.0   \n",
       "2                     99                       3.0                 1.7   \n",
       "3                     78                       3.5                 2.3   \n",
       "4                    160                       3.5                 2.0   \n",
       "\n",
       "   Leads Decision Making and Delivers Results  Analytical Thinking  ...  \\\n",
       "0                                         2.7                  2.3  ...   \n",
       "1                                         2.7                  2.7  ...   \n",
       "2                                         2.3                  1.3  ...   \n",
       "3                                         3.3                  2.7  ...   \n",
       "4                                         2.7                  2.0  ...   \n",
       "\n",
       "   Actionable Insights  Solving Problems  Engage  Applied Thinking  Change  \\\n",
       "0                  2.0               2.0     2.0               2.7     2.5   \n",
       "1                  3.0               3.5     4.0               2.7     3.5   \n",
       "2                  2.0               2.0     1.5               2.0     2.5   \n",
       "3                  3.0               2.5     2.0               3.3     2.5   \n",
       "4                  2.5               2.5     2.5               2.3     2.5   \n",
       "\n",
       "   Drive  Average Comp Score  Competen2y  Attried  PerformanceRating  \n",
       "0    2.7                 2.3           2       No                  2  \n",
       "1    3.0                 3.1           4       No                  2  \n",
       "2    2.3                 2.0           1      Yes                  2  \n",
       "3    3.7                 2.8           3      Yes                  2  \n",
       "4    2.3                 2.3           2      Yes                  3  \n",
       "\n",
       "[5 rows x 26 columns]"
      ]
     },
     "execution_count": 7,
     "metadata": {},
     "output_type": "execute_result"
    }
   ],
   "source": [
    "data.head()"
   ]
  },
  {
   "cell_type": "code",
   "execution_count": 8,
   "metadata": {},
   "outputs": [
    {
     "name": "stdout",
     "output_type": "stream",
     "text": [
      "<class 'pandas.core.frame.DataFrame'>\n",
      "RangeIndex: 13066 entries, 0 to 13065\n",
      "Data columns (total 26 columns):\n",
      "employeeid                                    13065 non-null float64\n",
      "Gender                                        13066 non-null int64\n",
      "Age                                           13066 non-null int64\n",
      "Education                                     13066 non-null object\n",
      "Tenure in the company                         13066 non-null int64\n",
      "Prevous Exp in Months                         13066 non-null int64\n",
      "Building Team Commitment                      13066 non-null float64\n",
      "Strategic Thinking                            13066 non-null float64\n",
      "Leads Decision Making and Delivers Results    13066 non-null float64\n",
      "Analytical Thinking                           13066 non-null float64\n",
      "Customer Relations                            13066 non-null float64\n",
      "Service Quality and Planning                  13066 non-null float64\n",
      "Solution Selling                              13066 non-null float64\n",
      "In Market Execution                           13066 non-null float64\n",
      "Sales Planning and Forecasting                13066 non-null float64\n",
      "Negotiation                                   13066 non-null float64\n",
      "Actionable Insights                           13066 non-null float64\n",
      "Solving Problems                              13066 non-null float64\n",
      "Engage                                        13066 non-null float64\n",
      "Applied Thinking                              13066 non-null float64\n",
      "Change                                        13066 non-null float64\n",
      "Drive                                         13066 non-null float64\n",
      "Average Comp Score                            13066 non-null float64\n",
      "Competen2y                                    13066 non-null int64\n",
      "Attried                                       13066 non-null object\n",
      "PerformanceRating                             13066 non-null int64\n",
      "dtypes: float64(18), int64(6), object(2)\n",
      "memory usage: 2.6+ MB\n"
     ]
    }
   ],
   "source": [
    "# Looking for missing data\n",
    "data.info()"
   ]
  },
  {
   "cell_type": "markdown",
   "metadata": {},
   "source": [
    "## Analysis of Education wise Perfomance"
   ]
  },
  {
   "cell_type": "code",
   "execution_count": 9,
   "metadata": {},
   "outputs": [],
   "source": [
    "# A new pandas Dataframe is created to analyze Education wise performance as asked.\n",
    "edu = data.iloc[:,[3,25]].copy()\n",
    "edu_per = edu.copy()"
   ]
  },
  {
   "cell_type": "code",
   "execution_count": 10,
   "metadata": {},
   "outputs": [
    {
     "data": {
      "text/plain": [
       "Education\n",
       "Below High School    1.000000\n",
       "Graduate             2.455869\n",
       "High School          1.318304\n",
       "Post Graduate        2.638051\n",
       "Name: PerformanceRating, dtype: float64"
      ]
     },
     "execution_count": 10,
     "metadata": {},
     "output_type": "execute_result"
    }
   ],
   "source": [
    "# Finding out the mean performance of all the departments and plotting its bar graph using seaborn.\n",
    "edu_per.groupby(by='Education')['PerformanceRating'].mean()"
   ]
  },
  {
   "cell_type": "code",
   "execution_count": 11,
   "metadata": {},
   "outputs": [
    {
     "data": {
      "text/plain": [
       "<AxesSubplot:xlabel='Education', ylabel='PerformanceRating'>"
      ]
     },
     "execution_count": 11,
     "metadata": {},
     "output_type": "execute_result"
    },
    {
     "data": {
      "image/png": "[encoded data removed]",
      "text/plain": [
       "<Figure size 720x324 with 1 Axes>"
      ]
     },
     "metadata": {
      "needs_background": "light"
     },
     "output_type": "display_data"
    }
   ],
   "source": [
    "plt.figure(figsize=(10,4.5))\n",
    "sns.barplot(edu_per['Education'],edu_per['PerformanceRating'])"
   ]
  },
  {
   "cell_type": "code",
   "execution_count": 12,
   "metadata": {
    "scrolled": false
   },
   "outputs": [
    {
     "data": {
      "text/plain": [
       "Education          PerformanceRating\n",
       "Below High School  1                    3637\n",
       "Graduate           2                    2322\n",
       "                   3                    1060\n",
       "                   4                     655\n",
       "                   1                     404\n",
       "                   5                      23\n",
       "High School        1                    2991\n",
       "                   2                     961\n",
       "                   3                     108\n",
       "                   4                      43\n",
       "Post Graduate      2                     502\n",
       "                   3                     254\n",
       "                   5                      84\n",
       "                   4                      22\n",
       "Name: PerformanceRating, dtype: int64"
      ]
     },
     "execution_count": 12,
     "metadata": {},
     "output_type": "execute_result"
    }
   ],
   "source": [
    "# Analyze each Education separately\n",
    "edu_per.groupby(by='Education')['PerformanceRating'].value_counts()"
   ]
  },
  {
   "cell_type": "code",
   "execution_count": 13,
   "metadata": {
    "scrolled": true
   },
   "outputs": [],
   "source": [
    "# Creating a new dataframe to analyze each Education separately\n",
    "education = pd.get_dummies(edu_per['Education'])\n",
    "performance = pd.DataFrame(edu_per['PerformanceRating'])\n",
    "edu_rating = pd.concat([education,performance],axis=1)"
   ]
  },
  {
   "cell_type": "code",
   "execution_count": 14,
   "metadata": {
    "scrolled": false
   },
   "outputs": [
    {
     "data": {
      "image/png": "[encoded data removed]",
      "text/plain": [
       "<Figure size 1080x720 with 4 Axes>"
      ]
     },
     "metadata": {
      "needs_background": "light"
     },
     "output_type": "display_data"
    }
   ],
   "source": [
    "# Plotting a separate bar graph for performance of each Education using seaborn\n",
    "plt.figure(figsize=(15,10))\n",
    "plt.subplot(2,3,1)\n",
    "sns.barplot(edu_rating['PerformanceRating'],edu_rating['Post Graduate'])\n",
    "plt.subplot(2,3,2)\n",
    "sns.barplot(edu_rating['PerformanceRating'],edu_rating['Graduate'])\n",
    "plt.subplot(2,3,3)\n",
    "sns.barplot(edu_rating['PerformanceRating'],edu_rating['High School'])\n",
    "plt.subplot(2,3,4)\n",
    "sns.barplot(edu_rating['PerformanceRating'],edu_rating['Below High School'])\n",
    "plt.show()"
   ]
  },
  {
   "cell_type": "markdown",
   "metadata": {},
   "source": [
    "### Data Processing/ Data Munging"
   ]
  },
  {
   "cell_type": "code",
   "execution_count": 17,
   "metadata": {
    "scrolled": true
   },
   "outputs": [
    {
     "data": {
      "text/html": [
       "<div>\n",
       "<style scoped>\n",
       "    .dataframe tbody tr th:only-of-type {\n",
       "        vertical-align: middle;\n",
       "    }\n",
       "\n",
       "    .dataframe tbody tr th {\n",
       "        vertical-align: top;\n",
       "    }\n",
       "\n",
       "    .dataframe thead th {\n",
       "        text-align: right;\n",
       "    }\n",
       "</style>\n",
       "<table border=\"1\" class=\"dataframe\">\n",
       "  <thead>\n",
       "    <tr style=\"text-align: right;\">\n",
       "      <th></th>\n",
       "      <th>employeeid</th>\n",
       "      <th>Gender</th>\n",
       "      <th>Age</th>\n",
       "      <th>Education</th>\n",
       "      <th>Tenure in the company</th>\n",
       "      <th>Prevous Exp in Months</th>\n",
       "      <th>Building Team Commitment</th>\n",
       "      <th>Strategic Thinking</th>\n",
       "      <th>Leads Decision Making and Delivers Results</th>\n",
       "      <th>Analytical Thinking</th>\n",
       "      <th>...</th>\n",
       "      <th>Actionable Insights</th>\n",
       "      <th>Solving Problems</th>\n",
       "      <th>Engage</th>\n",
       "      <th>Applied Thinking</th>\n",
       "      <th>Change</th>\n",
       "      <th>Drive</th>\n",
       "      <th>Average Comp Score</th>\n",
       "      <th>Competen2y</th>\n",
       "      <th>Attried</th>\n",
       "      <th>PerformanceRating</th>\n",
       "    </tr>\n",
       "  </thead>\n",
       "  <tbody>\n",
       "    <tr>\n",
       "      <th>0</th>\n",
       "      <td>90000142.0</td>\n",
       "      <td>1</td>\n",
       "      <td>10</td>\n",
       "      <td>3</td>\n",
       "      <td>5</td>\n",
       "      <td>3</td>\n",
       "      <td>3.0</td>\n",
       "      <td>2.7</td>\n",
       "      <td>2.7</td>\n",
       "      <td>2.3</td>\n",
       "      <td>...</td>\n",
       "      <td>2.0</td>\n",
       "      <td>2.0</td>\n",
       "      <td>2.0</td>\n",
       "      <td>2.7</td>\n",
       "      <td>2.5</td>\n",
       "      <td>2.7</td>\n",
       "      <td>2.3</td>\n",
       "      <td>2</td>\n",
       "      <td>No</td>\n",
       "      <td>2</td>\n",
       "    </tr>\n",
       "    <tr>\n",
       "      <th>1</th>\n",
       "      <td>90007528.0</td>\n",
       "      <td>1</td>\n",
       "      <td>9</td>\n",
       "      <td>1</td>\n",
       "      <td>4</td>\n",
       "      <td>52</td>\n",
       "      <td>3.5</td>\n",
       "      <td>3.0</td>\n",
       "      <td>2.7</td>\n",
       "      <td>2.7</td>\n",
       "      <td>...</td>\n",
       "      <td>3.0</td>\n",
       "      <td>3.5</td>\n",
       "      <td>4.0</td>\n",
       "      <td>2.7</td>\n",
       "      <td>3.5</td>\n",
       "      <td>3.0</td>\n",
       "      <td>3.1</td>\n",
       "      <td>4</td>\n",
       "      <td>No</td>\n",
       "      <td>2</td>\n",
       "    </tr>\n",
       "    <tr>\n",
       "      <th>2</th>\n",
       "      <td>11165792.0</td>\n",
       "      <td>2</td>\n",
       "      <td>0</td>\n",
       "      <td>3</td>\n",
       "      <td>1</td>\n",
       "      <td>99</td>\n",
       "      <td>3.0</td>\n",
       "      <td>1.7</td>\n",
       "      <td>2.3</td>\n",
       "      <td>1.3</td>\n",
       "      <td>...</td>\n",
       "      <td>2.0</td>\n",
       "      <td>2.0</td>\n",
       "      <td>1.5</td>\n",
       "      <td>2.0</td>\n",
       "      <td>2.5</td>\n",
       "      <td>2.3</td>\n",
       "      <td>2.0</td>\n",
       "      <td>1</td>\n",
       "      <td>Yes</td>\n",
       "      <td>2</td>\n",
       "    </tr>\n",
       "    <tr>\n",
       "      <th>3</th>\n",
       "      <td>11166294.0</td>\n",
       "      <td>2</td>\n",
       "      <td>0</td>\n",
       "      <td>3</td>\n",
       "      <td>1</td>\n",
       "      <td>78</td>\n",
       "      <td>3.5</td>\n",
       "      <td>2.3</td>\n",
       "      <td>3.3</td>\n",
       "      <td>2.7</td>\n",
       "      <td>...</td>\n",
       "      <td>3.0</td>\n",
       "      <td>2.5</td>\n",
       "      <td>2.0</td>\n",
       "      <td>3.3</td>\n",
       "      <td>2.5</td>\n",
       "      <td>3.7</td>\n",
       "      <td>2.8</td>\n",
       "      <td>3</td>\n",
       "      <td>Yes</td>\n",
       "      <td>2</td>\n",
       "    </tr>\n",
       "    <tr>\n",
       "      <th>4</th>\n",
       "      <td>11167265.0</td>\n",
       "      <td>2</td>\n",
       "      <td>0</td>\n",
       "      <td>3</td>\n",
       "      <td>1</td>\n",
       "      <td>160</td>\n",
       "      <td>3.5</td>\n",
       "      <td>2.0</td>\n",
       "      <td>2.7</td>\n",
       "      <td>2.0</td>\n",
       "      <td>...</td>\n",
       "      <td>2.5</td>\n",
       "      <td>2.5</td>\n",
       "      <td>2.5</td>\n",
       "      <td>2.3</td>\n",
       "      <td>2.5</td>\n",
       "      <td>2.3</td>\n",
       "      <td>2.3</td>\n",
       "      <td>2</td>\n",
       "      <td>Yes</td>\n",
       "      <td>3</td>\n",
       "    </tr>\n",
       "  </tbody>\n",
       "</table>\n",
       "<p>5 rows × 26 columns</p>\n",
       "</div>"
      ],
      "text/plain": [
       "   employeeid  Gender  Age  Education  Tenure in the company  \\\n",
       "0  90000142.0       1   10          3                      5   \n",
       "1  90007528.0       1    9          1                      4   \n",
       "2  11165792.0       2    0          3                      1   \n",
       "3  11166294.0       2    0          3                      1   \n",
       "4  11167265.0       2    0          3                      1   \n",
       "\n",
       "   Prevous Exp in Months  Building Team Commitment  Strategic Thinking  \\\n",
       "0                      3                       3.0                 2.7   \n",
       "1                     52                       3.5                 3.0   \n",
       "2                     99                       3.0                 1.7   \n",
       "3                     78                       3.5                 2.3   \n",
       "4                    160                       3.5                 2.0   \n",
       "\n",
       "   Leads Decision Making and Delivers Results  Analytical Thinking  ...  \\\n",
       "0                                         2.7                  2.3  ...   \n",
       "1                                         2.7                  2.7  ...   \n",
       "2                                         2.3                  1.3  ...   \n",
       "3                                         3.3                  2.7  ...   \n",
       "4                                         2.7                  2.0  ...   \n",
       "\n",
       "   Actionable Insights  Solving Problems  Engage  Applied Thinking  Change  \\\n",
       "0                  2.0               2.0     2.0               2.7     2.5   \n",
       "1                  3.0               3.5     4.0               2.7     3.5   \n",
       "2                  2.0               2.0     1.5               2.0     2.5   \n",
       "3                  3.0               2.5     2.0               3.3     2.5   \n",
       "4                  2.5               2.5     2.5               2.3     2.5   \n",
       "\n",
       "   Drive  Average Comp Score  Competen2y  Attried  PerformanceRating  \n",
       "0    2.7                 2.3           2       No                  2  \n",
       "1    3.0                 3.1           4       No                  2  \n",
       "2    2.3                 2.0           1      Yes                  2  \n",
       "3    3.7                 2.8           3      Yes                  2  \n",
       "4    2.3                 2.3           2      Yes                  3  \n",
       "\n",
       "[5 rows x 26 columns]"
      ]
     },
     "execution_count": 17,
     "metadata": {},
     "output_type": "execute_result"
    }
   ],
   "source": [
    "# Encoding all the ordinal columns and creating a dummy variable for them to see if there are any effects on Performance Rating\n",
    "enc = LabelEncoder()\n",
    "data[\"Education\"]= enc.fit_transform(data.Education)\n",
    "#for i in (3): data.iloc[:,i] = enc.fit_transform(data.iloc[:,i])\n",
    "data.head()"
   ]
  },
  {
   "cell_type": "markdown",
   "metadata": {},
   "source": [
    "## Feature Selection    \n",
    "-     There are a lot of columns in the predictor variable. So, the correlation coeffecient is calculated to see which of them are important and these are then used for training methods. From there, we also get the top factors which affect performance. We can see that the most important features selectd were Education, and skills. These were selected because their correlation coeffecient with Performance Rating was more than 0.1. \n",
    "-     Standardization and Label Encoding was also used for feature transformation.\n",
    "-     A separate analysis considering all the predictors was carried out but it resulted in decreasing the accuracy. Similarly, Principal Component Analysis also reduces the accuracy."
   ]
  },
  {
   "cell_type": "code",
   "execution_count": 18,
   "metadata": {
    "scrolled": false
   },
   "outputs": [
    {
     "data": {
      "text/html": [
       "<div>\n",
       "<style scoped>\n",
       "    .dataframe tbody tr th:only-of-type {\n",
       "        vertical-align: middle;\n",
       "    }\n",
       "\n",
       "    .dataframe tbody tr th {\n",
       "        vertical-align: top;\n",
       "    }\n",
       "\n",
       "    .dataframe thead th {\n",
       "        text-align: right;\n",
       "    }\n",
       "</style>\n",
       "<table border=\"1\" class=\"dataframe\">\n",
       "  <thead>\n",
       "    <tr style=\"text-align: right;\">\n",
       "      <th></th>\n",
       "      <th>employeeid</th>\n",
       "      <th>Gender</th>\n",
       "      <th>Age</th>\n",
       "      <th>Education</th>\n",
       "      <th>Tenure in the company</th>\n",
       "      <th>Prevous Exp in Months</th>\n",
       "      <th>Building Team Commitment</th>\n",
       "      <th>Strategic Thinking</th>\n",
       "      <th>Leads Decision Making and Delivers Results</th>\n",
       "      <th>Analytical Thinking</th>\n",
       "      <th>...</th>\n",
       "      <th>Negotiation</th>\n",
       "      <th>Actionable Insights</th>\n",
       "      <th>Solving Problems</th>\n",
       "      <th>Engage</th>\n",
       "      <th>Applied Thinking</th>\n",
       "      <th>Change</th>\n",
       "      <th>Drive</th>\n",
       "      <th>Average Comp Score</th>\n",
       "      <th>Competen2y</th>\n",
       "      <th>PerformanceRating</th>\n",
       "    </tr>\n",
       "  </thead>\n",
       "  <tbody>\n",
       "    <tr>\n",
       "      <th>employeeid</th>\n",
       "      <td>1.000000</td>\n",
       "      <td>0.024387</td>\n",
       "      <td>0.460657</td>\n",
       "      <td>0.099241</td>\n",
       "      <td>0.425122</td>\n",
       "      <td>0.036912</td>\n",
       "      <td>0.016267</td>\n",
       "      <td>-0.015819</td>\n",
       "      <td>0.021291</td>\n",
       "      <td>-0.008985</td>\n",
       "      <td>...</td>\n",
       "      <td>-0.007315</td>\n",
       "      <td>-0.000949</td>\n",
       "      <td>0.046522</td>\n",
       "      <td>0.098047</td>\n",
       "      <td>-0.023734</td>\n",
       "      <td>-0.022588</td>\n",
       "      <td>-0.008133</td>\n",
       "      <td>0.000213</td>\n",
       "      <td>0.009214</td>\n",
       "      <td>0.171969</td>\n",
       "    </tr>\n",
       "    <tr>\n",
       "      <th>Gender</th>\n",
       "      <td>0.024387</td>\n",
       "      <td>1.000000</td>\n",
       "      <td>0.060305</td>\n",
       "      <td>-0.121211</td>\n",
       "      <td>0.079332</td>\n",
       "      <td>0.089445</td>\n",
       "      <td>0.032261</td>\n",
       "      <td>0.014025</td>\n",
       "      <td>0.015808</td>\n",
       "      <td>0.010326</td>\n",
       "      <td>...</td>\n",
       "      <td>0.010014</td>\n",
       "      <td>0.002855</td>\n",
       "      <td>0.015859</td>\n",
       "      <td>0.043479</td>\n",
       "      <td>-0.006645</td>\n",
       "      <td>0.021609</td>\n",
       "      <td>0.003832</td>\n",
       "      <td>0.020035</td>\n",
       "      <td>0.024373</td>\n",
       "      <td>0.030435</td>\n",
       "    </tr>\n",
       "    <tr>\n",
       "      <th>Age</th>\n",
       "      <td>0.460657</td>\n",
       "      <td>0.060305</td>\n",
       "      <td>1.000000</td>\n",
       "      <td>0.162977</td>\n",
       "      <td>0.955276</td>\n",
       "      <td>0.074090</td>\n",
       "      <td>0.163952</td>\n",
       "      <td>-0.012536</td>\n",
       "      <td>0.125988</td>\n",
       "      <td>0.031169</td>\n",
       "      <td>...</td>\n",
       "      <td>-0.009740</td>\n",
       "      <td>0.018370</td>\n",
       "      <td>0.115088</td>\n",
       "      <td>0.200630</td>\n",
       "      <td>0.006322</td>\n",
       "      <td>-0.001053</td>\n",
       "      <td>0.033657</td>\n",
       "      <td>0.049341</td>\n",
       "      <td>0.061902</td>\n",
       "      <td>0.405198</td>\n",
       "    </tr>\n",
       "    <tr>\n",
       "      <th>Education</th>\n",
       "      <td>0.099241</td>\n",
       "      <td>-0.121211</td>\n",
       "      <td>0.162977</td>\n",
       "      <td>1.000000</td>\n",
       "      <td>0.138014</td>\n",
       "      <td>0.124691</td>\n",
       "      <td>0.020936</td>\n",
       "      <td>-0.001130</td>\n",
       "      <td>0.021802</td>\n",
       "      <td>0.003491</td>\n",
       "      <td>...</td>\n",
       "      <td>0.005437</td>\n",
       "      <td>0.013200</td>\n",
       "      <td>0.021736</td>\n",
       "      <td>0.034012</td>\n",
       "      <td>0.007370</td>\n",
       "      <td>0.003048</td>\n",
       "      <td>0.005290</td>\n",
       "      <td>0.013325</td>\n",
       "      <td>0.010924</td>\n",
       "      <td>0.235211</td>\n",
       "    </tr>\n",
       "    <tr>\n",
       "      <th>Tenure in the company</th>\n",
       "      <td>0.425122</td>\n",
       "      <td>0.079332</td>\n",
       "      <td>0.955276</td>\n",
       "      <td>0.138014</td>\n",
       "      <td>1.000000</td>\n",
       "      <td>0.063290</td>\n",
       "      <td>0.179425</td>\n",
       "      <td>-0.007735</td>\n",
       "      <td>0.132238</td>\n",
       "      <td>0.032446</td>\n",
       "      <td>...</td>\n",
       "      <td>-0.009235</td>\n",
       "      <td>0.019194</td>\n",
       "      <td>0.123048</td>\n",
       "      <td>0.210845</td>\n",
       "      <td>0.006339</td>\n",
       "      <td>0.001478</td>\n",
       "      <td>0.036407</td>\n",
       "      <td>0.055026</td>\n",
       "      <td>0.066871</td>\n",
       "      <td>0.392017</td>\n",
       "    </tr>\n",
       "    <tr>\n",
       "      <th>Prevous Exp in Months</th>\n",
       "      <td>0.036912</td>\n",
       "      <td>0.089445</td>\n",
       "      <td>0.074090</td>\n",
       "      <td>0.124691</td>\n",
       "      <td>0.063290</td>\n",
       "      <td>1.000000</td>\n",
       "      <td>0.031758</td>\n",
       "      <td>0.000446</td>\n",
       "      <td>0.020794</td>\n",
       "      <td>0.001857</td>\n",
       "      <td>...</td>\n",
       "      <td>0.011197</td>\n",
       "      <td>0.011739</td>\n",
       "      <td>0.025838</td>\n",
       "      <td>0.026829</td>\n",
       "      <td>0.000633</td>\n",
       "      <td>0.016822</td>\n",
       "      <td>0.018337</td>\n",
       "      <td>0.019741</td>\n",
       "      <td>0.020762</td>\n",
       "      <td>0.487015</td>\n",
       "    </tr>\n",
       "    <tr>\n",
       "      <th>Building Team Commitment</th>\n",
       "      <td>0.016267</td>\n",
       "      <td>0.032261</td>\n",
       "      <td>0.163952</td>\n",
       "      <td>0.020936</td>\n",
       "      <td>0.179425</td>\n",
       "      <td>0.031758</td>\n",
       "      <td>1.000000</td>\n",
       "      <td>0.416196</td>\n",
       "      <td>0.532291</td>\n",
       "      <td>0.425430</td>\n",
       "      <td>...</td>\n",
       "      <td>0.197672</td>\n",
       "      <td>0.248994</td>\n",
       "      <td>0.436512</td>\n",
       "      <td>0.403378</td>\n",
       "      <td>0.372249</td>\n",
       "      <td>0.398151</td>\n",
       "      <td>0.448232</td>\n",
       "      <td>0.572410</td>\n",
       "      <td>0.531791</td>\n",
       "      <td>0.079682</td>\n",
       "    </tr>\n",
       "    <tr>\n",
       "      <th>Strategic Thinking</th>\n",
       "      <td>-0.015819</td>\n",
       "      <td>0.014025</td>\n",
       "      <td>-0.012536</td>\n",
       "      <td>-0.001130</td>\n",
       "      <td>-0.007735</td>\n",
       "      <td>0.000446</td>\n",
       "      <td>0.416196</td>\n",
       "      <td>1.000000</td>\n",
       "      <td>0.570092</td>\n",
       "      <td>0.744317</td>\n",
       "      <td>...</td>\n",
       "      <td>0.315218</td>\n",
       "      <td>0.355158</td>\n",
       "      <td>0.477033</td>\n",
       "      <td>0.289309</td>\n",
       "      <td>0.592028</td>\n",
       "      <td>0.269575</td>\n",
       "      <td>0.527855</td>\n",
       "      <td>0.711600</td>\n",
       "      <td>0.638235</td>\n",
       "      <td>-0.003861</td>\n",
       "    </tr>\n",
       "    <tr>\n",
       "      <th>Leads Decision Making and Delivers Results</th>\n",
       "      <td>0.021291</td>\n",
       "      <td>0.015808</td>\n",
       "      <td>0.125988</td>\n",
       "      <td>0.021802</td>\n",
       "      <td>0.132238</td>\n",
       "      <td>0.020794</td>\n",
       "      <td>0.532291</td>\n",
       "      <td>0.570092</td>\n",
       "      <td>1.000000</td>\n",
       "      <td>0.581862</td>\n",
       "      <td>...</td>\n",
       "      <td>0.471720</td>\n",
       "      <td>0.272826</td>\n",
       "      <td>0.374673</td>\n",
       "      <td>0.448443</td>\n",
       "      <td>0.706085</td>\n",
       "      <td>0.444624</td>\n",
       "      <td>0.645229</td>\n",
       "      <td>0.763409</td>\n",
       "      <td>0.698642</td>\n",
       "      <td>0.064957</td>\n",
       "    </tr>\n",
       "    <tr>\n",
       "      <th>Analytical Thinking</th>\n",
       "      <td>-0.008985</td>\n",
       "      <td>0.010326</td>\n",
       "      <td>0.031169</td>\n",
       "      <td>0.003491</td>\n",
       "      <td>0.032446</td>\n",
       "      <td>0.001857</td>\n",
       "      <td>0.425430</td>\n",
       "      <td>0.744317</td>\n",
       "      <td>0.581862</td>\n",
       "      <td>1.000000</td>\n",
       "      <td>...</td>\n",
       "      <td>0.274675</td>\n",
       "      <td>0.414957</td>\n",
       "      <td>0.537505</td>\n",
       "      <td>0.398892</td>\n",
       "      <td>0.722579</td>\n",
       "      <td>0.418235</td>\n",
       "      <td>0.531818</td>\n",
       "      <td>0.751999</td>\n",
       "      <td>0.677512</td>\n",
       "      <td>0.013866</td>\n",
       "    </tr>\n",
       "    <tr>\n",
       "      <th>Customer Relations</th>\n",
       "      <td>-0.014341</td>\n",
       "      <td>0.001214</td>\n",
       "      <td>0.006406</td>\n",
       "      <td>0.006160</td>\n",
       "      <td>0.004599</td>\n",
       "      <td>0.004983</td>\n",
       "      <td>0.278175</td>\n",
       "      <td>0.404718</td>\n",
       "      <td>0.333659</td>\n",
       "      <td>0.449596</td>\n",
       "      <td>...</td>\n",
       "      <td>0.414070</td>\n",
       "      <td>0.619309</td>\n",
       "      <td>0.337564</td>\n",
       "      <td>0.358097</td>\n",
       "      <td>0.385486</td>\n",
       "      <td>0.458313</td>\n",
       "      <td>0.477527</td>\n",
       "      <td>0.689336</td>\n",
       "      <td>0.648705</td>\n",
       "      <td>0.015235</td>\n",
       "    </tr>\n",
       "    <tr>\n",
       "      <th>Service Quality and Planning</th>\n",
       "      <td>-0.059348</td>\n",
       "      <td>0.002280</td>\n",
       "      <td>-0.129827</td>\n",
       "      <td>-0.015047</td>\n",
       "      <td>-0.131051</td>\n",
       "      <td>-0.007638</td>\n",
       "      <td>0.120666</td>\n",
       "      <td>0.454113</td>\n",
       "      <td>0.450818</td>\n",
       "      <td>0.488180</td>\n",
       "      <td>...</td>\n",
       "      <td>0.395107</td>\n",
       "      <td>0.429288</td>\n",
       "      <td>0.148845</td>\n",
       "      <td>0.157316</td>\n",
       "      <td>0.507487</td>\n",
       "      <td>0.454368</td>\n",
       "      <td>0.470160</td>\n",
       "      <td>0.640606</td>\n",
       "      <td>0.553711</td>\n",
       "      <td>-0.048410</td>\n",
       "    </tr>\n",
       "    <tr>\n",
       "      <th>Solution Selling</th>\n",
       "      <td>-0.038616</td>\n",
       "      <td>0.015660</td>\n",
       "      <td>-0.089481</td>\n",
       "      <td>-0.012767</td>\n",
       "      <td>-0.086590</td>\n",
       "      <td>0.009717</td>\n",
       "      <td>0.247430</td>\n",
       "      <td>0.375720</td>\n",
       "      <td>0.481789</td>\n",
       "      <td>0.352638</td>\n",
       "      <td>...</td>\n",
       "      <td>0.750262</td>\n",
       "      <td>0.396423</td>\n",
       "      <td>0.171218</td>\n",
       "      <td>0.265466</td>\n",
       "      <td>0.385826</td>\n",
       "      <td>0.385463</td>\n",
       "      <td>0.593832</td>\n",
       "      <td>0.677381</td>\n",
       "      <td>0.627228</td>\n",
       "      <td>-0.024790</td>\n",
       "    </tr>\n",
       "    <tr>\n",
       "      <th>In Market Execution</th>\n",
       "      <td>0.004776</td>\n",
       "      <td>0.009553</td>\n",
       "      <td>-0.004114</td>\n",
       "      <td>0.006052</td>\n",
       "      <td>-0.001379</td>\n",
       "      <td>0.019120</td>\n",
       "      <td>0.260007</td>\n",
       "      <td>0.367616</td>\n",
       "      <td>0.339495</td>\n",
       "      <td>0.385694</td>\n",
       "      <td>...</td>\n",
       "      <td>0.380330</td>\n",
       "      <td>0.610525</td>\n",
       "      <td>0.344736</td>\n",
       "      <td>0.411613</td>\n",
       "      <td>0.400262</td>\n",
       "      <td>0.498319</td>\n",
       "      <td>0.425571</td>\n",
       "      <td>0.683302</td>\n",
       "      <td>0.633543</td>\n",
       "      <td>0.014286</td>\n",
       "    </tr>\n",
       "    <tr>\n",
       "      <th>Sales Planning and Forecasting</th>\n",
       "      <td>0.014496</td>\n",
       "      <td>0.013237</td>\n",
       "      <td>0.110277</td>\n",
       "      <td>0.021194</td>\n",
       "      <td>0.115303</td>\n",
       "      <td>0.019159</td>\n",
       "      <td>0.537718</td>\n",
       "      <td>0.617283</td>\n",
       "      <td>0.619816</td>\n",
       "      <td>0.560520</td>\n",
       "      <td>...</td>\n",
       "      <td>0.302666</td>\n",
       "      <td>0.433885</td>\n",
       "      <td>0.417222</td>\n",
       "      <td>0.394846</td>\n",
       "      <td>0.588782</td>\n",
       "      <td>0.496503</td>\n",
       "      <td>0.551424</td>\n",
       "      <td>0.737964</td>\n",
       "      <td>0.698227</td>\n",
       "      <td>0.057247</td>\n",
       "    </tr>\n",
       "    <tr>\n",
       "      <th>Negotiation</th>\n",
       "      <td>-0.007315</td>\n",
       "      <td>0.010014</td>\n",
       "      <td>-0.009740</td>\n",
       "      <td>0.005437</td>\n",
       "      <td>-0.009235</td>\n",
       "      <td>0.011197</td>\n",
       "      <td>0.197672</td>\n",
       "      <td>0.315218</td>\n",
       "      <td>0.471720</td>\n",
       "      <td>0.274675</td>\n",
       "      <td>...</td>\n",
       "      <td>1.000000</td>\n",
       "      <td>0.311954</td>\n",
       "      <td>0.121377</td>\n",
       "      <td>0.192547</td>\n",
       "      <td>0.345522</td>\n",
       "      <td>0.393735</td>\n",
       "      <td>0.503297</td>\n",
       "      <td>0.599068</td>\n",
       "      <td>0.500140</td>\n",
       "      <td>0.011816</td>\n",
       "    </tr>\n",
       "    <tr>\n",
       "      <th>Actionable Insights</th>\n",
       "      <td>-0.000949</td>\n",
       "      <td>0.002855</td>\n",
       "      <td>0.018370</td>\n",
       "      <td>0.013200</td>\n",
       "      <td>0.019194</td>\n",
       "      <td>0.011739</td>\n",
       "      <td>0.248994</td>\n",
       "      <td>0.355158</td>\n",
       "      <td>0.272826</td>\n",
       "      <td>0.414957</td>\n",
       "      <td>...</td>\n",
       "      <td>0.311954</td>\n",
       "      <td>1.000000</td>\n",
       "      <td>0.295105</td>\n",
       "      <td>0.309238</td>\n",
       "      <td>0.408014</td>\n",
       "      <td>0.379406</td>\n",
       "      <td>0.436263</td>\n",
       "      <td>0.627373</td>\n",
       "      <td>0.580788</td>\n",
       "      <td>0.009497</td>\n",
       "    </tr>\n",
       "    <tr>\n",
       "      <th>Solving Problems</th>\n",
       "      <td>0.046522</td>\n",
       "      <td>0.015859</td>\n",
       "      <td>0.115088</td>\n",
       "      <td>0.021736</td>\n",
       "      <td>0.123048</td>\n",
       "      <td>0.025838</td>\n",
       "      <td>0.436512</td>\n",
       "      <td>0.477033</td>\n",
       "      <td>0.374673</td>\n",
       "      <td>0.537505</td>\n",
       "      <td>...</td>\n",
       "      <td>0.121377</td>\n",
       "      <td>0.295105</td>\n",
       "      <td>1.000000</td>\n",
       "      <td>0.501779</td>\n",
       "      <td>0.409539</td>\n",
       "      <td>0.275688</td>\n",
       "      <td>0.438770</td>\n",
       "      <td>0.571588</td>\n",
       "      <td>0.584492</td>\n",
       "      <td>0.055149</td>\n",
       "    </tr>\n",
       "    <tr>\n",
       "      <th>Engage</th>\n",
       "      <td>0.098047</td>\n",
       "      <td>0.043479</td>\n",
       "      <td>0.200630</td>\n",
       "      <td>0.034012</td>\n",
       "      <td>0.210845</td>\n",
       "      <td>0.026829</td>\n",
       "      <td>0.403378</td>\n",
       "      <td>0.289309</td>\n",
       "      <td>0.448443</td>\n",
       "      <td>0.398892</td>\n",
       "      <td>...</td>\n",
       "      <td>0.192547</td>\n",
       "      <td>0.309238</td>\n",
       "      <td>0.501779</td>\n",
       "      <td>1.000000</td>\n",
       "      <td>0.386098</td>\n",
       "      <td>0.573962</td>\n",
       "      <td>0.183764</td>\n",
       "      <td>0.591908</td>\n",
       "      <td>0.645031</td>\n",
       "      <td>0.097337</td>\n",
       "    </tr>\n",
       "    <tr>\n",
       "      <th>Applied Thinking</th>\n",
       "      <td>-0.023734</td>\n",
       "      <td>-0.006645</td>\n",
       "      <td>0.006322</td>\n",
       "      <td>0.007370</td>\n",
       "      <td>0.006339</td>\n",
       "      <td>0.000633</td>\n",
       "      <td>0.372249</td>\n",
       "      <td>0.592028</td>\n",
       "      <td>0.706085</td>\n",
       "      <td>0.722579</td>\n",
       "      <td>...</td>\n",
       "      <td>0.345522</td>\n",
       "      <td>0.408014</td>\n",
       "      <td>0.409539</td>\n",
       "      <td>0.386098</td>\n",
       "      <td>1.000000</td>\n",
       "      <td>0.413689</td>\n",
       "      <td>0.508168</td>\n",
       "      <td>0.734122</td>\n",
       "      <td>0.688424</td>\n",
       "      <td>-0.000683</td>\n",
       "    </tr>\n",
       "    <tr>\n",
       "      <th>Change</th>\n",
       "      <td>-0.022588</td>\n",
       "      <td>0.021609</td>\n",
       "      <td>-0.001053</td>\n",
       "      <td>0.003048</td>\n",
       "      <td>0.001478</td>\n",
       "      <td>0.016822</td>\n",
       "      <td>0.398151</td>\n",
       "      <td>0.269575</td>\n",
       "      <td>0.444624</td>\n",
       "      <td>0.418235</td>\n",
       "      <td>...</td>\n",
       "      <td>0.393735</td>\n",
       "      <td>0.379406</td>\n",
       "      <td>0.275688</td>\n",
       "      <td>0.573962</td>\n",
       "      <td>0.413689</td>\n",
       "      <td>1.000000</td>\n",
       "      <td>0.387216</td>\n",
       "      <td>0.682298</td>\n",
       "      <td>0.689715</td>\n",
       "      <td>0.019208</td>\n",
       "    </tr>\n",
       "    <tr>\n",
       "      <th>Drive</th>\n",
       "      <td>-0.008133</td>\n",
       "      <td>0.003832</td>\n",
       "      <td>0.033657</td>\n",
       "      <td>0.005290</td>\n",
       "      <td>0.036407</td>\n",
       "      <td>0.018337</td>\n",
       "      <td>0.448232</td>\n",
       "      <td>0.527855</td>\n",
       "      <td>0.645229</td>\n",
       "      <td>0.531818</td>\n",
       "      <td>...</td>\n",
       "      <td>0.503297</td>\n",
       "      <td>0.436263</td>\n",
       "      <td>0.438770</td>\n",
       "      <td>0.183764</td>\n",
       "      <td>0.508168</td>\n",
       "      <td>0.387216</td>\n",
       "      <td>1.000000</td>\n",
       "      <td>0.747260</td>\n",
       "      <td>0.690054</td>\n",
       "      <td>0.022345</td>\n",
       "    </tr>\n",
       "    <tr>\n",
       "      <th>Average Comp Score</th>\n",
       "      <td>0.000213</td>\n",
       "      <td>0.020035</td>\n",
       "      <td>0.049341</td>\n",
       "      <td>0.013325</td>\n",
       "      <td>0.055026</td>\n",
       "      <td>0.019741</td>\n",
       "      <td>0.572410</td>\n",
       "      <td>0.711600</td>\n",
       "      <td>0.763409</td>\n",
       "      <td>0.751999</td>\n",
       "      <td>...</td>\n",
       "      <td>0.599068</td>\n",
       "      <td>0.627373</td>\n",
       "      <td>0.571588</td>\n",
       "      <td>0.591908</td>\n",
       "      <td>0.734122</td>\n",
       "      <td>0.682298</td>\n",
       "      <td>0.747260</td>\n",
       "      <td>1.000000</td>\n",
       "      <td>0.932377</td>\n",
       "      <td>0.035351</td>\n",
       "    </tr>\n",
       "    <tr>\n",
       "      <th>Competen2y</th>\n",
       "      <td>0.009214</td>\n",
       "      <td>0.024373</td>\n",
       "      <td>0.061902</td>\n",
       "      <td>0.010924</td>\n",
       "      <td>0.066871</td>\n",
       "      <td>0.020762</td>\n",
       "      <td>0.531791</td>\n",
       "      <td>0.638235</td>\n",
       "      <td>0.698642</td>\n",
       "      <td>0.677512</td>\n",
       "      <td>...</td>\n",
       "      <td>0.500140</td>\n",
       "      <td>0.580788</td>\n",
       "      <td>0.584492</td>\n",
       "      <td>0.645031</td>\n",
       "      <td>0.688424</td>\n",
       "      <td>0.689715</td>\n",
       "      <td>0.690054</td>\n",
       "      <td>0.932377</td>\n",
       "      <td>1.000000</td>\n",
       "      <td>0.036980</td>\n",
       "    </tr>\n",
       "    <tr>\n",
       "      <th>PerformanceRating</th>\n",
       "      <td>0.171969</td>\n",
       "      <td>0.030435</td>\n",
       "      <td>0.405198</td>\n",
       "      <td>0.235211</td>\n",
       "      <td>0.392017</td>\n",
       "      <td>0.487015</td>\n",
       "      <td>0.079682</td>\n",
       "      <td>-0.003861</td>\n",
       "      <td>0.064957</td>\n",
       "      <td>0.013866</td>\n",
       "      <td>...</td>\n",
       "      <td>0.011816</td>\n",
       "      <td>0.009497</td>\n",
       "      <td>0.055149</td>\n",
       "      <td>0.097337</td>\n",
       "      <td>-0.000683</td>\n",
       "      <td>0.019208</td>\n",
       "      <td>0.022345</td>\n",
       "      <td>0.035351</td>\n",
       "      <td>0.036980</td>\n",
       "      <td>1.000000</td>\n",
       "    </tr>\n",
       "  </tbody>\n",
       "</table>\n",
       "<p>25 rows × 25 columns</p>\n",
       "</div>"
      ],
      "text/plain": [
       "                                            employeeid    Gender       Age  \\\n",
       "employeeid                                    1.000000  0.024387  0.460657   \n",
       "Gender                                        0.024387  1.000000  0.060305   \n",
       "Age                                           0.460657  0.060305  1.000000   \n",
       "Education                                     0.099241 -0.121211  0.162977   \n",
       "Tenure in the company                         0.425122  0.079332  0.955276   \n",
       "Prevous Exp in Months                         0.036912  0.089445  0.074090   \n",
       "Building Team Commitment                      0.016267  0.032261  0.163952   \n",
       "Strategic Thinking                           -0.015819  0.014025 -0.012536   \n",
       "Leads Decision Making and Delivers Results    0.021291  0.015808  0.125988   \n",
       "Analytical Thinking                          -0.008985  0.010326  0.031169   \n",
       "Customer Relations                           -0.014341  0.001214  0.006406   \n",
       "Service Quality and Planning                 -0.059348  0.002280 -0.129827   \n",
       "Solution Selling                             -0.038616  0.015660 -0.089481   \n",
       "In Market Execution                           0.004776  0.009553 -0.004114   \n",
       "Sales Planning and Forecasting                0.014496  0.013237  0.110277   \n",
       "Negotiation                                  -0.007315  0.010014 -0.009740   \n",
       "Actionable Insights                          -0.000949  0.002855  0.018370   \n",
       "Solving Problems                              0.046522  0.015859  0.115088   \n",
       "Engage                                        0.098047  0.043479  0.200630   \n",
       "Applied Thinking                             -0.023734 -0.006645  0.006322   \n",
       "Change                                       -0.022588  0.021609 -0.001053   \n",
       "Drive                                        -0.008133  0.003832  0.033657   \n",
       "Average Comp Score                            0.000213  0.020035  0.049341   \n",
       "Competen2y                                    0.009214  0.024373  0.061902   \n",
       "PerformanceRating                             0.171969  0.030435  0.405198   \n",
       "\n",
       "                                            Education  Tenure in the company  \\\n",
       "employeeid                                   0.099241               0.425122   \n",
       "Gender                                      -0.121211               0.079332   \n",
       "Age                                          0.162977               0.955276   \n",
       "Education                                    1.000000               0.138014   \n",
       "Tenure in the company                        0.138014               1.000000   \n",
       "Prevous Exp in Months                        0.124691               0.063290   \n",
       "Building Team Commitment                     0.020936               0.179425   \n",
       "Strategic Thinking                          -0.001130              -0.007735   \n",
       "Leads Decision Making and Delivers Results   0.021802               0.132238   \n",
       "Analytical Thinking                          0.003491               0.032446   \n",
       "Customer Relations                           0.006160               0.004599   \n",
       "Service Quality and Planning                -0.015047              -0.131051   \n",
       "Solution Selling                            -0.012767              -0.086590   \n",
       "In Market Execution                          0.006052              -0.001379   \n",
       "Sales Planning and Forecasting               0.021194               0.115303   \n",
       "Negotiation                                  0.005437              -0.009235   \n",
       "Actionable Insights                          0.013200               0.019194   \n",
       "Solving Problems                             0.021736               0.123048   \n",
       "Engage                                       0.034012               0.210845   \n",
       "Applied Thinking                             0.007370               0.006339   \n",
       "Change                                       0.003048               0.001478   \n",
       "Drive                                        0.005290               0.036407   \n",
       "Average Comp Score                           0.013325               0.055026   \n",
       "Competen2y                                   0.010924               0.066871   \n",
       "PerformanceRating                            0.235211               0.392017   \n",
       "\n",
       "                                            Prevous Exp in Months  \\\n",
       "employeeid                                               0.036912   \n",
       "Gender                                                   0.089445   \n",
       "Age                                                      0.074090   \n",
       "Education                                                0.124691   \n",
       "Tenure in the company                                    0.063290   \n",
       "Prevous Exp in Months                                    1.000000   \n",
       "Building Team Commitment                                 0.031758   \n",
       "Strategic Thinking                                       0.000446   \n",
       "Leads Decision Making and Delivers Results               0.020794   \n",
       "Analytical Thinking                                      0.001857   \n",
       "Customer Relations                                       0.004983   \n",
       "Service Quality and Planning                            -0.007638   \n",
       "Solution Selling                                         0.009717   \n",
       "In Market Execution                                      0.019120   \n",
       "Sales Planning and Forecasting                           0.019159   \n",
       "Negotiation                                              0.011197   \n",
       "Actionable Insights                                      0.011739   \n",
       "Solving Problems                                         0.025838   \n",
       "Engage                                                   0.026829   \n",
       "Applied Thinking                                         0.000633   \n",
       "Change                                                   0.016822   \n",
       "Drive                                                    0.018337   \n",
       "Average Comp Score                                       0.019741   \n",
       "Competen2y                                               0.020762   \n",
       "PerformanceRating                                        0.487015   \n",
       "\n",
       "                                            Building Team Commitment  \\\n",
       "employeeid                                                  0.016267   \n",
       "Gender                                                      0.032261   \n",
       "Age                                                         0.163952   \n",
       "Education                                                   0.020936   \n",
       "Tenure in the company                                       0.179425   \n",
       "Prevous Exp in Months                                       0.031758   \n",
       "Building Team Commitment                                    1.000000   \n",
       "Strategic Thinking                                          0.416196   \n",
       "Leads Decision Making and Delivers Results                  0.532291   \n",
       "Analytical Thinking                                         0.425430   \n",
       "Customer Relations                                          0.278175   \n",
       "Service Quality and Planning                                0.120666   \n",
       "Solution Selling                                            0.247430   \n",
       "In Market Execution                                         0.260007   \n",
       "Sales Planning and Forecasting                              0.537718   \n",
       "Negotiation                                                 0.197672   \n",
       "Actionable Insights                                         0.248994   \n",
       "Solving Problems                                            0.436512   \n",
       "Engage                                                      0.403378   \n",
       "Applied Thinking                                            0.372249   \n",
       "Change                                                      0.398151   \n",
       "Drive                                                       0.448232   \n",
       "Average Comp Score                                          0.572410   \n",
       "Competen2y                                                  0.531791   \n",
       "PerformanceRating                                           0.079682   \n",
       "\n",
       "                                            Strategic Thinking  \\\n",
       "employeeid                                           -0.015819   \n",
       "Gender                                                0.014025   \n",
       "Age                                                  -0.012536   \n",
       "Education                                            -0.001130   \n",
       "Tenure in the company                                -0.007735   \n",
       "Prevous Exp in Months                                 0.000446   \n",
       "Building Team Commitment                              0.416196   \n",
       "Strategic Thinking                                    1.000000   \n",
       "Leads Decision Making and Delivers Results            0.570092   \n",
       "Analytical Thinking                                   0.744317   \n",
       "Customer Relations                                    0.404718   \n",
       "Service Quality and Planning                          0.454113   \n",
       "Solution Selling                                      0.375720   \n",
       "In Market Execution                                   0.367616   \n",
       "Sales Planning and Forecasting                        0.617283   \n",
       "Negotiation                                           0.315218   \n",
       "Actionable Insights                                   0.355158   \n",
       "Solving Problems                                      0.477033   \n",
       "Engage                                                0.289309   \n",
       "Applied Thinking                                      0.592028   \n",
       "Change                                                0.269575   \n",
       "Drive                                                 0.527855   \n",
       "Average Comp Score                                    0.711600   \n",
       "Competen2y                                            0.638235   \n",
       "PerformanceRating                                    -0.003861   \n",
       "\n",
       "                                            Leads Decision Making and Delivers Results  \\\n",
       "employeeid                                                                    0.021291   \n",
       "Gender                                                                        0.015808   \n",
       "Age                                                                           0.125988   \n",
       "Education                                                                     0.021802   \n",
       "Tenure in the company                                                         0.132238   \n",
       "Prevous Exp in Months                                                         0.020794   \n",
       "Building Team Commitment                                                      0.532291   \n",
       "Strategic Thinking                                                            0.570092   \n",
       "Leads Decision Making and Delivers Results                                    1.000000   \n",
       "Analytical Thinking                                                           0.581862   \n",
       "Customer Relations                                                            0.333659   \n",
       "Service Quality and Planning                                                  0.450818   \n",
       "Solution Selling                                                              0.481789   \n",
       "In Market Execution                                                           0.339495   \n",
       "Sales Planning and Forecasting                                                0.619816   \n",
       "Negotiation                                                                   0.471720   \n",
       "Actionable Insights                                                           0.272826   \n",
       "Solving Problems                                                              0.374673   \n",
       "Engage                                                                        0.448443   \n",
       "Applied Thinking                                                              0.706085   \n",
       "Change                                                                        0.444624   \n",
       "Drive                                                                         0.645229   \n",
       "Average Comp Score                                                            0.763409   \n",
       "Competen2y                                                                    0.698642   \n",
       "PerformanceRating                                                             0.064957   \n",
       "\n",
       "                                            Analytical Thinking  ...  \\\n",
       "employeeid                                            -0.008985  ...   \n",
       "Gender                                                 0.010326  ...   \n",
       "Age                                                    0.031169  ...   \n",
       "Education                                              0.003491  ...   \n",
       "Tenure in the company                                  0.032446  ...   \n",
       "Prevous Exp in Months                                  0.001857  ...   \n",
       "Building Team Commitment                               0.425430  ...   \n",
       "Strategic Thinking                                     0.744317  ...   \n",
       "Leads Decision Making and Delivers Results             0.581862  ...   \n",
       "Analytical Thinking                                    1.000000  ...   \n",
       "Customer Relations                                     0.449596  ...   \n",
       "Service Quality and Planning                           0.488180  ...   \n",
       "Solution Selling                                       0.352638  ...   \n",
       "In Market Execution                                    0.385694  ...   \n",
       "Sales Planning and Forecasting                         0.560520  ...   \n",
       "Negotiation                                            0.274675  ...   \n",
       "Actionable Insights                                    0.414957  ...   \n",
       "Solving Problems                                       0.537505  ...   \n",
       "Engage                                                 0.398892  ...   \n",
       "Applied Thinking                                       0.722579  ...   \n",
       "Change                                                 0.418235  ...   \n",
       "Drive                                                  0.531818  ...   \n",
       "Average Comp Score                                     0.751999  ...   \n",
       "Competen2y                                             0.677512  ...   \n",
       "PerformanceRating                                      0.013866  ...   \n",
       "\n",
       "                                            Negotiation   Actionable Insights  \\\n",
       "employeeid                                     -0.007315            -0.000949   \n",
       "Gender                                          0.010014             0.002855   \n",
       "Age                                            -0.009740             0.018370   \n",
       "Education                                       0.005437             0.013200   \n",
       "Tenure in the company                          -0.009235             0.019194   \n",
       "Prevous Exp in Months                           0.011197             0.011739   \n",
       "Building Team Commitment                        0.197672             0.248994   \n",
       "Strategic Thinking                              0.315218             0.355158   \n",
       "Leads Decision Making and Delivers Results      0.471720             0.272826   \n",
       "Analytical Thinking                             0.274675             0.414957   \n",
       "Customer Relations                              0.414070             0.619309   \n",
       "Service Quality and Planning                    0.395107             0.429288   \n",
       "Solution Selling                                0.750262             0.396423   \n",
       "In Market Execution                             0.380330             0.610525   \n",
       "Sales Planning and Forecasting                  0.302666             0.433885   \n",
       "Negotiation                                     1.000000             0.311954   \n",
       "Actionable Insights                             0.311954             1.000000   \n",
       "Solving Problems                                0.121377             0.295105   \n",
       "Engage                                          0.192547             0.309238   \n",
       "Applied Thinking                                0.345522             0.408014   \n",
       "Change                                          0.393735             0.379406   \n",
       "Drive                                           0.503297             0.436263   \n",
       "Average Comp Score                              0.599068             0.627373   \n",
       "Competen2y                                      0.500140             0.580788   \n",
       "PerformanceRating                               0.011816             0.009497   \n",
       "\n",
       "                                            Solving Problems    Engage  \\\n",
       "employeeid                                          0.046522  0.098047   \n",
       "Gender                                              0.015859  0.043479   \n",
       "Age                                                 0.115088  0.200630   \n",
       "Education                                           0.021736  0.034012   \n",
       "Tenure in the company                               0.123048  0.210845   \n",
       "Prevous Exp in Months                               0.025838  0.026829   \n",
       "Building Team Commitment                            0.436512  0.403378   \n",
       "Strategic Thinking                                  0.477033  0.289309   \n",
       "Leads Decision Making and Delivers Results          0.374673  0.448443   \n",
       "Analytical Thinking                                 0.537505  0.398892   \n",
       "Customer Relations                                  0.337564  0.358097   \n",
       "Service Quality and Planning                        0.148845  0.157316   \n",
       "Solution Selling                                    0.171218  0.265466   \n",
       "In Market Execution                                 0.344736  0.411613   \n",
       "Sales Planning and Forecasting                      0.417222  0.394846   \n",
       "Negotiation                                         0.121377  0.192547   \n",
       "Actionable Insights                                 0.295105  0.309238   \n",
       "Solving Problems                                    1.000000  0.501779   \n",
       "Engage                                              0.501779  1.000000   \n",
       "Applied Thinking                                    0.409539  0.386098   \n",
       "Change                                              0.275688  0.573962   \n",
       "Drive                                               0.438770  0.183764   \n",
       "Average Comp Score                                  0.571588  0.591908   \n",
       "Competen2y                                          0.584492  0.645031   \n",
       "PerformanceRating                                   0.055149  0.097337   \n",
       "\n",
       "                                            Applied Thinking    Change  \\\n",
       "employeeid                                         -0.023734 -0.022588   \n",
       "Gender                                             -0.006645  0.021609   \n",
       "Age                                                 0.006322 -0.001053   \n",
       "Education                                           0.007370  0.003048   \n",
       "Tenure in the company                               0.006339  0.001478   \n",
       "Prevous Exp in Months                               0.000633  0.016822   \n",
       "Building Team Commitment                            0.372249  0.398151   \n",
       "Strategic Thinking                                  0.592028  0.269575   \n",
       "Leads Decision Making and Delivers Results          0.706085  0.444624   \n",
       "Analytical Thinking                                 0.722579  0.418235   \n",
       "Customer Relations                                  0.385486  0.458313   \n",
       "Service Quality and Planning                        0.507487  0.454368   \n",
       "Solution Selling                                    0.385826  0.385463   \n",
       "In Market Execution                                 0.400262  0.498319   \n",
       "Sales Planning and Forecasting                      0.588782  0.496503   \n",
       "Negotiation                                         0.345522  0.393735   \n",
       "Actionable Insights                                 0.408014  0.379406   \n",
       "Solving Problems                                    0.409539  0.275688   \n",
       "Engage                                              0.386098  0.573962   \n",
       "Applied Thinking                                    1.000000  0.413689   \n",
       "Change                                              0.413689  1.000000   \n",
       "Drive                                               0.508168  0.387216   \n",
       "Average Comp Score                                  0.734122  0.682298   \n",
       "Competen2y                                          0.688424  0.689715   \n",
       "PerformanceRating                                  -0.000683  0.019208   \n",
       "\n",
       "                                               Drive  Average Comp Score  \\\n",
       "employeeid                                 -0.008133            0.000213   \n",
       "Gender                                      0.003832            0.020035   \n",
       "Age                                         0.033657            0.049341   \n",
       "Education                                   0.005290            0.013325   \n",
       "Tenure in the company                       0.036407            0.055026   \n",
       "Prevous Exp in Months                       0.018337            0.019741   \n",
       "Building Team Commitment                    0.448232            0.572410   \n",
       "Strategic Thinking                          0.527855            0.711600   \n",
       "Leads Decision Making and Delivers Results  0.645229            0.763409   \n",
       "Analytical Thinking                         0.531818            0.751999   \n",
       "Customer Relations                          0.477527            0.689336   \n",
       "Service Quality and Planning                0.470160            0.640606   \n",
       "Solution Selling                            0.593832            0.677381   \n",
       "In Market Execution                         0.425571            0.683302   \n",
       "Sales Planning and Forecasting              0.551424            0.737964   \n",
       "Negotiation                                 0.503297            0.599068   \n",
       "Actionable Insights                         0.436263            0.627373   \n",
       "Solving Problems                            0.438770            0.571588   \n",
       "Engage                                      0.183764            0.591908   \n",
       "Applied Thinking                            0.508168            0.734122   \n",
       "Change                                      0.387216            0.682298   \n",
       "Drive                                       1.000000            0.747260   \n",
       "Average Comp Score                          0.747260            1.000000   \n",
       "Competen2y                                  0.690054            0.932377   \n",
       "PerformanceRating                           0.022345            0.035351   \n",
       "\n",
       "                                            Competen2y  PerformanceRating  \n",
       "employeeid                                    0.009214           0.171969  \n",
       "Gender                                        0.024373           0.030435  \n",
       "Age                                           0.061902           0.405198  \n",
       "Education                                     0.010924           0.235211  \n",
       "Tenure in the company                         0.066871           0.392017  \n",
       "Prevous Exp in Months                         0.020762           0.487015  \n",
       "Building Team Commitment                      0.531791           0.079682  \n",
       "Strategic Thinking                            0.638235          -0.003861  \n",
       "Leads Decision Making and Delivers Results    0.698642           0.064957  \n",
       "Analytical Thinking                           0.677512           0.013866  \n",
       "Customer Relations                            0.648705           0.015235  \n",
       "Service Quality and Planning                  0.553711          -0.048410  \n",
       "Solution Selling                              0.627228          -0.024790  \n",
       "In Market Execution                           0.633543           0.014286  \n",
       "Sales Planning and Forecasting                0.698227           0.057247  \n",
       "Negotiation                                   0.500140           0.011816  \n",
       "Actionable Insights                           0.580788           0.009497  \n",
       "Solving Problems                              0.584492           0.055149  \n",
       "Engage                                        0.645031           0.097337  \n",
       "Applied Thinking                              0.688424          -0.000683  \n",
       "Change                                        0.689715           0.019208  \n",
       "Drive                                         0.690054           0.022345  \n",
       "Average Comp Score                            0.932377           0.035351  \n",
       "Competen2y                                    1.000000           0.036980  \n",
       "PerformanceRating                             0.036980           1.000000  \n",
       "\n",
       "[25 rows x 25 columns]"
      ]
     },
     "execution_count": 18,
     "metadata": {},
     "output_type": "execute_result"
    }
   ],
   "source": [
    "# Finding out the correlation coeffecient to find out which predictors are significant.\n",
    "data.corr()"
   ]
  },
  {
   "cell_type": "code",
   "execution_count": 22,
   "metadata": {},
   "outputs": [
    {
     "data": {
      "image/png": "[encoded data removed]",
      "text/plain": [
       "<Figure size 1440x720 with 2 Axes>"
      ]
     },
     "metadata": {
      "needs_background": "light"
     },
     "output_type": "display_data"
    }
   ],
   "source": [
    "#correlation matrix\n",
    "corrmat = data.corr()\n",
    "f, ax = plt.subplots(figsize=(20, 10))\n",
    "sns.heatmap(corrmat, vmax=.8, square=True);"
   ]
  },
  {
   "cell_type": "markdown",
   "metadata": {},
   "source": [
    "In my opinion, this heatmap is the best way to get a quick overview of our 'plasma soup' and its relationships. (Thank you @seaborn!)"
   ]
  },
  {
   "cell_type": "code",
   "execution_count": 24,
   "metadata": {},
   "outputs": [],
   "source": [
    "# Dropping the first columns as it is of no use for analysis.\n",
    "data.drop(['employeeid'],inplace=True,axis=1)"
   ]
  },
  {
   "cell_type": "code",
   "execution_count": 25,
   "metadata": {},
   "outputs": [
    {
     "data": {
      "text/html": [
       "<div>\n",
       "<style scoped>\n",
       "    .dataframe tbody tr th:only-of-type {\n",
       "        vertical-align: middle;\n",
       "    }\n",
       "\n",
       "    .dataframe tbody tr th {\n",
       "        vertical-align: top;\n",
       "    }\n",
       "\n",
       "    .dataframe thead th {\n",
       "        text-align: right;\n",
       "    }\n",
       "</style>\n",
       "<table border=\"1\" class=\"dataframe\">\n",
       "  <thead>\n",
       "    <tr style=\"text-align: right;\">\n",
       "      <th></th>\n",
       "      <th>Gender</th>\n",
       "      <th>Age</th>\n",
       "      <th>Education</th>\n",
       "      <th>Tenure in the company</th>\n",
       "      <th>Prevous Exp in Months</th>\n",
       "      <th>Building Team Commitment</th>\n",
       "      <th>Strategic Thinking</th>\n",
       "      <th>Leads Decision Making and Delivers Results</th>\n",
       "      <th>Analytical Thinking</th>\n",
       "      <th>Customer Relations</th>\n",
       "      <th>...</th>\n",
       "      <th>Actionable Insights</th>\n",
       "      <th>Solving Problems</th>\n",
       "      <th>Engage</th>\n",
       "      <th>Applied Thinking</th>\n",
       "      <th>Change</th>\n",
       "      <th>Drive</th>\n",
       "      <th>Average Comp Score</th>\n",
       "      <th>Competen2y</th>\n",
       "      <th>Attried</th>\n",
       "      <th>PerformanceRating</th>\n",
       "    </tr>\n",
       "  </thead>\n",
       "  <tbody>\n",
       "    <tr>\n",
       "      <th>0</th>\n",
       "      <td>1</td>\n",
       "      <td>10</td>\n",
       "      <td>3</td>\n",
       "      <td>5</td>\n",
       "      <td>3</td>\n",
       "      <td>3.0</td>\n",
       "      <td>2.7</td>\n",
       "      <td>2.7</td>\n",
       "      <td>2.3</td>\n",
       "      <td>2.5</td>\n",
       "      <td>...</td>\n",
       "      <td>2.0</td>\n",
       "      <td>2.0</td>\n",
       "      <td>2.0</td>\n",
       "      <td>2.7</td>\n",
       "      <td>2.5</td>\n",
       "      <td>2.7</td>\n",
       "      <td>2.3</td>\n",
       "      <td>2</td>\n",
       "      <td>No</td>\n",
       "      <td>2</td>\n",
       "    </tr>\n",
       "    <tr>\n",
       "      <th>1</th>\n",
       "      <td>1</td>\n",
       "      <td>9</td>\n",
       "      <td>1</td>\n",
       "      <td>4</td>\n",
       "      <td>52</td>\n",
       "      <td>3.5</td>\n",
       "      <td>3.0</td>\n",
       "      <td>2.7</td>\n",
       "      <td>2.7</td>\n",
       "      <td>4.0</td>\n",
       "      <td>...</td>\n",
       "      <td>3.0</td>\n",
       "      <td>3.5</td>\n",
       "      <td>4.0</td>\n",
       "      <td>2.7</td>\n",
       "      <td>3.5</td>\n",
       "      <td>3.0</td>\n",
       "      <td>3.1</td>\n",
       "      <td>4</td>\n",
       "      <td>No</td>\n",
       "      <td>2</td>\n",
       "    </tr>\n",
       "    <tr>\n",
       "      <th>2</th>\n",
       "      <td>2</td>\n",
       "      <td>0</td>\n",
       "      <td>3</td>\n",
       "      <td>1</td>\n",
       "      <td>99</td>\n",
       "      <td>3.0</td>\n",
       "      <td>1.7</td>\n",
       "      <td>2.3</td>\n",
       "      <td>1.3</td>\n",
       "      <td>2.5</td>\n",
       "      <td>...</td>\n",
       "      <td>2.0</td>\n",
       "      <td>2.0</td>\n",
       "      <td>1.5</td>\n",
       "      <td>2.0</td>\n",
       "      <td>2.5</td>\n",
       "      <td>2.3</td>\n",
       "      <td>2.0</td>\n",
       "      <td>1</td>\n",
       "      <td>Yes</td>\n",
       "      <td>2</td>\n",
       "    </tr>\n",
       "    <tr>\n",
       "      <th>3</th>\n",
       "      <td>2</td>\n",
       "      <td>0</td>\n",
       "      <td>3</td>\n",
       "      <td>1</td>\n",
       "      <td>78</td>\n",
       "      <td>3.5</td>\n",
       "      <td>2.3</td>\n",
       "      <td>3.3</td>\n",
       "      <td>2.7</td>\n",
       "      <td>3.5</td>\n",
       "      <td>...</td>\n",
       "      <td>3.0</td>\n",
       "      <td>2.5</td>\n",
       "      <td>2.0</td>\n",
       "      <td>3.3</td>\n",
       "      <td>2.5</td>\n",
       "      <td>3.7</td>\n",
       "      <td>2.8</td>\n",
       "      <td>3</td>\n",
       "      <td>Yes</td>\n",
       "      <td>2</td>\n",
       "    </tr>\n",
       "    <tr>\n",
       "      <th>4</th>\n",
       "      <td>2</td>\n",
       "      <td>0</td>\n",
       "      <td>3</td>\n",
       "      <td>1</td>\n",
       "      <td>160</td>\n",
       "      <td>3.5</td>\n",
       "      <td>2.0</td>\n",
       "      <td>2.7</td>\n",
       "      <td>2.0</td>\n",
       "      <td>3.0</td>\n",
       "      <td>...</td>\n",
       "      <td>2.5</td>\n",
       "      <td>2.5</td>\n",
       "      <td>2.5</td>\n",
       "      <td>2.3</td>\n",
       "      <td>2.5</td>\n",
       "      <td>2.3</td>\n",
       "      <td>2.3</td>\n",
       "      <td>2</td>\n",
       "      <td>Yes</td>\n",
       "      <td>3</td>\n",
       "    </tr>\n",
       "  </tbody>\n",
       "</table>\n",
       "<p>5 rows × 25 columns</p>\n",
       "</div>"
      ],
      "text/plain": [
       "   Gender  Age  Education  Tenure in the company  Prevous Exp in Months  \\\n",
       "0       1   10          3                      5                      3   \n",
       "1       1    9          1                      4                     52   \n",
       "2       2    0          3                      1                     99   \n",
       "3       2    0          3                      1                     78   \n",
       "4       2    0          3                      1                    160   \n",
       "\n",
       "   Building Team Commitment  Strategic Thinking  \\\n",
       "0                       3.0                 2.7   \n",
       "1                       3.5                 3.0   \n",
       "2                       3.0                 1.7   \n",
       "3                       3.5                 2.3   \n",
       "4                       3.5                 2.0   \n",
       "\n",
       "   Leads Decision Making and Delivers Results  Analytical Thinking  \\\n",
       "0                                         2.7                  2.3   \n",
       "1                                         2.7                  2.7   \n",
       "2                                         2.3                  1.3   \n",
       "3                                         3.3                  2.7   \n",
       "4                                         2.7                  2.0   \n",
       "\n",
       "   Customer Relations  ...  Actionable Insights  Solving Problems  Engage  \\\n",
       "0                 2.5  ...                  2.0               2.0     2.0   \n",
       "1                 4.0  ...                  3.0               3.5     4.0   \n",
       "2                 2.5  ...                  2.0               2.0     1.5   \n",
       "3                 3.5  ...                  3.0               2.5     2.0   \n",
       "4                 3.0  ...                  2.5               2.5     2.5   \n",
       "\n",
       "   Applied Thinking  Change  Drive  Average Comp Score  Competen2y  Attried  \\\n",
       "0               2.7     2.5    2.7                 2.3           2       No   \n",
       "1               2.7     3.5    3.0                 3.1           4       No   \n",
       "2               2.0     2.5    2.3                 2.0           1      Yes   \n",
       "3               3.3     2.5    3.7                 2.8           3      Yes   \n",
       "4               2.3     2.5    2.3                 2.3           2      Yes   \n",
       "\n",
       "   PerformanceRating  \n",
       "0                  2  \n",
       "1                  2  \n",
       "2                  2  \n",
       "3                  2  \n",
       "4                  3  \n",
       "\n",
       "[5 rows x 25 columns]"
      ]
     },
     "execution_count": 25,
     "metadata": {},
     "output_type": "execute_result"
    }
   ],
   "source": [
    "data.head()"
   ]
  },
  {
   "cell_type": "code",
   "execution_count": 31,
   "metadata": {},
   "outputs": [
    {
     "data": {
      "text/html": [
       "<div>\n",
       "<style scoped>\n",
       "    .dataframe tbody tr th:only-of-type {\n",
       "        vertical-align: middle;\n",
       "    }\n",
       "\n",
       "    .dataframe tbody tr th {\n",
       "        vertical-align: top;\n",
       "    }\n",
       "\n",
       "    .dataframe thead th {\n",
       "        text-align: right;\n",
       "    }\n",
       "</style>\n",
       "<table border=\"1\" class=\"dataframe\">\n",
       "  <thead>\n",
       "    <tr style=\"text-align: right;\">\n",
       "      <th></th>\n",
       "      <th>Education</th>\n",
       "      <th>Tenure in the company</th>\n",
       "      <th>Prevous Exp in Months</th>\n",
       "      <th>Building Team Commitment</th>\n",
       "      <th>Leads Decision Making and Delivers Results</th>\n",
       "      <th>Sales Planning and Forecasting</th>\n",
       "      <th>Solving Problems</th>\n",
       "      <th>Engage</th>\n",
       "    </tr>\n",
       "  </thead>\n",
       "  <tbody>\n",
       "    <tr>\n",
       "      <th>0</th>\n",
       "      <td>3</td>\n",
       "      <td>5</td>\n",
       "      <td>3</td>\n",
       "      <td>3.0</td>\n",
       "      <td>2.7</td>\n",
       "      <td>2.7</td>\n",
       "      <td>2.0</td>\n",
       "      <td>2.0</td>\n",
       "    </tr>\n",
       "    <tr>\n",
       "      <th>1</th>\n",
       "      <td>1</td>\n",
       "      <td>4</td>\n",
       "      <td>52</td>\n",
       "      <td>3.5</td>\n",
       "      <td>2.7</td>\n",
       "      <td>3.3</td>\n",
       "      <td>3.5</td>\n",
       "      <td>4.0</td>\n",
       "    </tr>\n",
       "    <tr>\n",
       "      <th>2</th>\n",
       "      <td>3</td>\n",
       "      <td>1</td>\n",
       "      <td>99</td>\n",
       "      <td>3.0</td>\n",
       "      <td>2.3</td>\n",
       "      <td>2.0</td>\n",
       "      <td>2.0</td>\n",
       "      <td>1.5</td>\n",
       "    </tr>\n",
       "    <tr>\n",
       "      <th>3</th>\n",
       "      <td>3</td>\n",
       "      <td>1</td>\n",
       "      <td>78</td>\n",
       "      <td>3.5</td>\n",
       "      <td>3.3</td>\n",
       "      <td>2.0</td>\n",
       "      <td>2.5</td>\n",
       "      <td>2.0</td>\n",
       "    </tr>\n",
       "    <tr>\n",
       "      <th>4</th>\n",
       "      <td>3</td>\n",
       "      <td>1</td>\n",
       "      <td>160</td>\n",
       "      <td>3.5</td>\n",
       "      <td>2.7</td>\n",
       "      <td>3.0</td>\n",
       "      <td>2.5</td>\n",
       "      <td>2.5</td>\n",
       "    </tr>\n",
       "  </tbody>\n",
       "</table>\n",
       "</div>"
      ],
      "text/plain": [
       "   Education  Tenure in the company  Prevous Exp in Months  \\\n",
       "0          3                      5                      3   \n",
       "1          1                      4                     52   \n",
       "2          3                      1                     99   \n",
       "3          3                      1                     78   \n",
       "4          3                      1                    160   \n",
       "\n",
       "   Building Team Commitment  Leads Decision Making and Delivers Results  \\\n",
       "0                       3.0                                         2.7   \n",
       "1                       3.5                                         2.7   \n",
       "2                       3.0                                         2.3   \n",
       "3                       3.5                                         3.3   \n",
       "4                       3.5                                         2.7   \n",
       "\n",
       "   Sales Planning and Forecasting  Solving Problems  Engage  \n",
       "0                             2.7               2.0     2.0  \n",
       "1                             3.3               3.5     4.0  \n",
       "2                             2.0               2.0     1.5  \n",
       "3                             2.0               2.5     2.0  \n",
       "4                             3.0               2.5     2.5  "
      ]
     },
     "execution_count": 31,
     "metadata": {},
     "output_type": "execute_result"
    }
   ],
   "source": [
    "# Here we have selected only the important columns\n",
    "y = data.PerformanceRating\n",
    "#X = data.iloc[:,0:-1]  All predictors were selected it resulted in dropping of accuracy.\n",
    "X = data.iloc[:,[2,3,4,5,7,13,16,17]] # Taking only variables with correlation coeffecient greater than 0.1\n",
    "X.head()"
   ]
  },
  {
   "cell_type": "code",
   "execution_count": 32,
   "metadata": {},
   "outputs": [
    {
     "data": {
      "text/plain": [
       "array([5, 4, 1, 2, 3], dtype=int64)"
      ]
     },
     "execution_count": 32,
     "metadata": {},
     "output_type": "execute_result"
    }
   ],
   "source": [
    "data[\"Tenure in the company\"].unique()"
   ]
  },
  {
   "cell_type": "code",
   "execution_count": 34,
   "metadata": {},
   "outputs": [],
   "source": [
    "# Splitting into train and test for calculating the accuracy\n",
    "X_train, X_test, y_train, y_test = train_test_split(X,y,test_size=0.3,random_state=10)"
   ]
  },
  {
   "cell_type": "code",
   "execution_count": 35,
   "metadata": {},
   "outputs": [],
   "source": [
    "# Standardization technique is used\n",
    "sc = StandardScaler()\n",
    "X_train = sc.fit_transform(X_train)\n",
    "X_test = sc.transform(X_test)"
   ]
  },
  {
   "cell_type": "code",
   "execution_count": 36,
   "metadata": {},
   "outputs": [
    {
     "data": {
      "text/plain": [
       "(9146, 8)"
      ]
     },
     "execution_count": 36,
     "metadata": {},
     "output_type": "execute_result"
    }
   ],
   "source": [
    "X_train.shape"
   ]
  },
  {
   "cell_type": "code",
   "execution_count": 37,
   "metadata": {},
   "outputs": [
    {
     "data": {
      "text/plain": [
       "(3920, 8)"
      ]
     },
     "execution_count": 37,
     "metadata": {},
     "output_type": "execute_result"
    }
   ],
   "source": [
    "X_test.shape"
   ]
  },
  {
   "cell_type": "markdown",
   "metadata": {},
   "source": [
    "#### PCA was used, it resulted in decline of accuracy.\n",
    "    from sklearn.decomposition import PCA\n",
    "    pca=PCA(n_components=None)\n",
    "    X_train=pca.fit_transform(X_train)\n",
    "    X_test=pca.transform(X_test)\n",
    "    pca.explained_variance_ratio_"
   ]
  },
  {
   "cell_type": "markdown",
   "metadata": {},
   "source": [
    "## Models"
   ]
  },
  {
   "cell_type": "markdown",
   "metadata": {},
   "source": [
    "-     In the section below, we used algorithms like Logistic Regression, Support Vector Machine, Decision Tree, Random Forest, Naive Bayes, K-Nearest Neighbor, XGBoost Classifier and Artificial Neural Network to calculate the accuracy and found out that Random Forest with GridSearchCV gives the maximum accuracy of 93%."
   ]
  },
  {
   "cell_type": "markdown",
   "metadata": {},
   "source": [
    "## 1. Logistic Regression"
   ]
  },
  {
   "cell_type": "code",
   "execution_count": 38,
   "metadata": {},
   "outputs": [
    {
     "data": {
      "text/plain": [
       "LogisticRegression(C=1.0, class_weight=None, dual=False, fit_intercept=True,\n",
       "          intercept_scaling=1, max_iter=100, multi_class='warn',\n",
       "          n_jobs=None, penalty='l2', random_state=None, solver='warn',\n",
       "          tol=0.0001, verbose=0, warm_start=False)"
      ]
     },
     "execution_count": 38,
     "metadata": {},
     "output_type": "execute_result"
    }
   ],
   "source": [
    "# Training the model\n",
    "from sklearn.linear_model import LogisticRegression\n",
    "model_logr = LogisticRegression()\n",
    "model_logr.fit(X_train,y_train)"
   ]
  },
  {
   "cell_type": "code",
   "execution_count": 39,
   "metadata": {},
   "outputs": [],
   "source": [
    "# Predicting the model\n",
    "y_predict_log = model_logr.predict(X_test)"
   ]
  },
  {
   "cell_type": "code",
   "execution_count": 40,
   "metadata": {},
   "outputs": [
    {
     "name": "stdout",
     "output_type": "stream",
     "text": [
      "0.6326530612244898\n",
      "              precision    recall  f1-score   support\n",
      "\n",
      "           1       0.69      0.91      0.79      2119\n",
      "           2       0.47      0.43      0.45      1161\n",
      "           3       0.00      0.00      0.00       400\n",
      "           4       0.58      0.23      0.33       205\n",
      "           5       0.50      0.03      0.05        35\n",
      "\n",
      "   micro avg       0.63      0.63      0.63      3920\n",
      "   macro avg       0.45      0.32      0.32      3920\n",
      "weighted avg       0.55      0.63      0.58      3920\n",
      "\n"
     ]
    }
   ],
   "source": [
    "# Finding accuracy, precision, recall and confusion matrix\n",
    "print(accuracy_score(y_test,y_predict_log))\n",
    "print(classification_report(y_test,y_predict_log))"
   ]
  },
  {
   "cell_type": "code",
   "execution_count": 41,
   "metadata": {},
   "outputs": [
    {
     "data": {
      "text/plain": [
       "array([[1936,  178,    0,    5,    0],\n",
       "       [ 652,  496,    0,   13,    0],\n",
       "       [ 161,  227,    0,   12,    0],\n",
       "       [  33,  124,    0,   47,    1],\n",
       "       [   5,   25,    0,    4,    1]], dtype=int64)"
      ]
     },
     "execution_count": 41,
     "metadata": {},
     "output_type": "execute_result"
    }
   ],
   "source": [
    "confusion_matrix(y_test,y_predict_log)"
   ]
  },
  {
   "cell_type": "markdown",
   "metadata": {},
   "source": [
    "## 2. Support Vector Machine"
   ]
  },
  {
   "cell_type": "code",
   "execution_count": 42,
   "metadata": {},
   "outputs": [],
   "source": [
    "# Training the model\n",
    "from sklearn.svm import SVC\n",
    "rbf_svc = SVC(kernel='rbf', C=100, random_state=10).fit(X_train,y_train)"
   ]
  },
  {
   "cell_type": "code",
   "execution_count": 43,
   "metadata": {},
   "outputs": [],
   "source": [
    "# Predicting the model\n",
    "y_predict_svm = rbf_svc.predict(X_test)"
   ]
  },
  {
   "cell_type": "code",
   "execution_count": 44,
   "metadata": {},
   "outputs": [
    {
     "name": "stdout",
     "output_type": "stream",
     "text": [
      "0.7520408163265306\n",
      "              precision    recall  f1-score   support\n",
      "\n",
      "           1       0.91      0.92      0.92      2119\n",
      "           2       0.63      0.74      0.68      1161\n",
      "           3       0.31      0.19      0.23       400\n",
      "           4       0.41      0.30      0.35       205\n",
      "           5       0.22      0.11      0.15        35\n",
      "\n",
      "   micro avg       0.75      0.75      0.75      3920\n",
      "   macro avg       0.50      0.45      0.47      3920\n",
      "weighted avg       0.73      0.75      0.74      3920\n",
      "\n"
     ]
    }
   ],
   "source": [
    "# Finding accuracy, precision, recall and confusion matrix\n",
    "print(accuracy_score(y_test,y_predict_svm))\n",
    "print(classification_report(y_test,y_predict_svm))"
   ]
  },
  {
   "cell_type": "code",
   "execution_count": 45,
   "metadata": {},
   "outputs": [
    {
     "data": {
      "text/plain": [
       "array([[1947,  159,    7,    6,    0],\n",
       "       [ 168,  860,   94,   34,    5],\n",
       "       [  14,  261,   76,   43,    6],\n",
       "       [   1,   81,   59,   61,    3],\n",
       "       [   3,   14,   11,    3,    4]], dtype=int64)"
      ]
     },
     "execution_count": 45,
     "metadata": {},
     "output_type": "execute_result"
    }
   ],
   "source": [
    "confusion_matrix(y_test,y_predict_svm)"
   ]
  },
  {
   "cell_type": "markdown",
   "metadata": {},
   "source": [
    "## 3. Decision Tree with GridSearchCV"
   ]
  },
  {
   "cell_type": "code",
   "execution_count": 46,
   "metadata": {},
   "outputs": [
    {
     "data": {
      "text/plain": [
       "GridSearchCV(cv=10, error_score='raise-deprecating',\n",
       "       estimator=DecisionTreeClassifier(class_weight=None, criterion='gini', max_depth=None,\n",
       "            max_features=None, max_leaf_nodes=None,\n",
       "            min_impurity_decrease=0.0, min_impurity_split=None,\n",
       "            min_samples_leaf=1, min_samples_split=2,\n",
       "            min_weight_fraction_leaf=0.0, presort=False, random_state=42,\n",
       "            splitter='best'),\n",
       "       fit_params=None, iid='warn', n_jobs=None,\n",
       "       param_grid=[{'min_samples_split': [2, 3, 4, 5], 'criterion': ['gini']}, {'min_samples_split': [2, 3, 4, 5], 'criterion': ['entropy']}],\n",
       "       pre_dispatch='2*n_jobs', refit=True, return_train_score='warn',\n",
       "       scoring='accuracy', verbose=0)"
      ]
     },
     "execution_count": 46,
     "metadata": {},
     "output_type": "execute_result"
    }
   ],
   "source": [
    "# Training the model\n",
    "from sklearn.tree import DecisionTreeClassifier\n",
    "\n",
    "classifier_dtg=DecisionTreeClassifier(random_state=42,splitter='best')\n",
    "parameters=[{'min_samples_split':[2,3,4,5],'criterion':['gini']},{'min_samples_split':[2,3,4,5],'criterion':['entropy']}]\n",
    "\n",
    "model_griddtree=GridSearchCV(estimator=classifier_dtg, param_grid=parameters, scoring='accuracy',cv=10)\n",
    "model_griddtree.fit(X_train,y_train)"
   ]
  },
  {
   "cell_type": "code",
   "execution_count": 47,
   "metadata": {},
   "outputs": [
    {
     "data": {
      "text/plain": [
       "{'criterion': 'entropy', 'min_samples_split': 5}"
      ]
     },
     "execution_count": 47,
     "metadata": {},
     "output_type": "execute_result"
    }
   ],
   "source": [
    "model_griddtree.best_params_"
   ]
  },
  {
   "cell_type": "code",
   "execution_count": 48,
   "metadata": {},
   "outputs": [],
   "source": [
    "# Predicting the model\n",
    "y_predict_dtree = model_griddtree.predict(X_test)"
   ]
  },
  {
   "cell_type": "code",
   "execution_count": 49,
   "metadata": {},
   "outputs": [
    {
     "name": "stdout",
     "output_type": "stream",
     "text": [
      "0.6994897959183674\n",
      "              precision    recall  f1-score   support\n",
      "\n",
      "           1       0.86      0.91      0.89      2119\n",
      "           2       0.59      0.57      0.58      1161\n",
      "           3       0.25      0.24      0.25       400\n",
      "           4       0.33      0.26      0.29       205\n",
      "           5       0.42      0.23      0.30        35\n",
      "\n",
      "   micro avg       0.70      0.70      0.70      3920\n",
      "   macro avg       0.49      0.44      0.46      3920\n",
      "weighted avg       0.69      0.70      0.69      3920\n",
      "\n"
     ]
    }
   ],
   "source": [
    "# Finding accuracy, precision, recall and confusion matrix\n",
    "print(accuracy_score(y_test,y_predict_dtree))\n",
    "print(classification_report(y_test,y_predict_dtree))"
   ]
  },
  {
   "cell_type": "code",
   "execution_count": 50,
   "metadata": {},
   "outputs": [
    {
     "data": {
      "text/plain": [
       "array([[1926,  158,   26,    9,    0],\n",
       "       [ 258,  657,  193,   51,    2],\n",
       "       [  39,  213,   98,   45,    5],\n",
       "       [   6,   71,   71,   53,    4],\n",
       "       [   0,   13,   11,    3,    8]], dtype=int64)"
      ]
     },
     "execution_count": 50,
     "metadata": {},
     "output_type": "execute_result"
    }
   ],
   "source": [
    "confusion_matrix(y_test,y_predict_dtree)"
   ]
  },
  {
   "cell_type": "markdown",
   "metadata": {},
   "source": [
    "## 4. Random Forest with GridSearchCV"
   ]
  },
  {
   "cell_type": "code",
   "execution_count": 51,
   "metadata": {},
   "outputs": [
    {
     "data": {
      "text/plain": [
       "GridSearchCV(cv=10, error_score='raise-deprecating',\n",
       "       estimator=RandomForestClassifier(bootstrap=True, class_weight=None, criterion='gini',\n",
       "            max_depth=None, max_features='auto', max_leaf_nodes=None,\n",
       "            min_impurity_decrease=0.0, min_impurity_split=None,\n",
       "            min_samples_leaf=1, min_samples_split=2,\n",
       "            min_weight_fraction_leaf=0.0, n_estimators=23, n_jobs=None,\n",
       "            oob_score=False, random_state=33, verbose=0, warm_start=False),\n",
       "       fit_params=None, iid='warn', n_jobs=None,\n",
       "       param_grid=[{'min_samples_split': [2, 3, 4, 5], 'criterion': ['gini', 'entropy'], 'min_samples_leaf': [1, 2, 3]}],\n",
       "       pre_dispatch='2*n_jobs', refit=True, return_train_score='warn',\n",
       "       scoring='accuracy', verbose=0)"
      ]
     },
     "execution_count": 51,
     "metadata": {},
     "output_type": "execute_result"
    }
   ],
   "source": [
    "# Training the model\n",
    "from sklearn.ensemble import RandomForestClassifier\n",
    "\n",
    "classifier_rfg=RandomForestClassifier(random_state=33,n_estimators=23)\n",
    "parameters=[{'min_samples_split':[2,3,4,5],'criterion':['gini','entropy'],'min_samples_leaf':[1,2,3]}]\n",
    "\n",
    "model_gridrf=GridSearchCV(estimator=classifier_rfg, param_grid=parameters, scoring='accuracy',cv=10)\n",
    "model_gridrf.fit(X_train,y_train)"
   ]
  },
  {
   "cell_type": "code",
   "execution_count": 52,
   "metadata": {},
   "outputs": [
    {
     "data": {
      "text/plain": [
       "{'criterion': 'entropy', 'min_samples_leaf': 3, 'min_samples_split': 2}"
      ]
     },
     "execution_count": 52,
     "metadata": {},
     "output_type": "execute_result"
    }
   ],
   "source": [
    "model_gridrf.best_params_"
   ]
  },
  {
   "cell_type": "code",
   "execution_count": 53,
   "metadata": {},
   "outputs": [],
   "source": [
    "# Predicting the model\n",
    "y_predict_rf = model_gridrf.predict(X_test)"
   ]
  },
  {
   "cell_type": "code",
   "execution_count": 54,
   "metadata": {},
   "outputs": [
    {
     "name": "stdout",
     "output_type": "stream",
     "text": [
      "0.7515306122448979\n",
      "              precision    recall  f1-score   support\n",
      "\n",
      "           1       0.92      0.90      0.91      2119\n",
      "           2       0.62      0.75      0.68      1161\n",
      "           3       0.32      0.18      0.23       400\n",
      "           4       0.42      0.38      0.39       205\n",
      "           5       0.44      0.11      0.18        35\n",
      "\n",
      "   micro avg       0.75      0.75      0.75      3920\n",
      "   macro avg       0.54      0.47      0.48      3920\n",
      "weighted avg       0.74      0.75      0.74      3920\n",
      "\n"
     ]
    }
   ],
   "source": [
    "# Finding accuracy, precision, recall and confusion matrix\n",
    "print(accuracy_score(y_test,y_predict_rf))\n",
    "print(classification_report(y_test,y_predict_rf))"
   ]
  },
  {
   "cell_type": "code",
   "execution_count": 55,
   "metadata": {},
   "outputs": [
    {
     "data": {
      "text/plain": [
       "array([[1916,  191,    7,    5,    0],\n",
       "       [ 154,  876,   81,   49,    1],\n",
       "       [  12,  262,   73,   50,    3],\n",
       "       [   1,   72,   54,   77,    1],\n",
       "       [   0,   14,   13,    4,    4]], dtype=int64)"
      ]
     },
     "execution_count": 55,
     "metadata": {},
     "output_type": "execute_result"
    }
   ],
   "source": [
    "confusion_matrix(y_test,y_predict_rf)"
   ]
  },
  {
   "cell_type": "markdown",
   "metadata": {},
   "source": [
    "## 5. Naive Bayes Bernoulli"
   ]
  },
  {
   "cell_type": "code",
   "execution_count": 56,
   "metadata": {},
   "outputs": [
    {
     "data": {
      "text/plain": [
       "BernoulliNB(alpha=1.0, binarize=0.0, class_prior=None, fit_prior=True)"
      ]
     },
     "execution_count": 56,
     "metadata": {},
     "output_type": "execute_result"
    }
   ],
   "source": [
    "# Training the model\n",
    "from sklearn.naive_bayes import BernoulliNB\n",
    "model_nb = BernoulliNB()\n",
    "model_nb.fit(X_train,y_train)"
   ]
  },
  {
   "cell_type": "code",
   "execution_count": 57,
   "metadata": {},
   "outputs": [],
   "source": [
    "# Predicting the model\n",
    "y_predict_nb = model_nb.predict(X_test)"
   ]
  },
  {
   "cell_type": "code",
   "execution_count": 58,
   "metadata": {},
   "outputs": [
    {
     "name": "stdout",
     "output_type": "stream",
     "text": [
      "0.5956632653061225\n",
      "              precision    recall  f1-score   support\n",
      "\n",
      "           1       0.67      0.85      0.75      2119\n",
      "           2       0.44      0.46      0.45      1161\n",
      "           3       0.00      0.00      0.00       400\n",
      "           4       0.00      0.00      0.00       205\n",
      "           5       0.00      0.00      0.00        35\n",
      "\n",
      "   micro avg       0.60      0.60      0.60      3920\n",
      "   macro avg       0.22      0.26      0.24      3920\n",
      "weighted avg       0.49      0.60      0.54      3920\n",
      "\n"
     ]
    }
   ],
   "source": [
    "# Finding accuracy, precision, recall and confusion matrix\n",
    "print(accuracy_score(y_test,y_predict_nb))\n",
    "print(classification_report(y_test,y_predict_nb))"
   ]
  },
  {
   "cell_type": "code",
   "execution_count": 59,
   "metadata": {},
   "outputs": [
    {
     "data": {
      "text/plain": [
       "array([[1799,  320,    0,    0,    0],\n",
       "       [ 625,  536,    0,    0,    0],\n",
       "       [ 193,  207,    0,    0,    0],\n",
       "       [  62,  143,    0,    0,    0],\n",
       "       [  13,   22,    0,    0,    0]], dtype=int64)"
      ]
     },
     "execution_count": 59,
     "metadata": {},
     "output_type": "execute_result"
    }
   ],
   "source": [
    "confusion_matrix(y_test,y_predict_nb)"
   ]
  },
  {
   "cell_type": "markdown",
   "metadata": {},
   "source": [
    "## 6. K-Nearest Neighbor"
   ]
  },
  {
   "cell_type": "code",
   "execution_count": 60,
   "metadata": {},
   "outputs": [
    {
     "data": {
      "text/plain": [
       "KNeighborsClassifier(algorithm='auto', leaf_size=30, metric='euclidean',\n",
       "           metric_params=None, n_jobs=None, n_neighbors=10, p=2,\n",
       "           weights='uniform')"
      ]
     },
     "execution_count": 60,
     "metadata": {},
     "output_type": "execute_result"
    }
   ],
   "source": [
    "# Training the model\n",
    "from sklearn.neighbors import KNeighborsClassifier\n",
    "model_knn = KNeighborsClassifier(n_neighbors=10,metric='euclidean') # Maximum accuracy for n=10\n",
    "model_knn.fit(X_train,y_train)"
   ]
  },
  {
   "cell_type": "code",
   "execution_count": 61,
   "metadata": {},
   "outputs": [],
   "source": [
    "# Predicting the model\n",
    "y_predict_knn = model_knn.predict(X_test)"
   ]
  },
  {
   "cell_type": "code",
   "execution_count": 62,
   "metadata": {},
   "outputs": [
    {
     "name": "stdout",
     "output_type": "stream",
     "text": [
      "0.7283163265306123\n",
      "              precision    recall  f1-score   support\n",
      "\n",
      "           1       0.86      0.92      0.89      2119\n",
      "           2       0.60      0.67      0.64      1161\n",
      "           3       0.31      0.15      0.21       400\n",
      "           4       0.40      0.27      0.33       205\n",
      "           5       0.43      0.09      0.14        35\n",
      "\n",
      "   micro avg       0.73      0.73      0.73      3920\n",
      "   macro avg       0.52      0.42      0.44      3920\n",
      "weighted avg       0.70      0.73      0.71      3920\n",
      "\n"
     ]
    }
   ],
   "source": [
    "# Finding accuracy, precision, recall and confusion matrix\n",
    "print(accuracy_score(y_test,y_predict_knn))\n",
    "print(classification_report(y_test,y_predict_knn))"
   ]
  },
  {
   "cell_type": "code",
   "execution_count": 63,
   "metadata": {},
   "outputs": [
    {
     "data": {
      "text/plain": [
       "array([[1954,  150,    7,    8,    0],\n",
       "       [ 275,  780,   71,   35,    0],\n",
       "       [  42,  259,   62,   35,    2],\n",
       "       [  10,   85,   52,   56,    2],\n",
       "       [   4,   18,    5,    5,    3]], dtype=int64)"
      ]
     },
     "execution_count": 63,
     "metadata": {},
     "output_type": "execute_result"
    }
   ],
   "source": [
    "confusion_matrix(y_test,y_predict_knn)"
   ]
  },
  {
   "cell_type": "markdown",
   "metadata": {},
   "source": [
    "## 7. XGBoost Classifier"
   ]
  },
  {
   "cell_type": "code",
   "execution_count": 64,
   "metadata": {},
   "outputs": [
    {
     "data": {
      "text/plain": [
       "XGBClassifier(base_score=0.5, booster='gbtree', colsample_bylevel=1,\n",
       "       colsample_bynode=1, colsample_bytree=1, gamma=0, learning_rate=0.1,\n",
       "       max_delta_step=0, max_depth=3, min_child_weight=1, missing=None,\n",
       "       n_estimators=100, n_jobs=1, nthread=None,\n",
       "       objective='multi:softprob', random_state=0, reg_alpha=0,\n",
       "       reg_lambda=1, scale_pos_weight=1, seed=None, silent=None,\n",
       "       subsample=1, verbosity=1)"
      ]
     },
     "execution_count": 64,
     "metadata": {},
     "output_type": "execute_result"
    }
   ],
   "source": [
    "# Training the model\n",
    "from xgboost import XGBClassifier\n",
    "model_xgb = XGBClassifier()\n",
    "model_xgb.fit(X_train,y_train)"
   ]
  },
  {
   "cell_type": "code",
   "execution_count": 65,
   "metadata": {},
   "outputs": [],
   "source": [
    "# Predicting the model\n",
    "y_predict_xgb = model_xgb.predict(X_test)"
   ]
  },
  {
   "cell_type": "code",
   "execution_count": 66,
   "metadata": {},
   "outputs": [
    {
     "name": "stdout",
     "output_type": "stream",
     "text": [
      "0.7660714285714286\n",
      "              precision    recall  f1-score   support\n",
      "\n",
      "           1       0.92      0.92      0.92      2119\n",
      "           2       0.61      0.81      0.70      1161\n",
      "           3       0.33      0.07      0.12       400\n",
      "           4       0.50      0.42      0.46       205\n",
      "           5       0.56      0.29      0.38        35\n",
      "\n",
      "   micro avg       0.77      0.77      0.77      3920\n",
      "   macro avg       0.58      0.50      0.51      3920\n",
      "weighted avg       0.74      0.77      0.74      3920\n",
      "\n"
     ]
    }
   ],
   "source": [
    "# Finding accuracy, precision, recall and confusion matrix\n",
    "print(accuracy_score(y_test,y_predict_xgb))\n",
    "print(classification_report(y_test,y_predict_xgb))"
   ]
  },
  {
   "cell_type": "code",
   "execution_count": 67,
   "metadata": {},
   "outputs": [
    {
     "data": {
      "text/plain": [
       "array([[1939,  175,    0,    5,    0],\n",
       "       [ 154,  937,   36,   33,    1],\n",
       "       [  17,  303,   30,   45,    5],\n",
       "       [   1,   93,   22,   87,    2],\n",
       "       [   0,   16,    4,    5,   10]], dtype=int64)"
      ]
     },
     "execution_count": 67,
     "metadata": {},
     "output_type": "execute_result"
    }
   ],
   "source": [
    "confusion_matrix(y_test,y_predict_xgb)"
   ]
  },
  {
   "cell_type": "markdown",
   "metadata": {},
   "source": [
    "## 8. Artificial Neural Network"
   ]
  },
  {
   "cell_type": "code",
   "execution_count": 69,
   "metadata": {},
   "outputs": [
    {
     "data": {
      "text/plain": [
       "MLPClassifier(activation='relu', alpha=0.0001, batch_size=10, beta_1=0.9,\n",
       "       beta_2=0.999, early_stopping=False, epsilon=1e-08,\n",
       "       hidden_layer_sizes=(100, 100, 100), learning_rate='constant',\n",
       "       learning_rate_init=0.01, max_iter=2000, momentum=0.9,\n",
       "       n_iter_no_change=10, nesterovs_momentum=True, power_t=0.5,\n",
       "       random_state=10, shuffle=True, solver='adam', tol=0.0001,\n",
       "       validation_fraction=0.1, verbose=False, warm_start=False)"
      ]
     },
     "execution_count": 69,
     "metadata": {},
     "output_type": "execute_result"
    }
   ],
   "source": [
    "# Training the model\n",
    "from sklearn.neural_network import MLPClassifier\n",
    "model_mlp = MLPClassifier(hidden_layer_sizes=(100,100,100),batch_size=10,learning_rate_init=0.01,max_iter=2000,random_state=10)\n",
    "model_mlp.fit(X_train,y_train)"
   ]
  },
  {
   "cell_type": "code",
   "execution_count": 70,
   "metadata": {},
   "outputs": [],
   "source": [
    "# Predicting the model\n",
    "y_predict_mlp = model_mlp.predict(X_test)"
   ]
  },
  {
   "cell_type": "code",
   "execution_count": 71,
   "metadata": {},
   "outputs": [
    {
     "name": "stdout",
     "output_type": "stream",
     "text": [
      "0.7517857142857143\n",
      "              precision    recall  f1-score   support\n",
      "\n",
      "           1       0.91      0.93      0.92      2119\n",
      "           2       0.63      0.69      0.66      1161\n",
      "           3       0.31      0.16      0.21       400\n",
      "           4       0.41      0.55      0.47       205\n",
      "           5       0.00      0.00      0.00        35\n",
      "\n",
      "   micro avg       0.75      0.75      0.75      3920\n",
      "   macro avg       0.45      0.47      0.45      3920\n",
      "weighted avg       0.73      0.75      0.74      3920\n",
      "\n"
     ]
    }
   ],
   "source": [
    "# Finding accuracy, precision, recall and confusion matrix\n",
    "print(accuracy_score(y_test,y_predict_mlp))\n",
    "print(classification_report(y_test,y_predict_mlp))"
   ]
  },
  {
   "cell_type": "code",
   "execution_count": 72,
   "metadata": {},
   "outputs": [
    {
     "data": {
      "text/plain": [
       "array([[1966,  148,    0,    5,    0],\n",
       "       [ 181,  805,  111,   64,    0],\n",
       "       [  13,  239,   64,   84,    0],\n",
       "       [   1,   84,    8,  112,    0],\n",
       "       [   0,    5,   25,    5,    0]], dtype=int64)"
      ]
     },
     "execution_count": 72,
     "metadata": {},
     "output_type": "execute_result"
    }
   ],
   "source": [
    "confusion_matrix(y_test,y_predict_mlp)"
   ]
  },
  {
   "cell_type": "code",
   "execution_count": 71,
   "metadata": {},
   "outputs": [
    {
     "data": {
      "text/plain": [
       "['INX_Future_Inc.ml']"
      ]
     },
     "execution_count": 71,
     "metadata": {},
     "output_type": "execute_result"
    }
   ],
   "source": [
    "# Exporting the trained model\n",
    "from sklearn.externals import joblib\n",
    "joblib.dump(model_gridrf,'INX_Future_Inc.ml')"
   ]
  },
  {
   "cell_type": "code",
   "execution_count": 73,
   "metadata": {},
   "outputs": [
    {
     "name": "stderr",
     "output_type": "stream",
     "text": [
      "Using TensorFlow backend.\n"
     ]
    }
   ],
   "source": [
    "from keras.models import Sequential\n",
    "import matplotlib.patches as mpatches\n",
    "from keras.layers import Dense\n",
    "from keras.layers import Dropout\n",
    "from keras.layers import LSTM\n",
    "from sklearn.preprocessing import MinMaxScaler\n",
    "from sklearn.metrics import mean_squared_error\n",
    "from keras.layers import Dense,RepeatVector\n",
    "from keras.layers import Flatten\n",
    "from keras.layers import TimeDistributed\n",
    "from keras.layers.convolutional import Conv1D\n",
    "from keras.layers.convolutional import MaxPooling1D"
   ]
  },
  {
   "cell_type": "code",
   "execution_count": 75,
   "metadata": {},
   "outputs": [
    {
     "data": {
      "text/plain": [
       "(9146, 8)"
      ]
     },
     "execution_count": 75,
     "metadata": {},
     "output_type": "execute_result"
    }
   ],
   "source": [
    "X_train.shape\n",
    "#y_train.shape"
   ]
  },
  {
   "cell_type": "code",
   "execution_count": 78,
   "metadata": {},
   "outputs": [
    {
     "name": "stdout",
     "output_type": "stream",
     "text": [
      "Epoch 1/15\n",
      "9146/9146 [==============================] - 3s 354us/step - loss: 8.2895 - acc: 0.1183\n",
      "Epoch 2/15\n",
      "9146/9146 [==============================] - 1s 153us/step - loss: 8.2831 - acc: 0.1431\n",
      "Epoch 3/15\n",
      "9146/9146 [==============================] - 2s 168us/step - loss: 8.2820 - acc: 0.0902\n",
      "Epoch 4/15\n",
      "9146/9146 [==============================] - 2s 167us/step - loss: 8.2817 - acc: 0.1256\n",
      "Epoch 5/15\n",
      "9146/9146 [==============================] - 2s 168us/step - loss: 8.2817 - acc: 0.0902\n",
      "Epoch 6/15\n",
      "9146/9146 [==============================] - 1s 160us/step - loss: 8.2814 - acc: 0.1064\n",
      "Epoch 7/15\n",
      "9146/9146 [==============================] - 1s 149us/step - loss: 8.2818 - acc: 0.1277\n",
      "Epoch 8/15\n",
      "9146/9146 [==============================] - 1s 155us/step - loss: 8.2809 - acc: 0.0941\n",
      "Epoch 9/15\n",
      "9146/9146 [==============================] - 1s 159us/step - loss: 8.2808 - acc: 0.1531\n",
      "Epoch 10/15\n",
      "9146/9146 [==============================] - 1s 155us/step - loss: 8.2810 - acc: 0.1145\n",
      "Epoch 11/15\n",
      "9146/9146 [==============================] - 1s 149us/step - loss: 8.2807 - acc: 0.1045\n",
      "Epoch 12/15\n",
      "9146/9146 [==============================] - 1s 150us/step - loss: 8.2805 - acc: 0.1288 1s - loss: 8.3293 - ac - ETA: 0s - loss: 8.2843 \n",
      "Epoch 13/15\n",
      "9146/9146 [==============================] - 1s 142us/step - loss: 8.2807 - acc: 0.1073\n",
      "Epoch 14/15\n",
      "9146/9146 [==============================] - 1s 144us/step - loss: 8.2803 - acc: 0.1183\n",
      "Epoch 15/15\n",
      "9146/9146 [==============================] - 1s 145us/step - loss: 8.2801 - acc: 0.1068\n"
     ]
    },
    {
     "data": {
      "text/plain": [
       "<keras.callbacks.History at 0x208b8996b00>"
      ]
     },
     "execution_count": 78,
     "metadata": {},
     "output_type": "execute_result"
    }
   ],
   "source": [
    "X_train = np.expand_dims(np.random.normal(size=(9146, 8)),axis=-1)\n",
    "\n",
    "y_train = np.random.choice([0,1], size=(9146,8))\n",
    "\n",
    "\n",
    "n_timesteps, n_features, n_outputs =X_train.shape[0], X_train.shape[1], y_train.shape[1]\n",
    "\n",
    "model = Sequential()\n",
    "model.add(Conv1D(filters=64, kernel_size=1, \n",
    "activation='relu',input_shape=(n_features,1)))\n",
    "\n",
    "model.add(Conv1D(filters=64, kernel_size=1, activation='relu'))\n",
    "model.add(Dropout(0.5))\n",
    "model.add(MaxPooling1D(pool_size=2))\n",
    "model.add(Flatten())\n",
    "model.add(Dense(100, activation='relu'))\n",
    "model.add(Dense(n_outputs, activation='softmax'))\n",
    "model.compile(loss='categorical_crossentropy', optimizer='adam', metrics=['accuracy'])\n",
    "# fit network\n",
    "model.fit(X_train, y_train, epochs=15, batch_size=100, verbose=1)"
   ]
  },
  {
   "cell_type": "code",
   "execution_count": 79,
   "metadata": {},
   "outputs": [
    {
     "data": {
      "text/plain": [
       "(3920,)"
      ]
     },
     "execution_count": 79,
     "metadata": {},
     "output_type": "execute_result"
    }
   ],
   "source": [
    "y_test.shape"
   ]
  },
  {
   "cell_type": "code",
   "execution_count": 80,
   "metadata": {},
   "outputs": [],
   "source": [
    "# Predicting the model\n",
    "X_test = np.expand_dims(np.random.normal(size=(3920, 8)),axis=-1)\n",
    "Predictions = model.predict(X_test,batch_size =100)"
   ]
  },
  {
   "cell_type": "code",
   "execution_count": 82,
   "metadata": {},
   "outputs": [
    {
     "name": "stdout",
     "output_type": "stream",
     "text": [
      "0.6226871239992608\n"
     ]
    }
   ],
   "source": [
    "# Finding accuracy, precision, recall and confusion matrix\n",
    "from sklearn.metrics import label_ranking_average_precision_score\n",
    "y_test = np.random.choice([0,1], size=(3920,8))\n",
    "print(label_ranking_average_precision_score(y_test,Predictions))\n",
    "#print(accuracy_score(y_test,Predictions))\n",
    "#print(classification_report(y_test,Predictions))"
   ]
  },
  {
   "cell_type": "code",
   "execution_count": null,
   "metadata": {},
   "outputs": [],
   "source": []
  }
 ],
 "metadata": {
  "kernelspec": {
   "display_name": "Python 3",
   "language": "python",
   "name": "python3"
  },
  "language_info": {
   "codemirror_mode": {
    "name": "ipython",
    "version": 3
   },
   "file_extension": ".py",
   "mimetype": "text/x-python",
   "name": "python",
   "nbconvert_exporter": "python",
   "pygments_lexer": "ipython3",
   "version": "3.6.9"
  }
 },
 "nbformat": 4,
 "nbformat_minor": 2
}
