{
 "cells": [
  {
   "cell_type": "code",
   "execution_count": 1,
   "metadata": {},
   "outputs": [],
   "source": [
    "# Importing the necessary libraries\n",
    "import pandas as pd\n",
    "import seaborn as sns\n",
    "import numpy as np\n",
    "import matplotlib.pyplot as plt\n",
    "from sklearn.preprocessing import LabelEncoder, StandardScaler\n",
    "from sklearn.model_selection import train_test_split, GridSearchCV\n",
    "from sklearn.metrics import accuracy_score, classification_report, confusion_matrix"
   ]
  },
  {
   "cell_type": "code",
   "execution_count": 2,
   "metadata": {},
   "outputs": [],
   "source": [
    "import warnings\n",
    "warnings.filterwarnings('ignore')\n",
    "%matplotlib inline"
   ]
  },
  {
   "cell_type": "markdown",
   "metadata": {},
   "source": [
    "# Data"
   ]
  },
  {
   "cell_type": "markdown",
   "metadata": {},
   "source": [
    "### Importing Raw data "
   ]
  },
  {
   "cell_type": "code",
   "execution_count": 3,
   "metadata": {},
   "outputs": [],
   "source": [
    "# Importing the csv file\n",
    "data = pd.read_excel('INX_Future_Inc_Employee_Performance_CDS_Project2_Data_V1.8.xls')"
   ]
  },
  {
   "cell_type": "markdown",
   "metadata": {},
   "source": [
    "## Source Code"
   ]
  },
  {
   "cell_type": "markdown",
   "metadata": {},
   "source": [
    "### Exploratory Data Analysis"
   ]
  },
  {
   "cell_type": "code",
   "execution_count": 4,
   "metadata": {},
   "outputs": [
    {
     "data": {
      "text/plain": [
       "(1200, 28)"
      ]
     },
     "execution_count": 4,
     "metadata": {},
     "output_type": "execute_result"
    }
   ],
   "source": [
    "data.shape"
   ]
  },
  {
   "cell_type": "code",
   "execution_count": 5,
   "metadata": {},
   "outputs": [
    {
     "data": {
      "text/plain": [
       "Index(['EmpNumber', 'Age', 'Gender', 'EducationBackground', 'MaritalStatus',\n",
       "       'EmpDepartment', 'EmpJobRole', 'BusinessTravelFrequency',\n",
       "       'DistanceFromHome', 'EmpEducationLevel', 'EmpEnvironmentSatisfaction',\n",
       "       'EmpHourlyRate', 'EmpJobInvolvement', 'EmpJobLevel',\n",
       "       'EmpJobSatisfaction', 'NumCompaniesWorked', 'OverTime',\n",
       "       'EmpLastSalaryHikePercent', 'EmpRelationshipSatisfaction',\n",
       "       'TotalWorkExperienceInYears', 'TrainingTimesLastYear',\n",
       "       'EmpWorkLifeBalance', 'ExperienceYearsAtThisCompany',\n",
       "       'ExperienceYearsInCurrentRole', 'YearsSinceLastPromotion',\n",
       "       'YearsWithCurrManager', 'Attrition', 'PerformanceRating'],\n",
       "      dtype='object')"
      ]
     },
     "execution_count": 5,
     "metadata": {},
     "output_type": "execute_result"
    }
   ],
   "source": [
    "data.columns"
   ]
  },
  {
   "cell_type": "code",
   "execution_count": 6,
   "metadata": {},
   "outputs": [
    {
     "data": {
      "text/html": [
       "<div>\n",
       "<style scoped>\n",
       "    .dataframe tbody tr th:only-of-type {\n",
       "        vertical-align: middle;\n",
       "    }\n",
       "\n",
       "    .dataframe tbody tr th {\n",
       "        vertical-align: top;\n",
       "    }\n",
       "\n",
       "    .dataframe thead th {\n",
       "        text-align: right;\n",
       "    }\n",
       "</style>\n",
       "<table border=\"1\" class=\"dataframe\">\n",
       "  <thead>\n",
       "    <tr style=\"text-align: right;\">\n",
       "      <th></th>\n",
       "      <th>EmpNumber</th>\n",
       "      <th>Age</th>\n",
       "      <th>Gender</th>\n",
       "      <th>EducationBackground</th>\n",
       "      <th>MaritalStatus</th>\n",
       "      <th>EmpDepartment</th>\n",
       "      <th>EmpJobRole</th>\n",
       "      <th>BusinessTravelFrequency</th>\n",
       "      <th>DistanceFromHome</th>\n",
       "      <th>EmpEducationLevel</th>\n",
       "      <th>...</th>\n",
       "      <th>EmpRelationshipSatisfaction</th>\n",
       "      <th>TotalWorkExperienceInYears</th>\n",
       "      <th>TrainingTimesLastYear</th>\n",
       "      <th>EmpWorkLifeBalance</th>\n",
       "      <th>ExperienceYearsAtThisCompany</th>\n",
       "      <th>ExperienceYearsInCurrentRole</th>\n",
       "      <th>YearsSinceLastPromotion</th>\n",
       "      <th>YearsWithCurrManager</th>\n",
       "      <th>Attrition</th>\n",
       "      <th>PerformanceRating</th>\n",
       "    </tr>\n",
       "  </thead>\n",
       "  <tbody>\n",
       "    <tr>\n",
       "      <th>0</th>\n",
       "      <td>E1001000</td>\n",
       "      <td>32</td>\n",
       "      <td>Male</td>\n",
       "      <td>Marketing</td>\n",
       "      <td>Single</td>\n",
       "      <td>Sales</td>\n",
       "      <td>Sales Executive</td>\n",
       "      <td>Travel_Rarely</td>\n",
       "      <td>10</td>\n",
       "      <td>3</td>\n",
       "      <td>...</td>\n",
       "      <td>4</td>\n",
       "      <td>10</td>\n",
       "      <td>2</td>\n",
       "      <td>2</td>\n",
       "      <td>10</td>\n",
       "      <td>7</td>\n",
       "      <td>0</td>\n",
       "      <td>8</td>\n",
       "      <td>No</td>\n",
       "      <td>3</td>\n",
       "    </tr>\n",
       "    <tr>\n",
       "      <th>1</th>\n",
       "      <td>E1001006</td>\n",
       "      <td>47</td>\n",
       "      <td>Male</td>\n",
       "      <td>Marketing</td>\n",
       "      <td>Single</td>\n",
       "      <td>Sales</td>\n",
       "      <td>Sales Executive</td>\n",
       "      <td>Travel_Rarely</td>\n",
       "      <td>14</td>\n",
       "      <td>4</td>\n",
       "      <td>...</td>\n",
       "      <td>4</td>\n",
       "      <td>20</td>\n",
       "      <td>2</td>\n",
       "      <td>3</td>\n",
       "      <td>7</td>\n",
       "      <td>7</td>\n",
       "      <td>1</td>\n",
       "      <td>7</td>\n",
       "      <td>No</td>\n",
       "      <td>3</td>\n",
       "    </tr>\n",
       "    <tr>\n",
       "      <th>2</th>\n",
       "      <td>E1001007</td>\n",
       "      <td>40</td>\n",
       "      <td>Male</td>\n",
       "      <td>Life Sciences</td>\n",
       "      <td>Married</td>\n",
       "      <td>Sales</td>\n",
       "      <td>Sales Executive</td>\n",
       "      <td>Travel_Frequently</td>\n",
       "      <td>5</td>\n",
       "      <td>4</td>\n",
       "      <td>...</td>\n",
       "      <td>3</td>\n",
       "      <td>20</td>\n",
       "      <td>2</td>\n",
       "      <td>3</td>\n",
       "      <td>18</td>\n",
       "      <td>13</td>\n",
       "      <td>1</td>\n",
       "      <td>12</td>\n",
       "      <td>No</td>\n",
       "      <td>4</td>\n",
       "    </tr>\n",
       "    <tr>\n",
       "      <th>3</th>\n",
       "      <td>E1001009</td>\n",
       "      <td>41</td>\n",
       "      <td>Male</td>\n",
       "      <td>Human Resources</td>\n",
       "      <td>Divorced</td>\n",
       "      <td>Human Resources</td>\n",
       "      <td>Manager</td>\n",
       "      <td>Travel_Rarely</td>\n",
       "      <td>10</td>\n",
       "      <td>4</td>\n",
       "      <td>...</td>\n",
       "      <td>2</td>\n",
       "      <td>23</td>\n",
       "      <td>2</td>\n",
       "      <td>2</td>\n",
       "      <td>21</td>\n",
       "      <td>6</td>\n",
       "      <td>12</td>\n",
       "      <td>6</td>\n",
       "      <td>No</td>\n",
       "      <td>3</td>\n",
       "    </tr>\n",
       "    <tr>\n",
       "      <th>4</th>\n",
       "      <td>E1001010</td>\n",
       "      <td>60</td>\n",
       "      <td>Male</td>\n",
       "      <td>Marketing</td>\n",
       "      <td>Single</td>\n",
       "      <td>Sales</td>\n",
       "      <td>Sales Executive</td>\n",
       "      <td>Travel_Rarely</td>\n",
       "      <td>16</td>\n",
       "      <td>4</td>\n",
       "      <td>...</td>\n",
       "      <td>4</td>\n",
       "      <td>10</td>\n",
       "      <td>1</td>\n",
       "      <td>3</td>\n",
       "      <td>2</td>\n",
       "      <td>2</td>\n",
       "      <td>2</td>\n",
       "      <td>2</td>\n",
       "      <td>No</td>\n",
       "      <td>3</td>\n",
       "    </tr>\n",
       "  </tbody>\n",
       "</table>\n",
       "<p>5 rows × 28 columns</p>\n",
       "</div>"
      ],
      "text/plain": [
       "  EmpNumber  Age Gender EducationBackground MaritalStatus    EmpDepartment  \\\n",
       "0  E1001000   32   Male           Marketing        Single            Sales   \n",
       "1  E1001006   47   Male           Marketing        Single            Sales   \n",
       "2  E1001007   40   Male       Life Sciences       Married            Sales   \n",
       "3  E1001009   41   Male     Human Resources      Divorced  Human Resources   \n",
       "4  E1001010   60   Male           Marketing        Single            Sales   \n",
       "\n",
       "        EmpJobRole BusinessTravelFrequency  DistanceFromHome  \\\n",
       "0  Sales Executive           Travel_Rarely                10   \n",
       "1  Sales Executive           Travel_Rarely                14   \n",
       "2  Sales Executive       Travel_Frequently                 5   \n",
       "3          Manager           Travel_Rarely                10   \n",
       "4  Sales Executive           Travel_Rarely                16   \n",
       "\n",
       "   EmpEducationLevel  ...  EmpRelationshipSatisfaction  \\\n",
       "0                  3  ...                            4   \n",
       "1                  4  ...                            4   \n",
       "2                  4  ...                            3   \n",
       "3                  4  ...                            2   \n",
       "4                  4  ...                            4   \n",
       "\n",
       "   TotalWorkExperienceInYears  TrainingTimesLastYear  EmpWorkLifeBalance  \\\n",
       "0                          10                      2                   2   \n",
       "1                          20                      2                   3   \n",
       "2                          20                      2                   3   \n",
       "3                          23                      2                   2   \n",
       "4                          10                      1                   3   \n",
       "\n",
       "   ExperienceYearsAtThisCompany  ExperienceYearsInCurrentRole  \\\n",
       "0                            10                             7   \n",
       "1                             7                             7   \n",
       "2                            18                            13   \n",
       "3                            21                             6   \n",
       "4                             2                             2   \n",
       "\n",
       "  YearsSinceLastPromotion  YearsWithCurrManager  Attrition  PerformanceRating  \n",
       "0                       0                     8         No                  3  \n",
       "1                       1                     7         No                  3  \n",
       "2                       1                    12         No                  4  \n",
       "3                      12                     6         No                  3  \n",
       "4                       2                     2         No                  3  \n",
       "\n",
       "[5 rows x 28 columns]"
      ]
     },
     "execution_count": 6,
     "metadata": {},
     "output_type": "execute_result"
    }
   ],
   "source": [
    "data.head()"
   ]
  },
  {
   "cell_type": "code",
   "execution_count": 7,
   "metadata": {},
   "outputs": [
    {
     "data": {
      "text/html": [
       "<div>\n",
       "<style scoped>\n",
       "    .dataframe tbody tr th:only-of-type {\n",
       "        vertical-align: middle;\n",
       "    }\n",
       "\n",
       "    .dataframe tbody tr th {\n",
       "        vertical-align: top;\n",
       "    }\n",
       "\n",
       "    .dataframe thead th {\n",
       "        text-align: right;\n",
       "    }\n",
       "</style>\n",
       "<table border=\"1\" class=\"dataframe\">\n",
       "  <thead>\n",
       "    <tr style=\"text-align: right;\">\n",
       "      <th></th>\n",
       "      <th>Age</th>\n",
       "      <th>DistanceFromHome</th>\n",
       "      <th>EmpEducationLevel</th>\n",
       "      <th>EmpEnvironmentSatisfaction</th>\n",
       "      <th>EmpHourlyRate</th>\n",
       "      <th>EmpJobInvolvement</th>\n",
       "      <th>EmpJobLevel</th>\n",
       "      <th>EmpJobSatisfaction</th>\n",
       "      <th>NumCompaniesWorked</th>\n",
       "      <th>EmpLastSalaryHikePercent</th>\n",
       "      <th>EmpRelationshipSatisfaction</th>\n",
       "      <th>TotalWorkExperienceInYears</th>\n",
       "      <th>TrainingTimesLastYear</th>\n",
       "      <th>EmpWorkLifeBalance</th>\n",
       "      <th>ExperienceYearsAtThisCompany</th>\n",
       "      <th>ExperienceYearsInCurrentRole</th>\n",
       "      <th>YearsSinceLastPromotion</th>\n",
       "      <th>YearsWithCurrManager</th>\n",
       "      <th>PerformanceRating</th>\n",
       "    </tr>\n",
       "  </thead>\n",
       "  <tbody>\n",
       "    <tr>\n",
       "      <th>count</th>\n",
       "      <td>1200.000000</td>\n",
       "      <td>1200.000000</td>\n",
       "      <td>1200.00000</td>\n",
       "      <td>1200.000000</td>\n",
       "      <td>1200.000000</td>\n",
       "      <td>1200.000000</td>\n",
       "      <td>1200.000000</td>\n",
       "      <td>1200.000000</td>\n",
       "      <td>1200.000000</td>\n",
       "      <td>1200.000000</td>\n",
       "      <td>1200.000000</td>\n",
       "      <td>1200.000000</td>\n",
       "      <td>1200.000000</td>\n",
       "      <td>1200.000000</td>\n",
       "      <td>1200.000000</td>\n",
       "      <td>1200.000000</td>\n",
       "      <td>1200.000000</td>\n",
       "      <td>1200.000000</td>\n",
       "      <td>1200.000000</td>\n",
       "    </tr>\n",
       "    <tr>\n",
       "      <th>mean</th>\n",
       "      <td>36.918333</td>\n",
       "      <td>9.165833</td>\n",
       "      <td>2.89250</td>\n",
       "      <td>2.715833</td>\n",
       "      <td>65.981667</td>\n",
       "      <td>2.731667</td>\n",
       "      <td>2.067500</td>\n",
       "      <td>2.732500</td>\n",
       "      <td>2.665000</td>\n",
       "      <td>15.222500</td>\n",
       "      <td>2.725000</td>\n",
       "      <td>11.330000</td>\n",
       "      <td>2.785833</td>\n",
       "      <td>2.744167</td>\n",
       "      <td>7.077500</td>\n",
       "      <td>4.291667</td>\n",
       "      <td>2.194167</td>\n",
       "      <td>4.105000</td>\n",
       "      <td>2.948333</td>\n",
       "    </tr>\n",
       "    <tr>\n",
       "      <th>std</th>\n",
       "      <td>9.087289</td>\n",
       "      <td>8.176636</td>\n",
       "      <td>1.04412</td>\n",
       "      <td>1.090599</td>\n",
       "      <td>20.211302</td>\n",
       "      <td>0.707164</td>\n",
       "      <td>1.107836</td>\n",
       "      <td>1.100888</td>\n",
       "      <td>2.469384</td>\n",
       "      <td>3.625918</td>\n",
       "      <td>1.075642</td>\n",
       "      <td>7.797228</td>\n",
       "      <td>1.263446</td>\n",
       "      <td>0.699374</td>\n",
       "      <td>6.236899</td>\n",
       "      <td>3.613744</td>\n",
       "      <td>3.221560</td>\n",
       "      <td>3.541576</td>\n",
       "      <td>0.518866</td>\n",
       "    </tr>\n",
       "    <tr>\n",
       "      <th>min</th>\n",
       "      <td>18.000000</td>\n",
       "      <td>1.000000</td>\n",
       "      <td>1.00000</td>\n",
       "      <td>1.000000</td>\n",
       "      <td>30.000000</td>\n",
       "      <td>1.000000</td>\n",
       "      <td>1.000000</td>\n",
       "      <td>1.000000</td>\n",
       "      <td>0.000000</td>\n",
       "      <td>11.000000</td>\n",
       "      <td>1.000000</td>\n",
       "      <td>0.000000</td>\n",
       "      <td>0.000000</td>\n",
       "      <td>1.000000</td>\n",
       "      <td>0.000000</td>\n",
       "      <td>0.000000</td>\n",
       "      <td>0.000000</td>\n",
       "      <td>0.000000</td>\n",
       "      <td>2.000000</td>\n",
       "    </tr>\n",
       "    <tr>\n",
       "      <th>25%</th>\n",
       "      <td>30.000000</td>\n",
       "      <td>2.000000</td>\n",
       "      <td>2.00000</td>\n",
       "      <td>2.000000</td>\n",
       "      <td>48.000000</td>\n",
       "      <td>2.000000</td>\n",
       "      <td>1.000000</td>\n",
       "      <td>2.000000</td>\n",
       "      <td>1.000000</td>\n",
       "      <td>12.000000</td>\n",
       "      <td>2.000000</td>\n",
       "      <td>6.000000</td>\n",
       "      <td>2.000000</td>\n",
       "      <td>2.000000</td>\n",
       "      <td>3.000000</td>\n",
       "      <td>2.000000</td>\n",
       "      <td>0.000000</td>\n",
       "      <td>2.000000</td>\n",
       "      <td>3.000000</td>\n",
       "    </tr>\n",
       "    <tr>\n",
       "      <th>50%</th>\n",
       "      <td>36.000000</td>\n",
       "      <td>7.000000</td>\n",
       "      <td>3.00000</td>\n",
       "      <td>3.000000</td>\n",
       "      <td>66.000000</td>\n",
       "      <td>3.000000</td>\n",
       "      <td>2.000000</td>\n",
       "      <td>3.000000</td>\n",
       "      <td>2.000000</td>\n",
       "      <td>14.000000</td>\n",
       "      <td>3.000000</td>\n",
       "      <td>10.000000</td>\n",
       "      <td>3.000000</td>\n",
       "      <td>3.000000</td>\n",
       "      <td>5.000000</td>\n",
       "      <td>3.000000</td>\n",
       "      <td>1.000000</td>\n",
       "      <td>3.000000</td>\n",
       "      <td>3.000000</td>\n",
       "    </tr>\n",
       "    <tr>\n",
       "      <th>75%</th>\n",
       "      <td>43.000000</td>\n",
       "      <td>14.000000</td>\n",
       "      <td>4.00000</td>\n",
       "      <td>4.000000</td>\n",
       "      <td>83.000000</td>\n",
       "      <td>3.000000</td>\n",
       "      <td>3.000000</td>\n",
       "      <td>4.000000</td>\n",
       "      <td>4.000000</td>\n",
       "      <td>18.000000</td>\n",
       "      <td>4.000000</td>\n",
       "      <td>15.000000</td>\n",
       "      <td>3.000000</td>\n",
       "      <td>3.000000</td>\n",
       "      <td>10.000000</td>\n",
       "      <td>7.000000</td>\n",
       "      <td>3.000000</td>\n",
       "      <td>7.000000</td>\n",
       "      <td>3.000000</td>\n",
       "    </tr>\n",
       "    <tr>\n",
       "      <th>max</th>\n",
       "      <td>60.000000</td>\n",
       "      <td>29.000000</td>\n",
       "      <td>5.00000</td>\n",
       "      <td>4.000000</td>\n",
       "      <td>100.000000</td>\n",
       "      <td>4.000000</td>\n",
       "      <td>5.000000</td>\n",
       "      <td>4.000000</td>\n",
       "      <td>9.000000</td>\n",
       "      <td>25.000000</td>\n",
       "      <td>4.000000</td>\n",
       "      <td>40.000000</td>\n",
       "      <td>6.000000</td>\n",
       "      <td>4.000000</td>\n",
       "      <td>40.000000</td>\n",
       "      <td>18.000000</td>\n",
       "      <td>15.000000</td>\n",
       "      <td>17.000000</td>\n",
       "      <td>4.000000</td>\n",
       "    </tr>\n",
       "  </tbody>\n",
       "</table>\n",
       "</div>"
      ],
      "text/plain": [
       "               Age  DistanceFromHome  EmpEducationLevel  \\\n",
       "count  1200.000000       1200.000000         1200.00000   \n",
       "mean     36.918333          9.165833            2.89250   \n",
       "std       9.087289          8.176636            1.04412   \n",
       "min      18.000000          1.000000            1.00000   \n",
       "25%      30.000000          2.000000            2.00000   \n",
       "50%      36.000000          7.000000            3.00000   \n",
       "75%      43.000000         14.000000            4.00000   \n",
       "max      60.000000         29.000000            5.00000   \n",
       "\n",
       "       EmpEnvironmentSatisfaction  EmpHourlyRate  EmpJobInvolvement  \\\n",
       "count                 1200.000000    1200.000000        1200.000000   \n",
       "mean                     2.715833      65.981667           2.731667   \n",
       "std                      1.090599      20.211302           0.707164   \n",
       "min                      1.000000      30.000000           1.000000   \n",
       "25%                      2.000000      48.000000           2.000000   \n",
       "50%                      3.000000      66.000000           3.000000   \n",
       "75%                      4.000000      83.000000           3.000000   \n",
       "max                      4.000000     100.000000           4.000000   \n",
       "\n",
       "       EmpJobLevel  EmpJobSatisfaction  NumCompaniesWorked  \\\n",
       "count  1200.000000         1200.000000         1200.000000   \n",
       "mean      2.067500            2.732500            2.665000   \n",
       "std       1.107836            1.100888            2.469384   \n",
       "min       1.000000            1.000000            0.000000   \n",
       "25%       1.000000            2.000000            1.000000   \n",
       "50%       2.000000            3.000000            2.000000   \n",
       "75%       3.000000            4.000000            4.000000   \n",
       "max       5.000000            4.000000            9.000000   \n",
       "\n",
       "       EmpLastSalaryHikePercent  EmpRelationshipSatisfaction  \\\n",
       "count               1200.000000                  1200.000000   \n",
       "mean                  15.222500                     2.725000   \n",
       "std                    3.625918                     1.075642   \n",
       "min                   11.000000                     1.000000   \n",
       "25%                   12.000000                     2.000000   \n",
       "50%                   14.000000                     3.000000   \n",
       "75%                   18.000000                     4.000000   \n",
       "max                   25.000000                     4.000000   \n",
       "\n",
       "       TotalWorkExperienceInYears  TrainingTimesLastYear  EmpWorkLifeBalance  \\\n",
       "count                 1200.000000            1200.000000         1200.000000   \n",
       "mean                    11.330000               2.785833            2.744167   \n",
       "std                      7.797228               1.263446            0.699374   \n",
       "min                      0.000000               0.000000            1.000000   \n",
       "25%                      6.000000               2.000000            2.000000   \n",
       "50%                     10.000000               3.000000            3.000000   \n",
       "75%                     15.000000               3.000000            3.000000   \n",
       "max                     40.000000               6.000000            4.000000   \n",
       "\n",
       "       ExperienceYearsAtThisCompany  ExperienceYearsInCurrentRole  \\\n",
       "count                   1200.000000                   1200.000000   \n",
       "mean                       7.077500                      4.291667   \n",
       "std                        6.236899                      3.613744   \n",
       "min                        0.000000                      0.000000   \n",
       "25%                        3.000000                      2.000000   \n",
       "50%                        5.000000                      3.000000   \n",
       "75%                       10.000000                      7.000000   \n",
       "max                       40.000000                     18.000000   \n",
       "\n",
       "       YearsSinceLastPromotion  YearsWithCurrManager  PerformanceRating  \n",
       "count              1200.000000           1200.000000        1200.000000  \n",
       "mean                  2.194167              4.105000           2.948333  \n",
       "std                   3.221560              3.541576           0.518866  \n",
       "min                   0.000000              0.000000           2.000000  \n",
       "25%                   0.000000              2.000000           3.000000  \n",
       "50%                   1.000000              3.000000           3.000000  \n",
       "75%                   3.000000              7.000000           3.000000  \n",
       "max                  15.000000             17.000000           4.000000  "
      ]
     },
     "execution_count": 7,
     "metadata": {},
     "output_type": "execute_result"
    }
   ],
   "source": [
    "data.describe()"
   ]
  },
  {
   "cell_type": "code",
   "execution_count": 8,
   "metadata": {},
   "outputs": [
    {
     "name": "stdout",
     "output_type": "stream",
     "text": [
      "<class 'pandas.core.frame.DataFrame'>\n",
      "RangeIndex: 1200 entries, 0 to 1199\n",
      "Data columns (total 28 columns):\n",
      "EmpNumber                       1200 non-null object\n",
      "Age                             1200 non-null int64\n",
      "Gender                          1200 non-null object\n",
      "EducationBackground             1200 non-null object\n",
      "MaritalStatus                   1200 non-null object\n",
      "EmpDepartment                   1200 non-null object\n",
      "EmpJobRole                      1200 non-null object\n",
      "BusinessTravelFrequency         1200 non-null object\n",
      "DistanceFromHome                1200 non-null int64\n",
      "EmpEducationLevel               1200 non-null int64\n",
      "EmpEnvironmentSatisfaction      1200 non-null int64\n",
      "EmpHourlyRate                   1200 non-null int64\n",
      "EmpJobInvolvement               1200 non-null int64\n",
      "EmpJobLevel                     1200 non-null int64\n",
      "EmpJobSatisfaction              1200 non-null int64\n",
      "NumCompaniesWorked              1200 non-null int64\n",
      "OverTime                        1200 non-null object\n",
      "EmpLastSalaryHikePercent        1200 non-null int64\n",
      "EmpRelationshipSatisfaction     1200 non-null int64\n",
      "TotalWorkExperienceInYears      1200 non-null int64\n",
      "TrainingTimesLastYear           1200 non-null int64\n",
      "EmpWorkLifeBalance              1200 non-null int64\n",
      "ExperienceYearsAtThisCompany    1200 non-null int64\n",
      "ExperienceYearsInCurrentRole    1200 non-null int64\n",
      "YearsSinceLastPromotion         1200 non-null int64\n",
      "YearsWithCurrManager            1200 non-null int64\n",
      "Attrition                       1200 non-null object\n",
      "PerformanceRating               1200 non-null int64\n",
      "dtypes: int64(19), object(9)\n",
      "memory usage: 262.6+ KB\n"
     ]
    }
   ],
   "source": [
    "# Looking for missing data\n",
    "data.info()"
   ]
  },
  {
   "cell_type": "markdown",
   "metadata": {},
   "source": [
    "## Analysis of Department wise Perfomance"
   ]
  },
  {
   "cell_type": "code",
   "execution_count": 11,
   "metadata": {},
   "outputs": [],
   "source": [
    "#A new pandas Dataframe is created to analyze department wise performance as asked.\n",
    "dept = data.iloc[:,[5,27]].copy()\n",
    "dept_per = dept.copy()"
   ]
  },
  {
   "cell_type": "code",
   "execution_count": 12,
   "metadata": {},
   "outputs": [
    {
     "data": {
      "text/plain": [
       "EmpDepartment\n",
       "Data Science              3.050000\n",
       "Development               3.085873\n",
       "Finance                   2.775510\n",
       "Human Resources           2.925926\n",
       "Research & Development    2.921283\n",
       "Sales                     2.860590\n",
       "Name: PerformanceRating, dtype: float64"
      ]
     },
     "execution_count": 12,
     "metadata": {},
     "output_type": "execute_result"
    }
   ],
   "source": [
    "# Finding out the mean performance of all the departments and plotting its bar graph using seaborn.\n",
    "dept_per.groupby(by='EmpDepartment')['PerformanceRating'].mean()"
   ]
  },
  {
   "cell_type": "code",
   "execution_count": 13,
   "metadata": {},
   "outputs": [
    {
     "data": {
      "text/plain": [
       "<AxesSubplot:xlabel='EmpDepartment', ylabel='PerformanceRating'>"
      ]
     },
     "execution_count": 13,
     "metadata": {},
     "output_type": "execute_result"
    },
    {
     "data": {
      "image/png": "[encoded data removed]",
      "text/plain": [
       "<Figure size 720x324 with 1 Axes>"
      ]
     },
     "metadata": {
      "needs_background": "light"
     },
     "output_type": "display_data"
    }
   ],
   "source": [
    "plt.figure(figsize=(10,4.5))\n",
    "sns.barplot(dept_per['EmpDepartment'],dept_per['PerformanceRating'])"
   ]
  },
  {
   "cell_type": "code",
   "execution_count": 14,
   "metadata": {
    "scrolled": false
   },
   "outputs": [
    {
     "data": {
      "text/plain": [
       "EmpDepartment           PerformanceRating\n",
       "Data Science            3                     17\n",
       "                        4                      2\n",
       "                        2                      1\n",
       "Development             3                    304\n",
       "                        4                     44\n",
       "                        2                     13\n",
       "Finance                 3                     30\n",
       "                        2                     15\n",
       "                        4                      4\n",
       "Human Resources         3                     38\n",
       "                        2                     10\n",
       "                        4                      6\n",
       "Research & Development  3                    234\n",
       "                        2                     68\n",
       "                        4                     41\n",
       "Sales                   3                    251\n",
       "                        2                     87\n",
       "                        4                     35\n",
       "Name: PerformanceRating, dtype: int64"
      ]
     },
     "execution_count": 14,
     "metadata": {},
     "output_type": "execute_result"
    }
   ],
   "source": [
    "# Analyze each department separately\n",
    "dept_per.groupby(by='EmpDepartment')['PerformanceRating'].value_counts()"
   ]
  },
  {
   "cell_type": "code",
   "execution_count": 15,
   "metadata": {
    "scrolled": true
   },
   "outputs": [],
   "source": [
    "# Creating a new dataframe to analyze each department separately\n",
    "department = pd.get_dummies(dept_per['EmpDepartment'])\n",
    "performance = pd.DataFrame(dept_per['PerformanceRating'])\n",
    "dept_rating = pd.concat([department,performance],axis=1)"
   ]
  },
  {
   "cell_type": "code",
   "execution_count": 16,
   "metadata": {
    "scrolled": false
   },
   "outputs": [
    {
     "data": {
      "image/png": "[encoded data removed]",
      "text/plain": [
       "<Figure size 1080x720 with 6 Axes>"
      ]
     },
     "metadata": {
      "needs_background": "light"
     },
     "output_type": "display_data"
    }
   ],
   "source": [
    "# Plotting a separate bar graph for performance of each department using seaborn\n",
    "plt.figure(figsize=(15,10))\n",
    "plt.subplot(2,3,1)\n",
    "sns.barplot(dept_rating['PerformanceRating'],dept_rating['Sales'])\n",
    "plt.subplot(2,3,2)\n",
    "sns.barplot(dept_rating['PerformanceRating'],dept_rating['Development'])\n",
    "plt.subplot(2,3,3)\n",
    "sns.barplot(dept_rating['PerformanceRating'],dept_rating['Research & Development'])\n",
    "plt.subplot(2,3,4)\n",
    "sns.barplot(dept_rating['PerformanceRating'],dept_rating['Human Resources'])\n",
    "plt.subplot(2,3,5)\n",
    "sns.barplot(dept_rating['PerformanceRating'],dept_rating['Finance'])\n",
    "plt.subplot(2,3,6)\n",
    "sns.barplot(dept_rating['PerformanceRating'],dept_rating['Data Science'])\n",
    "plt.show()"
   ]
  },
  {
   "cell_type": "markdown",
   "metadata": {},
   "source": [
    "### Data Processing/ Data Munging"
   ]
  },
  {
   "cell_type": "code",
   "execution_count": 17,
   "metadata": {
    "scrolled": true
   },
   "outputs": [
    {
     "data": {
      "text/html": [
       "<div>\n",
       "<style scoped>\n",
       "    .dataframe tbody tr th:only-of-type {\n",
       "        vertical-align: middle;\n",
       "    }\n",
       "\n",
       "    .dataframe tbody tr th {\n",
       "        vertical-align: top;\n",
       "    }\n",
       "\n",
       "    .dataframe thead th {\n",
       "        text-align: right;\n",
       "    }\n",
       "</style>\n",
       "<table border=\"1\" class=\"dataframe\">\n",
       "  <thead>\n",
       "    <tr style=\"text-align: right;\">\n",
       "      <th></th>\n",
       "      <th>EmpNumber</th>\n",
       "      <th>Age</th>\n",
       "      <th>Gender</th>\n",
       "      <th>EducationBackground</th>\n",
       "      <th>MaritalStatus</th>\n",
       "      <th>EmpDepartment</th>\n",
       "      <th>EmpJobRole</th>\n",
       "      <th>BusinessTravelFrequency</th>\n",
       "      <th>DistanceFromHome</th>\n",
       "      <th>EmpEducationLevel</th>\n",
       "      <th>...</th>\n",
       "      <th>EmpRelationshipSatisfaction</th>\n",
       "      <th>TotalWorkExperienceInYears</th>\n",
       "      <th>TrainingTimesLastYear</th>\n",
       "      <th>EmpWorkLifeBalance</th>\n",
       "      <th>ExperienceYearsAtThisCompany</th>\n",
       "      <th>ExperienceYearsInCurrentRole</th>\n",
       "      <th>YearsSinceLastPromotion</th>\n",
       "      <th>YearsWithCurrManager</th>\n",
       "      <th>Attrition</th>\n",
       "      <th>PerformanceRating</th>\n",
       "    </tr>\n",
       "  </thead>\n",
       "  <tbody>\n",
       "    <tr>\n",
       "      <th>0</th>\n",
       "      <td>E1001000</td>\n",
       "      <td>32</td>\n",
       "      <td>1</td>\n",
       "      <td>2</td>\n",
       "      <td>2</td>\n",
       "      <td>5</td>\n",
       "      <td>13</td>\n",
       "      <td>2</td>\n",
       "      <td>10</td>\n",
       "      <td>3</td>\n",
       "      <td>...</td>\n",
       "      <td>4</td>\n",
       "      <td>10</td>\n",
       "      <td>2</td>\n",
       "      <td>2</td>\n",
       "      <td>10</td>\n",
       "      <td>7</td>\n",
       "      <td>0</td>\n",
       "      <td>8</td>\n",
       "      <td>0</td>\n",
       "      <td>3</td>\n",
       "    </tr>\n",
       "    <tr>\n",
       "      <th>1</th>\n",
       "      <td>E1001006</td>\n",
       "      <td>47</td>\n",
       "      <td>1</td>\n",
       "      <td>2</td>\n",
       "      <td>2</td>\n",
       "      <td>5</td>\n",
       "      <td>13</td>\n",
       "      <td>2</td>\n",
       "      <td>14</td>\n",
       "      <td>4</td>\n",
       "      <td>...</td>\n",
       "      <td>4</td>\n",
       "      <td>20</td>\n",
       "      <td>2</td>\n",
       "      <td>3</td>\n",
       "      <td>7</td>\n",
       "      <td>7</td>\n",
       "      <td>1</td>\n",
       "      <td>7</td>\n",
       "      <td>0</td>\n",
       "      <td>3</td>\n",
       "    </tr>\n",
       "    <tr>\n",
       "      <th>2</th>\n",
       "      <td>E1001007</td>\n",
       "      <td>40</td>\n",
       "      <td>1</td>\n",
       "      <td>1</td>\n",
       "      <td>1</td>\n",
       "      <td>5</td>\n",
       "      <td>13</td>\n",
       "      <td>1</td>\n",
       "      <td>5</td>\n",
       "      <td>4</td>\n",
       "      <td>...</td>\n",
       "      <td>3</td>\n",
       "      <td>20</td>\n",
       "      <td>2</td>\n",
       "      <td>3</td>\n",
       "      <td>18</td>\n",
       "      <td>13</td>\n",
       "      <td>1</td>\n",
       "      <td>12</td>\n",
       "      <td>0</td>\n",
       "      <td>4</td>\n",
       "    </tr>\n",
       "    <tr>\n",
       "      <th>3</th>\n",
       "      <td>E1001009</td>\n",
       "      <td>41</td>\n",
       "      <td>1</td>\n",
       "      <td>0</td>\n",
       "      <td>0</td>\n",
       "      <td>3</td>\n",
       "      <td>8</td>\n",
       "      <td>2</td>\n",
       "      <td>10</td>\n",
       "      <td>4</td>\n",
       "      <td>...</td>\n",
       "      <td>2</td>\n",
       "      <td>23</td>\n",
       "      <td>2</td>\n",
       "      <td>2</td>\n",
       "      <td>21</td>\n",
       "      <td>6</td>\n",
       "      <td>12</td>\n",
       "      <td>6</td>\n",
       "      <td>0</td>\n",
       "      <td>3</td>\n",
       "    </tr>\n",
       "    <tr>\n",
       "      <th>4</th>\n",
       "      <td>E1001010</td>\n",
       "      <td>60</td>\n",
       "      <td>1</td>\n",
       "      <td>2</td>\n",
       "      <td>2</td>\n",
       "      <td>5</td>\n",
       "      <td>13</td>\n",
       "      <td>2</td>\n",
       "      <td>16</td>\n",
       "      <td>4</td>\n",
       "      <td>...</td>\n",
       "      <td>4</td>\n",
       "      <td>10</td>\n",
       "      <td>1</td>\n",
       "      <td>3</td>\n",
       "      <td>2</td>\n",
       "      <td>2</td>\n",
       "      <td>2</td>\n",
       "      <td>2</td>\n",
       "      <td>0</td>\n",
       "      <td>3</td>\n",
       "    </tr>\n",
       "  </tbody>\n",
       "</table>\n",
       "<p>5 rows × 28 columns</p>\n",
       "</div>"
      ],
      "text/plain": [
       "  EmpNumber  Age  Gender  EducationBackground  MaritalStatus  EmpDepartment  \\\n",
       "0  E1001000   32       1                    2              2              5   \n",
       "1  E1001006   47       1                    2              2              5   \n",
       "2  E1001007   40       1                    1              1              5   \n",
       "3  E1001009   41       1                    0              0              3   \n",
       "4  E1001010   60       1                    2              2              5   \n",
       "\n",
       "   EmpJobRole  BusinessTravelFrequency  DistanceFromHome  EmpEducationLevel  \\\n",
       "0          13                        2                10                  3   \n",
       "1          13                        2                14                  4   \n",
       "2          13                        1                 5                  4   \n",
       "3           8                        2                10                  4   \n",
       "4          13                        2                16                  4   \n",
       "\n",
       "   ...  EmpRelationshipSatisfaction  TotalWorkExperienceInYears  \\\n",
       "0  ...                            4                          10   \n",
       "1  ...                            4                          20   \n",
       "2  ...                            3                          20   \n",
       "3  ...                            2                          23   \n",
       "4  ...                            4                          10   \n",
       "\n",
       "   TrainingTimesLastYear  EmpWorkLifeBalance  ExperienceYearsAtThisCompany  \\\n",
       "0                      2                   2                            10   \n",
       "1                      2                   3                             7   \n",
       "2                      2                   3                            18   \n",
       "3                      2                   2                            21   \n",
       "4                      1                   3                             2   \n",
       "\n",
       "   ExperienceYearsInCurrentRole  YearsSinceLastPromotion  \\\n",
       "0                             7                        0   \n",
       "1                             7                        1   \n",
       "2                            13                        1   \n",
       "3                             6                       12   \n",
       "4                             2                        2   \n",
       "\n",
       "   YearsWithCurrManager  Attrition  PerformanceRating  \n",
       "0                     8          0                  3  \n",
       "1                     7          0                  3  \n",
       "2                    12          0                  4  \n",
       "3                     6          0                  3  \n",
       "4                     2          0                  3  \n",
       "\n",
       "[5 rows x 28 columns]"
      ]
     },
     "execution_count": 17,
     "metadata": {},
     "output_type": "execute_result"
    }
   ],
   "source": [
    "# Encoding all the ordinal columns and creating a dummy variable for them to see if there are any effects on Performance Rating\n",
    "enc = LabelEncoder()\n",
    "for i in (2,3,4,5,6,7,16,26):\n",
    "    data.iloc[:,i] = enc.fit_transform(data.iloc[:,i])\n",
    "data.head()"
   ]
  },
  {
   "cell_type": "markdown",
   "metadata": {},
   "source": [
    "## Feature Selection    \n",
    "-     There are a lot of columns in the predictor variable. So, the correlation coeffecient is calculated to see which of them are important and these are then used for training methods. From there, we also get the top factors which affect performance. We can see that the most important features selectd were Department, Job Role, Environment Satisfaction, Last Salary Hike Percent, Work Life Balance, Experience Years At This Company, Experience Years In Current Role, Years Since Last Promotion, Years With Current Manager. These were selected because their correlation coeffecient with Performance Rating was more than 0.1. \n",
    "-     Standardization and Label Encoding was also used for feature transformation.\n",
    "-     A separate analysis considering all the predictors was carried out but it resulted in decreasing the accuracy. Similarly, Principal Component Analysis also reduces the accuracy.\n",
    "-     Top 3 factors which affect the employee performance are 1. Employee EnvironmentSatisfaction, 2. Employee Last Salary Hike Percent and 3. Years Since Last Promotion"
   ]
  },
  {
   "cell_type": "code",
   "execution_count": 18,
   "metadata": {
    "scrolled": false
   },
   "outputs": [
    {
     "data": {
      "text/html": [
       "<div>\n",
       "<style scoped>\n",
       "    .dataframe tbody tr th:only-of-type {\n",
       "        vertical-align: middle;\n",
       "    }\n",
       "\n",
       "    .dataframe tbody tr th {\n",
       "        vertical-align: top;\n",
       "    }\n",
       "\n",
       "    .dataframe thead th {\n",
       "        text-align: right;\n",
       "    }\n",
       "</style>\n",
       "<table border=\"1\" class=\"dataframe\">\n",
       "  <thead>\n",
       "    <tr style=\"text-align: right;\">\n",
       "      <th></th>\n",
       "      <th>Age</th>\n",
       "      <th>Gender</th>\n",
       "      <th>EducationBackground</th>\n",
       "      <th>MaritalStatus</th>\n",
       "      <th>EmpDepartment</th>\n",
       "      <th>EmpJobRole</th>\n",
       "      <th>BusinessTravelFrequency</th>\n",
       "      <th>DistanceFromHome</th>\n",
       "      <th>EmpEducationLevel</th>\n",
       "      <th>EmpEnvironmentSatisfaction</th>\n",
       "      <th>...</th>\n",
       "      <th>EmpRelationshipSatisfaction</th>\n",
       "      <th>TotalWorkExperienceInYears</th>\n",
       "      <th>TrainingTimesLastYear</th>\n",
       "      <th>EmpWorkLifeBalance</th>\n",
       "      <th>ExperienceYearsAtThisCompany</th>\n",
       "      <th>ExperienceYearsInCurrentRole</th>\n",
       "      <th>YearsSinceLastPromotion</th>\n",
       "      <th>YearsWithCurrManager</th>\n",
       "      <th>Attrition</th>\n",
       "      <th>PerformanceRating</th>\n",
       "    </tr>\n",
       "  </thead>\n",
       "  <tbody>\n",
       "    <tr>\n",
       "      <th>Age</th>\n",
       "      <td>1.000000</td>\n",
       "      <td>-0.040107</td>\n",
       "      <td>-0.055905</td>\n",
       "      <td>-0.098368</td>\n",
       "      <td>-0.000104</td>\n",
       "      <td>-0.037665</td>\n",
       "      <td>0.040579</td>\n",
       "      <td>0.020937</td>\n",
       "      <td>0.207313</td>\n",
       "      <td>0.013814</td>\n",
       "      <td>...</td>\n",
       "      <td>0.049749</td>\n",
       "      <td>0.680886</td>\n",
       "      <td>-0.016053</td>\n",
       "      <td>-0.019563</td>\n",
       "      <td>0.318852</td>\n",
       "      <td>0.217163</td>\n",
       "      <td>0.228199</td>\n",
       "      <td>0.205098</td>\n",
       "      <td>-0.189317</td>\n",
       "      <td>-0.040164</td>\n",
       "    </tr>\n",
       "    <tr>\n",
       "      <th>Gender</th>\n",
       "      <td>-0.040107</td>\n",
       "      <td>1.000000</td>\n",
       "      <td>0.009922</td>\n",
       "      <td>-0.042169</td>\n",
       "      <td>-0.010925</td>\n",
       "      <td>0.011332</td>\n",
       "      <td>-0.043608</td>\n",
       "      <td>-0.001507</td>\n",
       "      <td>-0.022960</td>\n",
       "      <td>0.000033</td>\n",
       "      <td>...</td>\n",
       "      <td>0.030707</td>\n",
       "      <td>-0.061055</td>\n",
       "      <td>-0.057654</td>\n",
       "      <td>0.015793</td>\n",
       "      <td>-0.030392</td>\n",
       "      <td>-0.031823</td>\n",
       "      <td>-0.021575</td>\n",
       "      <td>-0.036643</td>\n",
       "      <td>0.035758</td>\n",
       "      <td>-0.001780</td>\n",
       "    </tr>\n",
       "    <tr>\n",
       "      <th>EducationBackground</th>\n",
       "      <td>-0.055905</td>\n",
       "      <td>0.009922</td>\n",
       "      <td>1.000000</td>\n",
       "      <td>-0.001097</td>\n",
       "      <td>-0.026874</td>\n",
       "      <td>-0.012325</td>\n",
       "      <td>0.012382</td>\n",
       "      <td>-0.013919</td>\n",
       "      <td>-0.047978</td>\n",
       "      <td>0.045028</td>\n",
       "      <td>...</td>\n",
       "      <td>0.005652</td>\n",
       "      <td>-0.027929</td>\n",
       "      <td>0.051596</td>\n",
       "      <td>0.022890</td>\n",
       "      <td>-0.009887</td>\n",
       "      <td>-0.003215</td>\n",
       "      <td>0.014277</td>\n",
       "      <td>0.002767</td>\n",
       "      <td>0.027161</td>\n",
       "      <td>0.005607</td>\n",
       "    </tr>\n",
       "    <tr>\n",
       "      <th>MaritalStatus</th>\n",
       "      <td>-0.098368</td>\n",
       "      <td>-0.042169</td>\n",
       "      <td>-0.001097</td>\n",
       "      <td>1.000000</td>\n",
       "      <td>0.067272</td>\n",
       "      <td>0.038023</td>\n",
       "      <td>0.028520</td>\n",
       "      <td>-0.019148</td>\n",
       "      <td>0.026737</td>\n",
       "      <td>-0.032467</td>\n",
       "      <td>...</td>\n",
       "      <td>0.026410</td>\n",
       "      <td>-0.093537</td>\n",
       "      <td>0.026045</td>\n",
       "      <td>0.014154</td>\n",
       "      <td>-0.075728</td>\n",
       "      <td>-0.076663</td>\n",
       "      <td>-0.052951</td>\n",
       "      <td>-0.061908</td>\n",
       "      <td>0.162969</td>\n",
       "      <td>0.024172</td>\n",
       "    </tr>\n",
       "    <tr>\n",
       "      <th>EmpDepartment</th>\n",
       "      <td>-0.000104</td>\n",
       "      <td>-0.010925</td>\n",
       "      <td>-0.026874</td>\n",
       "      <td>0.067272</td>\n",
       "      <td>1.000000</td>\n",
       "      <td>0.568973</td>\n",
       "      <td>-0.045233</td>\n",
       "      <td>0.007707</td>\n",
       "      <td>0.019175</td>\n",
       "      <td>-0.019237</td>\n",
       "      <td>...</td>\n",
       "      <td>-0.050286</td>\n",
       "      <td>0.016065</td>\n",
       "      <td>0.016438</td>\n",
       "      <td>0.068875</td>\n",
       "      <td>0.047677</td>\n",
       "      <td>0.069602</td>\n",
       "      <td>0.052315</td>\n",
       "      <td>0.033850</td>\n",
       "      <td>0.048006</td>\n",
       "      <td>-0.162615</td>\n",
       "    </tr>\n",
       "    <tr>\n",
       "      <th>EmpJobRole</th>\n",
       "      <td>-0.037665</td>\n",
       "      <td>0.011332</td>\n",
       "      <td>-0.012325</td>\n",
       "      <td>0.038023</td>\n",
       "      <td>0.568973</td>\n",
       "      <td>1.000000</td>\n",
       "      <td>-0.086251</td>\n",
       "      <td>0.022939</td>\n",
       "      <td>-0.016792</td>\n",
       "      <td>0.044612</td>\n",
       "      <td>...</td>\n",
       "      <td>-0.043067</td>\n",
       "      <td>-0.049529</td>\n",
       "      <td>0.004452</td>\n",
       "      <td>-0.007519</td>\n",
       "      <td>-0.009047</td>\n",
       "      <td>0.019383</td>\n",
       "      <td>0.012190</td>\n",
       "      <td>-0.004504</td>\n",
       "      <td>0.037508</td>\n",
       "      <td>-0.096209</td>\n",
       "    </tr>\n",
       "    <tr>\n",
       "      <th>BusinessTravelFrequency</th>\n",
       "      <td>0.040579</td>\n",
       "      <td>-0.043608</td>\n",
       "      <td>0.012382</td>\n",
       "      <td>0.028520</td>\n",
       "      <td>-0.045233</td>\n",
       "      <td>-0.086251</td>\n",
       "      <td>1.000000</td>\n",
       "      <td>-0.020935</td>\n",
       "      <td>0.002064</td>\n",
       "      <td>0.012267</td>\n",
       "      <td>...</td>\n",
       "      <td>-0.032705</td>\n",
       "      <td>0.042736</td>\n",
       "      <td>0.006720</td>\n",
       "      <td>-0.040969</td>\n",
       "      <td>-0.015029</td>\n",
       "      <td>-0.006541</td>\n",
       "      <td>-0.020824</td>\n",
       "      <td>-0.028073</td>\n",
       "      <td>0.007217</td>\n",
       "      <td>-0.031025</td>\n",
       "    </tr>\n",
       "    <tr>\n",
       "      <th>DistanceFromHome</th>\n",
       "      <td>0.020937</td>\n",
       "      <td>-0.001507</td>\n",
       "      <td>-0.013919</td>\n",
       "      <td>-0.019148</td>\n",
       "      <td>0.007707</td>\n",
       "      <td>0.022939</td>\n",
       "      <td>-0.020935</td>\n",
       "      <td>1.000000</td>\n",
       "      <td>0.045856</td>\n",
       "      <td>-0.017719</td>\n",
       "      <td>...</td>\n",
       "      <td>-0.009509</td>\n",
       "      <td>0.027306</td>\n",
       "      <td>-0.032082</td>\n",
       "      <td>-0.044788</td>\n",
       "      <td>0.021908</td>\n",
       "      <td>0.019898</td>\n",
       "      <td>0.013246</td>\n",
       "      <td>0.017860</td>\n",
       "      <td>0.063248</td>\n",
       "      <td>-0.046142</td>\n",
       "    </tr>\n",
       "    <tr>\n",
       "      <th>EmpEducationLevel</th>\n",
       "      <td>0.207313</td>\n",
       "      <td>-0.022960</td>\n",
       "      <td>-0.047978</td>\n",
       "      <td>0.026737</td>\n",
       "      <td>0.019175</td>\n",
       "      <td>-0.016792</td>\n",
       "      <td>0.002064</td>\n",
       "      <td>0.045856</td>\n",
       "      <td>1.000000</td>\n",
       "      <td>-0.037103</td>\n",
       "      <td>...</td>\n",
       "      <td>-0.016690</td>\n",
       "      <td>0.151062</td>\n",
       "      <td>-0.013674</td>\n",
       "      <td>0.010276</td>\n",
       "      <td>0.076332</td>\n",
       "      <td>0.066672</td>\n",
       "      <td>0.054313</td>\n",
       "      <td>0.088988</td>\n",
       "      <td>-0.049118</td>\n",
       "      <td>0.020529</td>\n",
       "    </tr>\n",
       "    <tr>\n",
       "      <th>EmpEnvironmentSatisfaction</th>\n",
       "      <td>0.013814</td>\n",
       "      <td>0.000033</td>\n",
       "      <td>0.045028</td>\n",
       "      <td>-0.032467</td>\n",
       "      <td>-0.019237</td>\n",
       "      <td>0.044612</td>\n",
       "      <td>0.012267</td>\n",
       "      <td>-0.017719</td>\n",
       "      <td>-0.037103</td>\n",
       "      <td>1.000000</td>\n",
       "      <td>...</td>\n",
       "      <td>-0.010504</td>\n",
       "      <td>-0.012894</td>\n",
       "      <td>0.001192</td>\n",
       "      <td>-0.000262</td>\n",
       "      <td>-0.000561</td>\n",
       "      <td>0.025491</td>\n",
       "      <td>0.010732</td>\n",
       "      <td>-0.011702</td>\n",
       "      <td>-0.123490</td>\n",
       "      <td>0.395561</td>\n",
       "    </tr>\n",
       "    <tr>\n",
       "      <th>EmpHourlyRate</th>\n",
       "      <td>0.062867</td>\n",
       "      <td>0.002218</td>\n",
       "      <td>-0.030234</td>\n",
       "      <td>-0.013540</td>\n",
       "      <td>0.003957</td>\n",
       "      <td>-0.016179</td>\n",
       "      <td>0.025400</td>\n",
       "      <td>0.013730</td>\n",
       "      <td>0.014095</td>\n",
       "      <td>-0.049501</td>\n",
       "      <td>...</td>\n",
       "      <td>0.008783</td>\n",
       "      <td>0.026034</td>\n",
       "      <td>-0.024160</td>\n",
       "      <td>0.016189</td>\n",
       "      <td>-0.000399</td>\n",
       "      <td>-0.011871</td>\n",
       "      <td>-0.010000</td>\n",
       "      <td>-0.004576</td>\n",
       "      <td>-0.026313</td>\n",
       "      <td>-0.043116</td>\n",
       "    </tr>\n",
       "    <tr>\n",
       "      <th>EmpJobInvolvement</th>\n",
       "      <td>0.027216</td>\n",
       "      <td>0.010949</td>\n",
       "      <td>-0.025505</td>\n",
       "      <td>-0.043355</td>\n",
       "      <td>-0.076988</td>\n",
       "      <td>-0.008034</td>\n",
       "      <td>0.016652</td>\n",
       "      <td>0.003231</td>\n",
       "      <td>0.027544</td>\n",
       "      <td>0.004865</td>\n",
       "      <td>...</td>\n",
       "      <td>0.018037</td>\n",
       "      <td>-0.028851</td>\n",
       "      <td>-0.025168</td>\n",
       "      <td>-0.014129</td>\n",
       "      <td>-0.039720</td>\n",
       "      <td>0.002910</td>\n",
       "      <td>-0.019944</td>\n",
       "      <td>0.012924</td>\n",
       "      <td>-0.153360</td>\n",
       "      <td>-0.010539</td>\n",
       "    </tr>\n",
       "    <tr>\n",
       "      <th>EmpJobLevel</th>\n",
       "      <td>0.509139</td>\n",
       "      <td>-0.050685</td>\n",
       "      <td>-0.056338</td>\n",
       "      <td>-0.087359</td>\n",
       "      <td>0.100526</td>\n",
       "      <td>0.004406</td>\n",
       "      <td>0.036360</td>\n",
       "      <td>0.017270</td>\n",
       "      <td>0.100734</td>\n",
       "      <td>-0.008272</td>\n",
       "      <td>...</td>\n",
       "      <td>0.002992</td>\n",
       "      <td>0.784229</td>\n",
       "      <td>-0.000389</td>\n",
       "      <td>0.049218</td>\n",
       "      <td>0.540377</td>\n",
       "      <td>0.399235</td>\n",
       "      <td>0.360880</td>\n",
       "      <td>0.374872</td>\n",
       "      <td>-0.175763</td>\n",
       "      <td>-0.076632</td>\n",
       "    </tr>\n",
       "    <tr>\n",
       "      <th>EmpJobSatisfaction</th>\n",
       "      <td>-0.002436</td>\n",
       "      <td>0.024680</td>\n",
       "      <td>-0.030977</td>\n",
       "      <td>0.044593</td>\n",
       "      <td>0.007150</td>\n",
       "      <td>0.032916</td>\n",
       "      <td>-0.031236</td>\n",
       "      <td>-0.003036</td>\n",
       "      <td>0.000357</td>\n",
       "      <td>-0.004319</td>\n",
       "      <td>...</td>\n",
       "      <td>-0.022028</td>\n",
       "      <td>-0.026824</td>\n",
       "      <td>-0.028031</td>\n",
       "      <td>-0.018548</td>\n",
       "      <td>0.001807</td>\n",
       "      <td>0.002018</td>\n",
       "      <td>-0.006508</td>\n",
       "      <td>-0.022096</td>\n",
       "      <td>-0.081783</td>\n",
       "      <td>0.000606</td>\n",
       "    </tr>\n",
       "    <tr>\n",
       "      <th>NumCompaniesWorked</th>\n",
       "      <td>0.284408</td>\n",
       "      <td>-0.036675</td>\n",
       "      <td>-0.032879</td>\n",
       "      <td>-0.030095</td>\n",
       "      <td>-0.033950</td>\n",
       "      <td>-0.009111</td>\n",
       "      <td>0.021476</td>\n",
       "      <td>-0.021411</td>\n",
       "      <td>0.128674</td>\n",
       "      <td>0.017270</td>\n",
       "      <td>...</td>\n",
       "      <td>0.057917</td>\n",
       "      <td>0.221505</td>\n",
       "      <td>-0.050817</td>\n",
       "      <td>0.002489</td>\n",
       "      <td>-0.129797</td>\n",
       "      <td>-0.097271</td>\n",
       "      <td>-0.031656</td>\n",
       "      <td>-0.109937</td>\n",
       "      <td>0.037643</td>\n",
       "      <td>0.020980</td>\n",
       "    </tr>\n",
       "    <tr>\n",
       "      <th>OverTime</th>\n",
       "      <td>0.051910</td>\n",
       "      <td>-0.038410</td>\n",
       "      <td>0.007046</td>\n",
       "      <td>-0.022833</td>\n",
       "      <td>-0.026841</td>\n",
       "      <td>0.015075</td>\n",
       "      <td>0.032229</td>\n",
       "      <td>0.024940</td>\n",
       "      <td>-0.021119</td>\n",
       "      <td>0.064270</td>\n",
       "      <td>...</td>\n",
       "      <td>0.034146</td>\n",
       "      <td>0.044233</td>\n",
       "      <td>-0.061398</td>\n",
       "      <td>-0.027968</td>\n",
       "      <td>0.004295</td>\n",
       "      <td>-0.015674</td>\n",
       "      <td>0.000261</td>\n",
       "      <td>-0.028447</td>\n",
       "      <td>0.224535</td>\n",
       "      <td>0.050206</td>\n",
       "    </tr>\n",
       "    <tr>\n",
       "      <th>EmpLastSalaryHikePercent</th>\n",
       "      <td>-0.006105</td>\n",
       "      <td>-0.005319</td>\n",
       "      <td>-0.009788</td>\n",
       "      <td>0.010128</td>\n",
       "      <td>-0.012661</td>\n",
       "      <td>0.005735</td>\n",
       "      <td>-0.041946</td>\n",
       "      <td>0.044974</td>\n",
       "      <td>0.002358</td>\n",
       "      <td>-0.047271</td>\n",
       "      <td>...</td>\n",
       "      <td>-0.042892</td>\n",
       "      <td>-0.005933</td>\n",
       "      <td>-0.013439</td>\n",
       "      <td>-0.017001</td>\n",
       "      <td>-0.019830</td>\n",
       "      <td>-0.004957</td>\n",
       "      <td>-0.015911</td>\n",
       "      <td>-0.007666</td>\n",
       "      <td>-0.009448</td>\n",
       "      <td>0.333722</td>\n",
       "    </tr>\n",
       "    <tr>\n",
       "      <th>EmpRelationshipSatisfaction</th>\n",
       "      <td>0.049749</td>\n",
       "      <td>0.030707</td>\n",
       "      <td>0.005652</td>\n",
       "      <td>0.026410</td>\n",
       "      <td>-0.050286</td>\n",
       "      <td>-0.043067</td>\n",
       "      <td>-0.032705</td>\n",
       "      <td>-0.009509</td>\n",
       "      <td>-0.016690</td>\n",
       "      <td>-0.010504</td>\n",
       "      <td>...</td>\n",
       "      <td>1.000000</td>\n",
       "      <td>0.018089</td>\n",
       "      <td>0.025975</td>\n",
       "      <td>-0.004906</td>\n",
       "      <td>0.015612</td>\n",
       "      <td>-0.032131</td>\n",
       "      <td>0.026253</td>\n",
       "      <td>-0.006426</td>\n",
       "      <td>-0.037179</td>\n",
       "      <td>-0.019502</td>\n",
       "    </tr>\n",
       "    <tr>\n",
       "      <th>TotalWorkExperienceInYears</th>\n",
       "      <td>0.680886</td>\n",
       "      <td>-0.061055</td>\n",
       "      <td>-0.027929</td>\n",
       "      <td>-0.093537</td>\n",
       "      <td>0.016065</td>\n",
       "      <td>-0.049529</td>\n",
       "      <td>0.042736</td>\n",
       "      <td>0.027306</td>\n",
       "      <td>0.151062</td>\n",
       "      <td>-0.012894</td>\n",
       "      <td>...</td>\n",
       "      <td>0.018089</td>\n",
       "      <td>1.000000</td>\n",
       "      <td>-0.022113</td>\n",
       "      <td>0.015495</td>\n",
       "      <td>0.633555</td>\n",
       "      <td>0.460700</td>\n",
       "      <td>0.412781</td>\n",
       "      <td>0.460783</td>\n",
       "      <td>-0.185226</td>\n",
       "      <td>-0.068141</td>\n",
       "    </tr>\n",
       "    <tr>\n",
       "      <th>TrainingTimesLastYear</th>\n",
       "      <td>-0.016053</td>\n",
       "      <td>-0.057654</td>\n",
       "      <td>0.051596</td>\n",
       "      <td>0.026045</td>\n",
       "      <td>0.016438</td>\n",
       "      <td>0.004452</td>\n",
       "      <td>0.006720</td>\n",
       "      <td>-0.032082</td>\n",
       "      <td>-0.013674</td>\n",
       "      <td>0.001192</td>\n",
       "      <td>...</td>\n",
       "      <td>0.025975</td>\n",
       "      <td>-0.022113</td>\n",
       "      <td>1.000000</td>\n",
       "      <td>0.037048</td>\n",
       "      <td>0.008564</td>\n",
       "      <td>0.010222</td>\n",
       "      <td>0.018831</td>\n",
       "      <td>-0.013237</td>\n",
       "      <td>-0.035047</td>\n",
       "      <td>-0.005443</td>\n",
       "    </tr>\n",
       "    <tr>\n",
       "      <th>EmpWorkLifeBalance</th>\n",
       "      <td>-0.019563</td>\n",
       "      <td>0.015793</td>\n",
       "      <td>0.022890</td>\n",
       "      <td>0.014154</td>\n",
       "      <td>0.068875</td>\n",
       "      <td>-0.007519</td>\n",
       "      <td>-0.040969</td>\n",
       "      <td>-0.044788</td>\n",
       "      <td>0.010276</td>\n",
       "      <td>-0.000262</td>\n",
       "      <td>...</td>\n",
       "      <td>-0.004906</td>\n",
       "      <td>0.015495</td>\n",
       "      <td>0.037048</td>\n",
       "      <td>1.000000</td>\n",
       "      <td>0.023479</td>\n",
       "      <td>0.045719</td>\n",
       "      <td>0.015773</td>\n",
       "      <td>0.010518</td>\n",
       "      <td>-0.068624</td>\n",
       "      <td>0.124429</td>\n",
       "    </tr>\n",
       "    <tr>\n",
       "      <th>ExperienceYearsAtThisCompany</th>\n",
       "      <td>0.318852</td>\n",
       "      <td>-0.030392</td>\n",
       "      <td>-0.009887</td>\n",
       "      <td>-0.075728</td>\n",
       "      <td>0.047677</td>\n",
       "      <td>-0.009047</td>\n",
       "      <td>-0.015029</td>\n",
       "      <td>0.021908</td>\n",
       "      <td>0.076332</td>\n",
       "      <td>-0.000561</td>\n",
       "      <td>...</td>\n",
       "      <td>0.015612</td>\n",
       "      <td>0.633555</td>\n",
       "      <td>0.008564</td>\n",
       "      <td>0.023479</td>\n",
       "      <td>1.000000</td>\n",
       "      <td>0.764102</td>\n",
       "      <td>0.620230</td>\n",
       "      <td>0.759258</td>\n",
       "      <td>-0.142456</td>\n",
       "      <td>-0.111645</td>\n",
       "    </tr>\n",
       "    <tr>\n",
       "      <th>ExperienceYearsInCurrentRole</th>\n",
       "      <td>0.217163</td>\n",
       "      <td>-0.031823</td>\n",
       "      <td>-0.003215</td>\n",
       "      <td>-0.076663</td>\n",
       "      <td>0.069602</td>\n",
       "      <td>0.019383</td>\n",
       "      <td>-0.006541</td>\n",
       "      <td>0.019898</td>\n",
       "      <td>0.066672</td>\n",
       "      <td>0.025491</td>\n",
       "      <td>...</td>\n",
       "      <td>-0.032131</td>\n",
       "      <td>0.460700</td>\n",
       "      <td>0.010222</td>\n",
       "      <td>0.045719</td>\n",
       "      <td>0.764102</td>\n",
       "      <td>1.000000</td>\n",
       "      <td>0.540600</td>\n",
       "      <td>0.728973</td>\n",
       "      <td>-0.173895</td>\n",
       "      <td>-0.147638</td>\n",
       "    </tr>\n",
       "    <tr>\n",
       "      <th>YearsSinceLastPromotion</th>\n",
       "      <td>0.228199</td>\n",
       "      <td>-0.021575</td>\n",
       "      <td>0.014277</td>\n",
       "      <td>-0.052951</td>\n",
       "      <td>0.052315</td>\n",
       "      <td>0.012190</td>\n",
       "      <td>-0.020824</td>\n",
       "      <td>0.013246</td>\n",
       "      <td>0.054313</td>\n",
       "      <td>0.010732</td>\n",
       "      <td>...</td>\n",
       "      <td>0.026253</td>\n",
       "      <td>0.412781</td>\n",
       "      <td>0.018831</td>\n",
       "      <td>0.015773</td>\n",
       "      <td>0.620230</td>\n",
       "      <td>0.540600</td>\n",
       "      <td>1.000000</td>\n",
       "      <td>0.491199</td>\n",
       "      <td>-0.057199</td>\n",
       "      <td>-0.167629</td>\n",
       "    </tr>\n",
       "    <tr>\n",
       "      <th>YearsWithCurrManager</th>\n",
       "      <td>0.205098</td>\n",
       "      <td>-0.036643</td>\n",
       "      <td>0.002767</td>\n",
       "      <td>-0.061908</td>\n",
       "      <td>0.033850</td>\n",
       "      <td>-0.004504</td>\n",
       "      <td>-0.028073</td>\n",
       "      <td>0.017860</td>\n",
       "      <td>0.088988</td>\n",
       "      <td>-0.011702</td>\n",
       "      <td>...</td>\n",
       "      <td>-0.006426</td>\n",
       "      <td>0.460783</td>\n",
       "      <td>-0.013237</td>\n",
       "      <td>0.010518</td>\n",
       "      <td>0.759258</td>\n",
       "      <td>0.728973</td>\n",
       "      <td>0.491199</td>\n",
       "      <td>1.000000</td>\n",
       "      <td>-0.158745</td>\n",
       "      <td>-0.122313</td>\n",
       "    </tr>\n",
       "    <tr>\n",
       "      <th>Attrition</th>\n",
       "      <td>-0.189317</td>\n",
       "      <td>0.035758</td>\n",
       "      <td>0.027161</td>\n",
       "      <td>0.162969</td>\n",
       "      <td>0.048006</td>\n",
       "      <td>0.037508</td>\n",
       "      <td>0.007217</td>\n",
       "      <td>0.063248</td>\n",
       "      <td>-0.049118</td>\n",
       "      <td>-0.123490</td>\n",
       "      <td>...</td>\n",
       "      <td>-0.037179</td>\n",
       "      <td>-0.185226</td>\n",
       "      <td>-0.035047</td>\n",
       "      <td>-0.068624</td>\n",
       "      <td>-0.142456</td>\n",
       "      <td>-0.173895</td>\n",
       "      <td>-0.057199</td>\n",
       "      <td>-0.158745</td>\n",
       "      <td>1.000000</td>\n",
       "      <td>-0.039796</td>\n",
       "    </tr>\n",
       "    <tr>\n",
       "      <th>PerformanceRating</th>\n",
       "      <td>-0.040164</td>\n",
       "      <td>-0.001780</td>\n",
       "      <td>0.005607</td>\n",
       "      <td>0.024172</td>\n",
       "      <td>-0.162615</td>\n",
       "      <td>-0.096209</td>\n",
       "      <td>-0.031025</td>\n",
       "      <td>-0.046142</td>\n",
       "      <td>0.020529</td>\n",
       "      <td>0.395561</td>\n",
       "      <td>...</td>\n",
       "      <td>-0.019502</td>\n",
       "      <td>-0.068141</td>\n",
       "      <td>-0.005443</td>\n",
       "      <td>0.124429</td>\n",
       "      <td>-0.111645</td>\n",
       "      <td>-0.147638</td>\n",
       "      <td>-0.167629</td>\n",
       "      <td>-0.122313</td>\n",
       "      <td>-0.039796</td>\n",
       "      <td>1.000000</td>\n",
       "    </tr>\n",
       "  </tbody>\n",
       "</table>\n",
       "<p>27 rows × 27 columns</p>\n",
       "</div>"
      ],
      "text/plain": [
       "                                   Age    Gender  EducationBackground  \\\n",
       "Age                           1.000000 -0.040107            -0.055905   \n",
       "Gender                       -0.040107  1.000000             0.009922   \n",
       "EducationBackground          -0.055905  0.009922             1.000000   \n",
       "MaritalStatus                -0.098368 -0.042169            -0.001097   \n",
       "EmpDepartment                -0.000104 -0.010925            -0.026874   \n",
       "EmpJobRole                   -0.037665  0.011332            -0.012325   \n",
       "BusinessTravelFrequency       0.040579 -0.043608             0.012382   \n",
       "DistanceFromHome              0.020937 -0.001507            -0.013919   \n",
       "EmpEducationLevel             0.207313 -0.022960            -0.047978   \n",
       "EmpEnvironmentSatisfaction    0.013814  0.000033             0.045028   \n",
       "EmpHourlyRate                 0.062867  0.002218            -0.030234   \n",
       "EmpJobInvolvement             0.027216  0.010949            -0.025505   \n",
       "EmpJobLevel                   0.509139 -0.050685            -0.056338   \n",
       "EmpJobSatisfaction           -0.002436  0.024680            -0.030977   \n",
       "NumCompaniesWorked            0.284408 -0.036675            -0.032879   \n",
       "OverTime                      0.051910 -0.038410             0.007046   \n",
       "EmpLastSalaryHikePercent     -0.006105 -0.005319            -0.009788   \n",
       "EmpRelationshipSatisfaction   0.049749  0.030707             0.005652   \n",
       "TotalWorkExperienceInYears    0.680886 -0.061055            -0.027929   \n",
       "TrainingTimesLastYear        -0.016053 -0.057654             0.051596   \n",
       "EmpWorkLifeBalance           -0.019563  0.015793             0.022890   \n",
       "ExperienceYearsAtThisCompany  0.318852 -0.030392            -0.009887   \n",
       "ExperienceYearsInCurrentRole  0.217163 -0.031823            -0.003215   \n",
       "YearsSinceLastPromotion       0.228199 -0.021575             0.014277   \n",
       "YearsWithCurrManager          0.205098 -0.036643             0.002767   \n",
       "Attrition                    -0.189317  0.035758             0.027161   \n",
       "PerformanceRating            -0.040164 -0.001780             0.005607   \n",
       "\n",
       "                              MaritalStatus  EmpDepartment  EmpJobRole  \\\n",
       "Age                               -0.098368      -0.000104   -0.037665   \n",
       "Gender                            -0.042169      -0.010925    0.011332   \n",
       "EducationBackground               -0.001097      -0.026874   -0.012325   \n",
       "MaritalStatus                      1.000000       0.067272    0.038023   \n",
       "EmpDepartment                      0.067272       1.000000    0.568973   \n",
       "EmpJobRole                         0.038023       0.568973    1.000000   \n",
       "BusinessTravelFrequency            0.028520      -0.045233   -0.086251   \n",
       "DistanceFromHome                  -0.019148       0.007707    0.022939   \n",
       "EmpEducationLevel                  0.026737       0.019175   -0.016792   \n",
       "EmpEnvironmentSatisfaction        -0.032467      -0.019237    0.044612   \n",
       "EmpHourlyRate                     -0.013540       0.003957   -0.016179   \n",
       "EmpJobInvolvement                 -0.043355      -0.076988   -0.008034   \n",
       "EmpJobLevel                       -0.087359       0.100526    0.004406   \n",
       "EmpJobSatisfaction                 0.044593       0.007150    0.032916   \n",
       "NumCompaniesWorked                -0.030095      -0.033950   -0.009111   \n",
       "OverTime                          -0.022833      -0.026841    0.015075   \n",
       "EmpLastSalaryHikePercent           0.010128      -0.012661    0.005735   \n",
       "EmpRelationshipSatisfaction        0.026410      -0.050286   -0.043067   \n",
       "TotalWorkExperienceInYears        -0.093537       0.016065   -0.049529   \n",
       "TrainingTimesLastYear              0.026045       0.016438    0.004452   \n",
       "EmpWorkLifeBalance                 0.014154       0.068875   -0.007519   \n",
       "ExperienceYearsAtThisCompany      -0.075728       0.047677   -0.009047   \n",
       "ExperienceYearsInCurrentRole      -0.076663       0.069602    0.019383   \n",
       "YearsSinceLastPromotion           -0.052951       0.052315    0.012190   \n",
       "YearsWithCurrManager              -0.061908       0.033850   -0.004504   \n",
       "Attrition                          0.162969       0.048006    0.037508   \n",
       "PerformanceRating                  0.024172      -0.162615   -0.096209   \n",
       "\n",
       "                              BusinessTravelFrequency  DistanceFromHome  \\\n",
       "Age                                          0.040579          0.020937   \n",
       "Gender                                      -0.043608         -0.001507   \n",
       "EducationBackground                          0.012382         -0.013919   \n",
       "MaritalStatus                                0.028520         -0.019148   \n",
       "EmpDepartment                               -0.045233          0.007707   \n",
       "EmpJobRole                                  -0.086251          0.022939   \n",
       "BusinessTravelFrequency                      1.000000         -0.020935   \n",
       "DistanceFromHome                            -0.020935          1.000000   \n",
       "EmpEducationLevel                            0.002064          0.045856   \n",
       "EmpEnvironmentSatisfaction                   0.012267         -0.017719   \n",
       "EmpHourlyRate                                0.025400          0.013730   \n",
       "EmpJobInvolvement                            0.016652          0.003231   \n",
       "EmpJobLevel                                  0.036360          0.017270   \n",
       "EmpJobSatisfaction                          -0.031236         -0.003036   \n",
       "NumCompaniesWorked                           0.021476         -0.021411   \n",
       "OverTime                                     0.032229          0.024940   \n",
       "EmpLastSalaryHikePercent                    -0.041946          0.044974   \n",
       "EmpRelationshipSatisfaction                 -0.032705         -0.009509   \n",
       "TotalWorkExperienceInYears                   0.042736          0.027306   \n",
       "TrainingTimesLastYear                        0.006720         -0.032082   \n",
       "EmpWorkLifeBalance                          -0.040969         -0.044788   \n",
       "ExperienceYearsAtThisCompany                -0.015029          0.021908   \n",
       "ExperienceYearsInCurrentRole                -0.006541          0.019898   \n",
       "YearsSinceLastPromotion                     -0.020824          0.013246   \n",
       "YearsWithCurrManager                        -0.028073          0.017860   \n",
       "Attrition                                    0.007217          0.063248   \n",
       "PerformanceRating                           -0.031025         -0.046142   \n",
       "\n",
       "                              EmpEducationLevel  EmpEnvironmentSatisfaction  \\\n",
       "Age                                    0.207313                    0.013814   \n",
       "Gender                                -0.022960                    0.000033   \n",
       "EducationBackground                   -0.047978                    0.045028   \n",
       "MaritalStatus                          0.026737                   -0.032467   \n",
       "EmpDepartment                          0.019175                   -0.019237   \n",
       "EmpJobRole                            -0.016792                    0.044612   \n",
       "BusinessTravelFrequency                0.002064                    0.012267   \n",
       "DistanceFromHome                       0.045856                   -0.017719   \n",
       "EmpEducationLevel                      1.000000                   -0.037103   \n",
       "EmpEnvironmentSatisfaction            -0.037103                    1.000000   \n",
       "EmpHourlyRate                          0.014095                   -0.049501   \n",
       "EmpJobInvolvement                      0.027544                    0.004865   \n",
       "EmpJobLevel                            0.100734                   -0.008272   \n",
       "EmpJobSatisfaction                     0.000357                   -0.004319   \n",
       "NumCompaniesWorked                     0.128674                    0.017270   \n",
       "OverTime                              -0.021119                    0.064270   \n",
       "EmpLastSalaryHikePercent               0.002358                   -0.047271   \n",
       "EmpRelationshipSatisfaction           -0.016690                   -0.010504   \n",
       "TotalWorkExperienceInYears             0.151062                   -0.012894   \n",
       "TrainingTimesLastYear                 -0.013674                    0.001192   \n",
       "EmpWorkLifeBalance                     0.010276                   -0.000262   \n",
       "ExperienceYearsAtThisCompany           0.076332                   -0.000561   \n",
       "ExperienceYearsInCurrentRole           0.066672                    0.025491   \n",
       "YearsSinceLastPromotion                0.054313                    0.010732   \n",
       "YearsWithCurrManager                   0.088988                   -0.011702   \n",
       "Attrition                             -0.049118                   -0.123490   \n",
       "PerformanceRating                      0.020529                    0.395561   \n",
       "\n",
       "                              ...  EmpRelationshipSatisfaction  \\\n",
       "Age                           ...                     0.049749   \n",
       "Gender                        ...                     0.030707   \n",
       "EducationBackground           ...                     0.005652   \n",
       "MaritalStatus                 ...                     0.026410   \n",
       "EmpDepartment                 ...                    -0.050286   \n",
       "EmpJobRole                    ...                    -0.043067   \n",
       "BusinessTravelFrequency       ...                    -0.032705   \n",
       "DistanceFromHome              ...                    -0.009509   \n",
       "EmpEducationLevel             ...                    -0.016690   \n",
       "EmpEnvironmentSatisfaction    ...                    -0.010504   \n",
       "EmpHourlyRate                 ...                     0.008783   \n",
       "EmpJobInvolvement             ...                     0.018037   \n",
       "EmpJobLevel                   ...                     0.002992   \n",
       "EmpJobSatisfaction            ...                    -0.022028   \n",
       "NumCompaniesWorked            ...                     0.057917   \n",
       "OverTime                      ...                     0.034146   \n",
       "EmpLastSalaryHikePercent      ...                    -0.042892   \n",
       "EmpRelationshipSatisfaction   ...                     1.000000   \n",
       "TotalWorkExperienceInYears    ...                     0.018089   \n",
       "TrainingTimesLastYear         ...                     0.025975   \n",
       "EmpWorkLifeBalance            ...                    -0.004906   \n",
       "ExperienceYearsAtThisCompany  ...                     0.015612   \n",
       "ExperienceYearsInCurrentRole  ...                    -0.032131   \n",
       "YearsSinceLastPromotion       ...                     0.026253   \n",
       "YearsWithCurrManager          ...                    -0.006426   \n",
       "Attrition                     ...                    -0.037179   \n",
       "PerformanceRating             ...                    -0.019502   \n",
       "\n",
       "                              TotalWorkExperienceInYears  \\\n",
       "Age                                             0.680886   \n",
       "Gender                                         -0.061055   \n",
       "EducationBackground                            -0.027929   \n",
       "MaritalStatus                                  -0.093537   \n",
       "EmpDepartment                                   0.016065   \n",
       "EmpJobRole                                     -0.049529   \n",
       "BusinessTravelFrequency                         0.042736   \n",
       "DistanceFromHome                                0.027306   \n",
       "EmpEducationLevel                               0.151062   \n",
       "EmpEnvironmentSatisfaction                     -0.012894   \n",
       "EmpHourlyRate                                   0.026034   \n",
       "EmpJobInvolvement                              -0.028851   \n",
       "EmpJobLevel                                     0.784229   \n",
       "EmpJobSatisfaction                             -0.026824   \n",
       "NumCompaniesWorked                              0.221505   \n",
       "OverTime                                        0.044233   \n",
       "EmpLastSalaryHikePercent                       -0.005933   \n",
       "EmpRelationshipSatisfaction                     0.018089   \n",
       "TotalWorkExperienceInYears                      1.000000   \n",
       "TrainingTimesLastYear                          -0.022113   \n",
       "EmpWorkLifeBalance                              0.015495   \n",
       "ExperienceYearsAtThisCompany                    0.633555   \n",
       "ExperienceYearsInCurrentRole                    0.460700   \n",
       "YearsSinceLastPromotion                         0.412781   \n",
       "YearsWithCurrManager                            0.460783   \n",
       "Attrition                                      -0.185226   \n",
       "PerformanceRating                              -0.068141   \n",
       "\n",
       "                              TrainingTimesLastYear  EmpWorkLifeBalance  \\\n",
       "Age                                       -0.016053           -0.019563   \n",
       "Gender                                    -0.057654            0.015793   \n",
       "EducationBackground                        0.051596            0.022890   \n",
       "MaritalStatus                              0.026045            0.014154   \n",
       "EmpDepartment                              0.016438            0.068875   \n",
       "EmpJobRole                                 0.004452           -0.007519   \n",
       "BusinessTravelFrequency                    0.006720           -0.040969   \n",
       "DistanceFromHome                          -0.032082           -0.044788   \n",
       "EmpEducationLevel                         -0.013674            0.010276   \n",
       "EmpEnvironmentSatisfaction                 0.001192           -0.000262   \n",
       "EmpHourlyRate                             -0.024160            0.016189   \n",
       "EmpJobInvolvement                         -0.025168           -0.014129   \n",
       "EmpJobLevel                               -0.000389            0.049218   \n",
       "EmpJobSatisfaction                        -0.028031           -0.018548   \n",
       "NumCompaniesWorked                        -0.050817            0.002489   \n",
       "OverTime                                  -0.061398           -0.027968   \n",
       "EmpLastSalaryHikePercent                  -0.013439           -0.017001   \n",
       "EmpRelationshipSatisfaction                0.025975           -0.004906   \n",
       "TotalWorkExperienceInYears                -0.022113            0.015495   \n",
       "TrainingTimesLastYear                      1.000000            0.037048   \n",
       "EmpWorkLifeBalance                         0.037048            1.000000   \n",
       "ExperienceYearsAtThisCompany               0.008564            0.023479   \n",
       "ExperienceYearsInCurrentRole               0.010222            0.045719   \n",
       "YearsSinceLastPromotion                    0.018831            0.015773   \n",
       "YearsWithCurrManager                      -0.013237            0.010518   \n",
       "Attrition                                 -0.035047           -0.068624   \n",
       "PerformanceRating                         -0.005443            0.124429   \n",
       "\n",
       "                              ExperienceYearsAtThisCompany  \\\n",
       "Age                                               0.318852   \n",
       "Gender                                           -0.030392   \n",
       "EducationBackground                              -0.009887   \n",
       "MaritalStatus                                    -0.075728   \n",
       "EmpDepartment                                     0.047677   \n",
       "EmpJobRole                                       -0.009047   \n",
       "BusinessTravelFrequency                          -0.015029   \n",
       "DistanceFromHome                                  0.021908   \n",
       "EmpEducationLevel                                 0.076332   \n",
       "EmpEnvironmentSatisfaction                       -0.000561   \n",
       "EmpHourlyRate                                    -0.000399   \n",
       "EmpJobInvolvement                                -0.039720   \n",
       "EmpJobLevel                                       0.540377   \n",
       "EmpJobSatisfaction                                0.001807   \n",
       "NumCompaniesWorked                               -0.129797   \n",
       "OverTime                                          0.004295   \n",
       "EmpLastSalaryHikePercent                         -0.019830   \n",
       "EmpRelationshipSatisfaction                       0.015612   \n",
       "TotalWorkExperienceInYears                        0.633555   \n",
       "TrainingTimesLastYear                             0.008564   \n",
       "EmpWorkLifeBalance                                0.023479   \n",
       "ExperienceYearsAtThisCompany                      1.000000   \n",
       "ExperienceYearsInCurrentRole                      0.764102   \n",
       "YearsSinceLastPromotion                           0.620230   \n",
       "YearsWithCurrManager                              0.759258   \n",
       "Attrition                                        -0.142456   \n",
       "PerformanceRating                                -0.111645   \n",
       "\n",
       "                              ExperienceYearsInCurrentRole  \\\n",
       "Age                                               0.217163   \n",
       "Gender                                           -0.031823   \n",
       "EducationBackground                              -0.003215   \n",
       "MaritalStatus                                    -0.076663   \n",
       "EmpDepartment                                     0.069602   \n",
       "EmpJobRole                                        0.019383   \n",
       "BusinessTravelFrequency                          -0.006541   \n",
       "DistanceFromHome                                  0.019898   \n",
       "EmpEducationLevel                                 0.066672   \n",
       "EmpEnvironmentSatisfaction                        0.025491   \n",
       "EmpHourlyRate                                    -0.011871   \n",
       "EmpJobInvolvement                                 0.002910   \n",
       "EmpJobLevel                                       0.399235   \n",
       "EmpJobSatisfaction                                0.002018   \n",
       "NumCompaniesWorked                               -0.097271   \n",
       "OverTime                                         -0.015674   \n",
       "EmpLastSalaryHikePercent                         -0.004957   \n",
       "EmpRelationshipSatisfaction                      -0.032131   \n",
       "TotalWorkExperienceInYears                        0.460700   \n",
       "TrainingTimesLastYear                             0.010222   \n",
       "EmpWorkLifeBalance                                0.045719   \n",
       "ExperienceYearsAtThisCompany                      0.764102   \n",
       "ExperienceYearsInCurrentRole                      1.000000   \n",
       "YearsSinceLastPromotion                           0.540600   \n",
       "YearsWithCurrManager                              0.728973   \n",
       "Attrition                                        -0.173895   \n",
       "PerformanceRating                                -0.147638   \n",
       "\n",
       "                              YearsSinceLastPromotion  YearsWithCurrManager  \\\n",
       "Age                                          0.228199              0.205098   \n",
       "Gender                                      -0.021575             -0.036643   \n",
       "EducationBackground                          0.014277              0.002767   \n",
       "MaritalStatus                               -0.052951             -0.061908   \n",
       "EmpDepartment                                0.052315              0.033850   \n",
       "EmpJobRole                                   0.012190             -0.004504   \n",
       "BusinessTravelFrequency                     -0.020824             -0.028073   \n",
       "DistanceFromHome                             0.013246              0.017860   \n",
       "EmpEducationLevel                            0.054313              0.088988   \n",
       "EmpEnvironmentSatisfaction                   0.010732             -0.011702   \n",
       "EmpHourlyRate                               -0.010000             -0.004576   \n",
       "EmpJobInvolvement                           -0.019944              0.012924   \n",
       "EmpJobLevel                                  0.360880              0.374872   \n",
       "EmpJobSatisfaction                          -0.006508             -0.022096   \n",
       "NumCompaniesWorked                          -0.031656             -0.109937   \n",
       "OverTime                                     0.000261             -0.028447   \n",
       "EmpLastSalaryHikePercent                    -0.015911             -0.007666   \n",
       "EmpRelationshipSatisfaction                  0.026253             -0.006426   \n",
       "TotalWorkExperienceInYears                   0.412781              0.460783   \n",
       "TrainingTimesLastYear                        0.018831             -0.013237   \n",
       "EmpWorkLifeBalance                           0.015773              0.010518   \n",
       "ExperienceYearsAtThisCompany                 0.620230              0.759258   \n",
       "ExperienceYearsInCurrentRole                 0.540600              0.728973   \n",
       "YearsSinceLastPromotion                      1.000000              0.491199   \n",
       "YearsWithCurrManager                         0.491199              1.000000   \n",
       "Attrition                                   -0.057199             -0.158745   \n",
       "PerformanceRating                           -0.167629             -0.122313   \n",
       "\n",
       "                              Attrition  PerformanceRating  \n",
       "Age                           -0.189317          -0.040164  \n",
       "Gender                         0.035758          -0.001780  \n",
       "EducationBackground            0.027161           0.005607  \n",
       "MaritalStatus                  0.162969           0.024172  \n",
       "EmpDepartment                  0.048006          -0.162615  \n",
       "EmpJobRole                     0.037508          -0.096209  \n",
       "BusinessTravelFrequency        0.007217          -0.031025  \n",
       "DistanceFromHome               0.063248          -0.046142  \n",
       "EmpEducationLevel             -0.049118           0.020529  \n",
       "EmpEnvironmentSatisfaction    -0.123490           0.395561  \n",
       "EmpHourlyRate                 -0.026313          -0.043116  \n",
       "EmpJobInvolvement             -0.153360          -0.010539  \n",
       "EmpJobLevel                   -0.175763          -0.076632  \n",
       "EmpJobSatisfaction            -0.081783           0.000606  \n",
       "NumCompaniesWorked             0.037643           0.020980  \n",
       "OverTime                       0.224535           0.050206  \n",
       "EmpLastSalaryHikePercent      -0.009448           0.333722  \n",
       "EmpRelationshipSatisfaction   -0.037179          -0.019502  \n",
       "TotalWorkExperienceInYears    -0.185226          -0.068141  \n",
       "TrainingTimesLastYear         -0.035047          -0.005443  \n",
       "EmpWorkLifeBalance            -0.068624           0.124429  \n",
       "ExperienceYearsAtThisCompany  -0.142456          -0.111645  \n",
       "ExperienceYearsInCurrentRole  -0.173895          -0.147638  \n",
       "YearsSinceLastPromotion       -0.057199          -0.167629  \n",
       "YearsWithCurrManager          -0.158745          -0.122313  \n",
       "Attrition                      1.000000          -0.039796  \n",
       "PerformanceRating             -0.039796           1.000000  \n",
       "\n",
       "[27 rows x 27 columns]"
      ]
     },
     "execution_count": 18,
     "metadata": {},
     "output_type": "execute_result"
    }
   ],
   "source": [
    "# Finding out the correlation coeffecient to find out which predictors are significant.\n",
    "data.corr()"
   ]
  },
  {
   "cell_type": "code",
   "execution_count": 19,
   "metadata": {},
   "outputs": [
    {
     "data": {
      "image/png": "[encoded data removed]",
      "text/plain": [
       "<Figure size 864x648 with 2 Axes>"
      ]
     },
     "metadata": {
      "needs_background": "light"
     },
     "output_type": "display_data"
    }
   ],
   "source": [
    "#correlation matrix\n",
    "corrmat = data.corr()\n",
    "f, ax = plt.subplots(figsize=(12, 9))\n",
    "sns.heatmap(corrmat, vmax=.8, square=True);"
   ]
  },
  {
   "cell_type": "markdown",
   "metadata": {},
   "source": [
    "In my opinion, this heatmap is the best way to get a quick overview of our 'plasma soup' and its relationships. (Thank you @seaborn!)"
   ]
  },
  {
   "cell_type": "code",
   "execution_count": 20,
   "metadata": {},
   "outputs": [],
   "source": [
    "# Dropping the first columns as it is of no use for analysis.\n",
    "data.drop(['EmpNumber'],inplace=True,axis=1)"
   ]
  },
  {
   "cell_type": "code",
   "execution_count": 21,
   "metadata": {},
   "outputs": [
    {
     "data": {
      "text/html": [
       "<div>\n",
       "<style scoped>\n",
       "    .dataframe tbody tr th:only-of-type {\n",
       "        vertical-align: middle;\n",
       "    }\n",
       "\n",
       "    .dataframe tbody tr th {\n",
       "        vertical-align: top;\n",
       "    }\n",
       "\n",
       "    .dataframe thead th {\n",
       "        text-align: right;\n",
       "    }\n",
       "</style>\n",
       "<table border=\"1\" class=\"dataframe\">\n",
       "  <thead>\n",
       "    <tr style=\"text-align: right;\">\n",
       "      <th></th>\n",
       "      <th>Age</th>\n",
       "      <th>Gender</th>\n",
       "      <th>EducationBackground</th>\n",
       "      <th>MaritalStatus</th>\n",
       "      <th>EmpDepartment</th>\n",
       "      <th>EmpJobRole</th>\n",
       "      <th>BusinessTravelFrequency</th>\n",
       "      <th>DistanceFromHome</th>\n",
       "      <th>EmpEducationLevel</th>\n",
       "      <th>EmpEnvironmentSatisfaction</th>\n",
       "      <th>...</th>\n",
       "      <th>EmpRelationshipSatisfaction</th>\n",
       "      <th>TotalWorkExperienceInYears</th>\n",
       "      <th>TrainingTimesLastYear</th>\n",
       "      <th>EmpWorkLifeBalance</th>\n",
       "      <th>ExperienceYearsAtThisCompany</th>\n",
       "      <th>ExperienceYearsInCurrentRole</th>\n",
       "      <th>YearsSinceLastPromotion</th>\n",
       "      <th>YearsWithCurrManager</th>\n",
       "      <th>Attrition</th>\n",
       "      <th>PerformanceRating</th>\n",
       "    </tr>\n",
       "  </thead>\n",
       "  <tbody>\n",
       "    <tr>\n",
       "      <th>0</th>\n",
       "      <td>32</td>\n",
       "      <td>1</td>\n",
       "      <td>2</td>\n",
       "      <td>2</td>\n",
       "      <td>5</td>\n",
       "      <td>13</td>\n",
       "      <td>2</td>\n",
       "      <td>10</td>\n",
       "      <td>3</td>\n",
       "      <td>4</td>\n",
       "      <td>...</td>\n",
       "      <td>4</td>\n",
       "      <td>10</td>\n",
       "      <td>2</td>\n",
       "      <td>2</td>\n",
       "      <td>10</td>\n",
       "      <td>7</td>\n",
       "      <td>0</td>\n",
       "      <td>8</td>\n",
       "      <td>0</td>\n",
       "      <td>3</td>\n",
       "    </tr>\n",
       "    <tr>\n",
       "      <th>1</th>\n",
       "      <td>47</td>\n",
       "      <td>1</td>\n",
       "      <td>2</td>\n",
       "      <td>2</td>\n",
       "      <td>5</td>\n",
       "      <td>13</td>\n",
       "      <td>2</td>\n",
       "      <td>14</td>\n",
       "      <td>4</td>\n",
       "      <td>4</td>\n",
       "      <td>...</td>\n",
       "      <td>4</td>\n",
       "      <td>20</td>\n",
       "      <td>2</td>\n",
       "      <td>3</td>\n",
       "      <td>7</td>\n",
       "      <td>7</td>\n",
       "      <td>1</td>\n",
       "      <td>7</td>\n",
       "      <td>0</td>\n",
       "      <td>3</td>\n",
       "    </tr>\n",
       "    <tr>\n",
       "      <th>2</th>\n",
       "      <td>40</td>\n",
       "      <td>1</td>\n",
       "      <td>1</td>\n",
       "      <td>1</td>\n",
       "      <td>5</td>\n",
       "      <td>13</td>\n",
       "      <td>1</td>\n",
       "      <td>5</td>\n",
       "      <td>4</td>\n",
       "      <td>4</td>\n",
       "      <td>...</td>\n",
       "      <td>3</td>\n",
       "      <td>20</td>\n",
       "      <td>2</td>\n",
       "      <td>3</td>\n",
       "      <td>18</td>\n",
       "      <td>13</td>\n",
       "      <td>1</td>\n",
       "      <td>12</td>\n",
       "      <td>0</td>\n",
       "      <td>4</td>\n",
       "    </tr>\n",
       "    <tr>\n",
       "      <th>3</th>\n",
       "      <td>41</td>\n",
       "      <td>1</td>\n",
       "      <td>0</td>\n",
       "      <td>0</td>\n",
       "      <td>3</td>\n",
       "      <td>8</td>\n",
       "      <td>2</td>\n",
       "      <td>10</td>\n",
       "      <td>4</td>\n",
       "      <td>2</td>\n",
       "      <td>...</td>\n",
       "      <td>2</td>\n",
       "      <td>23</td>\n",
       "      <td>2</td>\n",
       "      <td>2</td>\n",
       "      <td>21</td>\n",
       "      <td>6</td>\n",
       "      <td>12</td>\n",
       "      <td>6</td>\n",
       "      <td>0</td>\n",
       "      <td>3</td>\n",
       "    </tr>\n",
       "    <tr>\n",
       "      <th>4</th>\n",
       "      <td>60</td>\n",
       "      <td>1</td>\n",
       "      <td>2</td>\n",
       "      <td>2</td>\n",
       "      <td>5</td>\n",
       "      <td>13</td>\n",
       "      <td>2</td>\n",
       "      <td>16</td>\n",
       "      <td>4</td>\n",
       "      <td>1</td>\n",
       "      <td>...</td>\n",
       "      <td>4</td>\n",
       "      <td>10</td>\n",
       "      <td>1</td>\n",
       "      <td>3</td>\n",
       "      <td>2</td>\n",
       "      <td>2</td>\n",
       "      <td>2</td>\n",
       "      <td>2</td>\n",
       "      <td>0</td>\n",
       "      <td>3</td>\n",
       "    </tr>\n",
       "  </tbody>\n",
       "</table>\n",
       "<p>5 rows × 27 columns</p>\n",
       "</div>"
      ],
      "text/plain": [
       "   Age  Gender  EducationBackground  MaritalStatus  EmpDepartment  EmpJobRole  \\\n",
       "0   32       1                    2              2              5          13   \n",
       "1   47       1                    2              2              5          13   \n",
       "2   40       1                    1              1              5          13   \n",
       "3   41       1                    0              0              3           8   \n",
       "4   60       1                    2              2              5          13   \n",
       "\n",
       "   BusinessTravelFrequency  DistanceFromHome  EmpEducationLevel  \\\n",
       "0                        2                10                  3   \n",
       "1                        2                14                  4   \n",
       "2                        1                 5                  4   \n",
       "3                        2                10                  4   \n",
       "4                        2                16                  4   \n",
       "\n",
       "   EmpEnvironmentSatisfaction  ...  EmpRelationshipSatisfaction  \\\n",
       "0                           4  ...                            4   \n",
       "1                           4  ...                            4   \n",
       "2                           4  ...                            3   \n",
       "3                           2  ...                            2   \n",
       "4                           1  ...                            4   \n",
       "\n",
       "   TotalWorkExperienceInYears  TrainingTimesLastYear  EmpWorkLifeBalance  \\\n",
       "0                          10                      2                   2   \n",
       "1                          20                      2                   3   \n",
       "2                          20                      2                   3   \n",
       "3                          23                      2                   2   \n",
       "4                          10                      1                   3   \n",
       "\n",
       "   ExperienceYearsAtThisCompany  ExperienceYearsInCurrentRole  \\\n",
       "0                            10                             7   \n",
       "1                             7                             7   \n",
       "2                            18                            13   \n",
       "3                            21                             6   \n",
       "4                             2                             2   \n",
       "\n",
       "   YearsSinceLastPromotion  YearsWithCurrManager  Attrition  PerformanceRating  \n",
       "0                        0                     8          0                  3  \n",
       "1                        1                     7          0                  3  \n",
       "2                        1                    12          0                  4  \n",
       "3                       12                     6          0                  3  \n",
       "4                        2                     2          0                  3  \n",
       "\n",
       "[5 rows x 27 columns]"
      ]
     },
     "execution_count": 21,
     "metadata": {},
     "output_type": "execute_result"
    }
   ],
   "source": [
    "data.head()"
   ]
  },
  {
   "cell_type": "code",
   "execution_count": 22,
   "metadata": {},
   "outputs": [
    {
     "data": {
      "text/html": [
       "<div>\n",
       "<style scoped>\n",
       "    .dataframe tbody tr th:only-of-type {\n",
       "        vertical-align: middle;\n",
       "    }\n",
       "\n",
       "    .dataframe tbody tr th {\n",
       "        vertical-align: top;\n",
       "    }\n",
       "\n",
       "    .dataframe thead th {\n",
       "        text-align: right;\n",
       "    }\n",
       "</style>\n",
       "<table border=\"1\" class=\"dataframe\">\n",
       "  <thead>\n",
       "    <tr style=\"text-align: right;\">\n",
       "      <th></th>\n",
       "      <th>EmpDepartment</th>\n",
       "      <th>EmpJobRole</th>\n",
       "      <th>EmpEnvironmentSatisfaction</th>\n",
       "      <th>EmpLastSalaryHikePercent</th>\n",
       "      <th>EmpWorkLifeBalance</th>\n",
       "      <th>ExperienceYearsAtThisCompany</th>\n",
       "      <th>ExperienceYearsInCurrentRole</th>\n",
       "      <th>YearsSinceLastPromotion</th>\n",
       "      <th>YearsWithCurrManager</th>\n",
       "    </tr>\n",
       "  </thead>\n",
       "  <tbody>\n",
       "    <tr>\n",
       "      <th>0</th>\n",
       "      <td>5</td>\n",
       "      <td>13</td>\n",
       "      <td>4</td>\n",
       "      <td>12</td>\n",
       "      <td>2</td>\n",
       "      <td>10</td>\n",
       "      <td>7</td>\n",
       "      <td>0</td>\n",
       "      <td>8</td>\n",
       "    </tr>\n",
       "    <tr>\n",
       "      <th>1</th>\n",
       "      <td>5</td>\n",
       "      <td>13</td>\n",
       "      <td>4</td>\n",
       "      <td>12</td>\n",
       "      <td>3</td>\n",
       "      <td>7</td>\n",
       "      <td>7</td>\n",
       "      <td>1</td>\n",
       "      <td>7</td>\n",
       "    </tr>\n",
       "    <tr>\n",
       "      <th>2</th>\n",
       "      <td>5</td>\n",
       "      <td>13</td>\n",
       "      <td>4</td>\n",
       "      <td>21</td>\n",
       "      <td>3</td>\n",
       "      <td>18</td>\n",
       "      <td>13</td>\n",
       "      <td>1</td>\n",
       "      <td>12</td>\n",
       "    </tr>\n",
       "    <tr>\n",
       "      <th>3</th>\n",
       "      <td>3</td>\n",
       "      <td>8</td>\n",
       "      <td>2</td>\n",
       "      <td>15</td>\n",
       "      <td>2</td>\n",
       "      <td>21</td>\n",
       "      <td>6</td>\n",
       "      <td>12</td>\n",
       "      <td>6</td>\n",
       "    </tr>\n",
       "    <tr>\n",
       "      <th>4</th>\n",
       "      <td>5</td>\n",
       "      <td>13</td>\n",
       "      <td>1</td>\n",
       "      <td>14</td>\n",
       "      <td>3</td>\n",
       "      <td>2</td>\n",
       "      <td>2</td>\n",
       "      <td>2</td>\n",
       "      <td>2</td>\n",
       "    </tr>\n",
       "  </tbody>\n",
       "</table>\n",
       "</div>"
      ],
      "text/plain": [
       "   EmpDepartment  EmpJobRole  EmpEnvironmentSatisfaction  \\\n",
       "0              5          13                           4   \n",
       "1              5          13                           4   \n",
       "2              5          13                           4   \n",
       "3              3           8                           2   \n",
       "4              5          13                           1   \n",
       "\n",
       "   EmpLastSalaryHikePercent  EmpWorkLifeBalance  ExperienceYearsAtThisCompany  \\\n",
       "0                        12                   2                            10   \n",
       "1                        12                   3                             7   \n",
       "2                        21                   3                            18   \n",
       "3                        15                   2                            21   \n",
       "4                        14                   3                             2   \n",
       "\n",
       "   ExperienceYearsInCurrentRole  YearsSinceLastPromotion  YearsWithCurrManager  \n",
       "0                             7                        0                     8  \n",
       "1                             7                        1                     7  \n",
       "2                            13                        1                    12  \n",
       "3                             6                       12                     6  \n",
       "4                             2                        2                     2  "
      ]
     },
     "execution_count": 22,
     "metadata": {},
     "output_type": "execute_result"
    }
   ],
   "source": [
    "# Here we have selected only the important columns\n",
    "y = data.PerformanceRating\n",
    "#X = data.iloc[:,0:-1]  All predictors were selected it resulted in dropping of accuracy.\n",
    "X = data.iloc[:,[4,5,9,16,20,21,22,23,24]] # Taking only variables with correlation coeffecient greater than 0.1\n",
    "X.head()"
   ]
  },
  {
   "cell_type": "code",
   "execution_count": 23,
   "metadata": {},
   "outputs": [
    {
     "data": {
      "text/plain": [
       "array([ 8,  7, 12,  6,  2,  5,  0,  4, 13,  3,  1, 16,  9, 17, 11, 10, 14,\n",
       "       15], dtype=int64)"
      ]
     },
     "execution_count": 23,
     "metadata": {},
     "output_type": "execute_result"
    }
   ],
   "source": [
    "data[\"YearsWithCurrManager\"].unique()"
   ]
  },
  {
   "cell_type": "code",
   "execution_count": 24,
   "metadata": {},
   "outputs": [],
   "source": [
    "# Splitting into train and test for calculating the accuracy\n",
    "X_train, X_test, y_train, y_test = train_test_split(X,y,test_size=0.2,random_state=10)"
   ]
  },
  {
   "cell_type": "code",
   "execution_count": 25,
   "metadata": {},
   "outputs": [],
   "source": [
    "# Standardization technique is used\n",
    "sc = StandardScaler()\n",
    "X_train = sc.fit_transform(X_train)\n",
    "X_test = sc.transform(X_test)"
   ]
  },
  {
   "cell_type": "code",
   "execution_count": 26,
   "metadata": {},
   "outputs": [
    {
     "data": {
      "text/plain": [
       "(960, 9)"
      ]
     },
     "execution_count": 26,
     "metadata": {},
     "output_type": "execute_result"
    }
   ],
   "source": [
    "X_train.shape"
   ]
  },
  {
   "cell_type": "code",
   "execution_count": 27,
   "metadata": {},
   "outputs": [
    {
     "data": {
      "text/plain": [
       "(240, 9)"
      ]
     },
     "execution_count": 27,
     "metadata": {},
     "output_type": "execute_result"
    }
   ],
   "source": [
    "X_test.shape"
   ]
  },
  {
   "cell_type": "markdown",
   "metadata": {},
   "source": [
    "#### PCA was used, it resulted in decline of accuracy.\n",
    "    from sklearn.decomposition import PCA\n",
    "    pca=PCA(n_components=None)\n",
    "    X_train=pca.fit_transform(X_train)\n",
    "    X_test=pca.transform(X_test)\n",
    "    pca.explained_variance_ratio_"
   ]
  },
  {
   "cell_type": "markdown",
   "metadata": {},
   "source": [
    "## Models"
   ]
  },
  {
   "cell_type": "markdown",
   "metadata": {},
   "source": [
    "-     In the section below, we used algorithms like Logistic Regression, Support Vector Machine, Decision Tree, Random Forest, Naive Bayes, K-Nearest Neighbor, XGBoost Classifier and Artificial Neural Network to calculate the accuracy and found out that Random Forest with GridSearchCV gives the maximum accuracy of 93%."
   ]
  },
  {
   "cell_type": "markdown",
   "metadata": {},
   "source": [
    "## 1. Logistic Regression"
   ]
  },
  {
   "cell_type": "code",
   "execution_count": 28,
   "metadata": {},
   "outputs": [
    {
     "data": {
      "text/plain": [
       "LogisticRegression(C=1.0, class_weight=None, dual=False, fit_intercept=True,\n",
       "          intercept_scaling=1, max_iter=100, multi_class='warn',\n",
       "          n_jobs=None, penalty='l2', random_state=None, solver='warn',\n",
       "          tol=0.0001, verbose=0, warm_start=False)"
      ]
     },
     "execution_count": 28,
     "metadata": {},
     "output_type": "execute_result"
    }
   ],
   "source": [
    "# Training the model\n",
    "from sklearn.linear_model import LogisticRegression\n",
    "model_logr = LogisticRegression()\n",
    "model_logr.fit(X_train,y_train)"
   ]
  },
  {
   "cell_type": "code",
   "execution_count": 29,
   "metadata": {},
   "outputs": [],
   "source": [
    "# Predicting the model\n",
    "y_predict_log = model_logr.predict(X_test)"
   ]
  },
  {
   "cell_type": "code",
   "execution_count": 30,
   "metadata": {},
   "outputs": [
    {
     "name": "stdout",
     "output_type": "stream",
     "text": [
      "0.8583333333333333\n",
      "              precision    recall  f1-score   support\n",
      "\n",
      "           2       0.69      0.58      0.63        38\n",
      "           3       0.88      0.94      0.91       179\n",
      "           4       0.88      0.65      0.75        23\n",
      "\n",
      "   micro avg       0.86      0.86      0.86       240\n",
      "   macro avg       0.82      0.73      0.76       240\n",
      "weighted avg       0.85      0.86      0.85       240\n",
      "\n"
     ]
    }
   ],
   "source": [
    "# Finding accuracy, precision, recall and confusion matrix\n",
    "print(accuracy_score(y_test,y_predict_log))\n",
    "print(classification_report(y_test,y_predict_log))"
   ]
  },
  {
   "cell_type": "code",
   "execution_count": 31,
   "metadata": {},
   "outputs": [
    {
     "data": {
      "text/plain": [
       "array([[ 22,  16,   0],\n",
       "       [  8, 169,   2],\n",
       "       [  2,   6,  15]], dtype=int64)"
      ]
     },
     "execution_count": 31,
     "metadata": {},
     "output_type": "execute_result"
    }
   ],
   "source": [
    "confusion_matrix(y_test,y_predict_log)"
   ]
  },
  {
   "cell_type": "markdown",
   "metadata": {},
   "source": [
    "## 2. Support Vector Machine"
   ]
  },
  {
   "cell_type": "code",
   "execution_count": 32,
   "metadata": {},
   "outputs": [],
   "source": [
    "# Training the model\n",
    "from sklearn.svm import SVC\n",
    "rbf_svc = SVC(kernel='rbf', C=100, random_state=10).fit(X_train,y_train)"
   ]
  },
  {
   "cell_type": "code",
   "execution_count": 33,
   "metadata": {},
   "outputs": [],
   "source": [
    "# Predicting the model\n",
    "y_predict_svm = rbf_svc.predict(X_test)"
   ]
  },
  {
   "cell_type": "code",
   "execution_count": 34,
   "metadata": {},
   "outputs": [
    {
     "name": "stdout",
     "output_type": "stream",
     "text": [
      "0.8666666666666667\n",
      "              precision    recall  f1-score   support\n",
      "\n",
      "           2       0.77      0.79      0.78        38\n",
      "           3       0.92      0.91      0.91       179\n",
      "           4       0.64      0.70      0.67        23\n",
      "\n",
      "   micro avg       0.87      0.87      0.87       240\n",
      "   macro avg       0.78      0.80      0.79       240\n",
      "weighted avg       0.87      0.87      0.87       240\n",
      "\n"
     ]
    }
   ],
   "source": [
    "# Finding accuracy, precision, recall and confusion matrix\n",
    "print(accuracy_score(y_test,y_predict_svm))\n",
    "print(classification_report(y_test,y_predict_svm))"
   ]
  },
  {
   "cell_type": "code",
   "execution_count": 35,
   "metadata": {},
   "outputs": [
    {
     "data": {
      "text/plain": [
       "array([[ 30,   8,   0],\n",
       "       [  8, 162,   9],\n",
       "       [  1,   6,  16]], dtype=int64)"
      ]
     },
     "execution_count": 35,
     "metadata": {},
     "output_type": "execute_result"
    }
   ],
   "source": [
    "confusion_matrix(y_test,y_predict_svm)"
   ]
  },
  {
   "cell_type": "markdown",
   "metadata": {},
   "source": [
    "## 3. Decision Tree with GridSearchCV"
   ]
  },
  {
   "cell_type": "code",
   "execution_count": 36,
   "metadata": {},
   "outputs": [
    {
     "data": {
      "text/plain": [
       "GridSearchCV(cv=10, error_score='raise-deprecating',\n",
       "       estimator=DecisionTreeClassifier(class_weight=None, criterion='gini', max_depth=None,\n",
       "            max_features=None, max_leaf_nodes=None,\n",
       "            min_impurity_decrease=0.0, min_impurity_split=None,\n",
       "            min_samples_leaf=1, min_samples_split=2,\n",
       "            min_weight_fraction_leaf=0.0, presort=False, random_state=42,\n",
       "            splitter='best'),\n",
       "       fit_params=None, iid='warn', n_jobs=None,\n",
       "       param_grid=[{'min_samples_split': [2, 3, 4, 5], 'criterion': ['gini']}, {'min_samples_split': [2, 3, 4, 5], 'criterion': ['entropy']}],\n",
       "       pre_dispatch='2*n_jobs', refit=True, return_train_score='warn',\n",
       "       scoring='accuracy', verbose=0)"
      ]
     },
     "execution_count": 36,
     "metadata": {},
     "output_type": "execute_result"
    }
   ],
   "source": [
    "# Training the model\n",
    "from sklearn.tree import DecisionTreeClassifier\n",
    "\n",
    "classifier_dtg=DecisionTreeClassifier(random_state=42,splitter='best')\n",
    "parameters=[{'min_samples_split':[2,3,4,5],'criterion':['gini']},{'min_samples_split':[2,3,4,5],'criterion':['entropy']}]\n",
    "\n",
    "model_griddtree=GridSearchCV(estimator=classifier_dtg, param_grid=parameters, scoring='accuracy',cv=10)\n",
    "model_griddtree.fit(X_train,y_train)"
   ]
  },
  {
   "cell_type": "code",
   "execution_count": 37,
   "metadata": {},
   "outputs": [
    {
     "data": {
      "text/plain": [
       "{'criterion': 'entropy', 'min_samples_split': 5}"
      ]
     },
     "execution_count": 37,
     "metadata": {},
     "output_type": "execute_result"
    }
   ],
   "source": [
    "model_griddtree.best_params_"
   ]
  },
  {
   "cell_type": "code",
   "execution_count": 38,
   "metadata": {},
   "outputs": [],
   "source": [
    "# Predicting the model\n",
    "y_predict_dtree = model_griddtree.predict(X_test)"
   ]
  },
  {
   "cell_type": "code",
   "execution_count": 39,
   "metadata": {},
   "outputs": [
    {
     "name": "stdout",
     "output_type": "stream",
     "text": [
      "0.925\n",
      "              precision    recall  f1-score   support\n",
      "\n",
      "           2       0.87      0.89      0.88        38\n",
      "           3       0.96      0.96      0.96       179\n",
      "           4       0.77      0.74      0.76        23\n",
      "\n",
      "   micro avg       0.93      0.93      0.93       240\n",
      "   macro avg       0.87      0.86      0.86       240\n",
      "weighted avg       0.92      0.93      0.92       240\n",
      "\n"
     ]
    }
   ],
   "source": [
    "# Finding accuracy, precision, recall and confusion matrix\n",
    "print(accuracy_score(y_test,y_predict_dtree))\n",
    "print(classification_report(y_test,y_predict_dtree))"
   ]
  },
  {
   "cell_type": "code",
   "execution_count": 40,
   "metadata": {},
   "outputs": [
    {
     "data": {
      "text/plain": [
       "array([[ 34,   3,   1],\n",
       "       [  4, 171,   4],\n",
       "       [  1,   5,  17]], dtype=int64)"
      ]
     },
     "execution_count": 40,
     "metadata": {},
     "output_type": "execute_result"
    }
   ],
   "source": [
    "confusion_matrix(y_test,y_predict_dtree)"
   ]
  },
  {
   "cell_type": "markdown",
   "metadata": {},
   "source": [
    "## 4. Random Forest with GridSearchCV"
   ]
  },
  {
   "cell_type": "code",
   "execution_count": 41,
   "metadata": {},
   "outputs": [
    {
     "data": {
      "text/plain": [
       "GridSearchCV(cv=10, error_score='raise-deprecating',\n",
       "       estimator=RandomForestClassifier(bootstrap=True, class_weight=None, criterion='gini',\n",
       "            max_depth=None, max_features='auto', max_leaf_nodes=None,\n",
       "            min_impurity_decrease=0.0, min_impurity_split=None,\n",
       "            min_samples_leaf=1, min_samples_split=2,\n",
       "            min_weight_fraction_leaf=0.0, n_estimators=23, n_jobs=None,\n",
       "            oob_score=False, random_state=33, verbose=0, warm_start=False),\n",
       "       fit_params=None, iid='warn', n_jobs=None,\n",
       "       param_grid=[{'min_samples_split': [2, 3, 4, 5], 'criterion': ['gini', 'entropy'], 'min_samples_leaf': [1, 2, 3]}],\n",
       "       pre_dispatch='2*n_jobs', refit=True, return_train_score='warn',\n",
       "       scoring='accuracy', verbose=0)"
      ]
     },
     "execution_count": 41,
     "metadata": {},
     "output_type": "execute_result"
    }
   ],
   "source": [
    "# Training the model\n",
    "from sklearn.ensemble import RandomForestClassifier\n",
    "\n",
    "classifier_rfg=RandomForestClassifier(random_state=33,n_estimators=23)\n",
    "parameters=[{'min_samples_split':[2,3,4,5],'criterion':['gini','entropy'],'min_samples_leaf':[1,2,3]}]\n",
    "\n",
    "model_gridrf=GridSearchCV(estimator=classifier_rfg, param_grid=parameters, scoring='accuracy',cv=10)\n",
    "model_gridrf.fit(X_train,y_train)"
   ]
  },
  {
   "cell_type": "code",
   "execution_count": 42,
   "metadata": {},
   "outputs": [
    {
     "data": {
      "text/plain": [
       "{'criterion': 'gini', 'min_samples_leaf': 2, 'min_samples_split': 2}"
      ]
     },
     "execution_count": 42,
     "metadata": {},
     "output_type": "execute_result"
    }
   ],
   "source": [
    "model_gridrf.best_params_"
   ]
  },
  {
   "cell_type": "code",
   "execution_count": 43,
   "metadata": {},
   "outputs": [],
   "source": [
    "# Predicting the model\n",
    "y_predict_rf = model_gridrf.predict(X_test)"
   ]
  },
  {
   "cell_type": "code",
   "execution_count": 44,
   "metadata": {},
   "outputs": [
    {
     "name": "stdout",
     "output_type": "stream",
     "text": [
      "0.9416666666666667\n",
      "              precision    recall  f1-score   support\n",
      "\n",
      "           2       0.92      0.92      0.92        38\n",
      "           3       0.96      0.97      0.96       179\n",
      "           4       0.86      0.78      0.82        23\n",
      "\n",
      "   micro avg       0.94      0.94      0.94       240\n",
      "   macro avg       0.91      0.89      0.90       240\n",
      "weighted avg       0.94      0.94      0.94       240\n",
      "\n"
     ]
    }
   ],
   "source": [
    "# Finding accuracy, precision, recall and confusion matrix\n",
    "print(accuracy_score(y_test,y_predict_rf))\n",
    "print(classification_report(y_test,y_predict_rf))"
   ]
  },
  {
   "cell_type": "code",
   "execution_count": 45,
   "metadata": {},
   "outputs": [
    {
     "data": {
      "text/plain": [
       "array([[ 35,   3,   0],\n",
       "       [  3, 173,   3],\n",
       "       [  0,   5,  18]], dtype=int64)"
      ]
     },
     "execution_count": 45,
     "metadata": {},
     "output_type": "execute_result"
    }
   ],
   "source": [
    "confusion_matrix(y_test,y_predict_rf)"
   ]
  },
  {
   "cell_type": "markdown",
   "metadata": {},
   "source": [
    "## 5. Naive Bayes Bernoulli"
   ]
  },
  {
   "cell_type": "code",
   "execution_count": 46,
   "metadata": {},
   "outputs": [
    {
     "data": {
      "text/plain": [
       "BernoulliNB(alpha=1.0, binarize=0.0, class_prior=None, fit_prior=True)"
      ]
     },
     "execution_count": 46,
     "metadata": {},
     "output_type": "execute_result"
    }
   ],
   "source": [
    "# Training the model\n",
    "from sklearn.naive_bayes import BernoulliNB\n",
    "model_nb = BernoulliNB()\n",
    "model_nb.fit(X_train,y_train)"
   ]
  },
  {
   "cell_type": "code",
   "execution_count": 47,
   "metadata": {},
   "outputs": [],
   "source": [
    "# Predicting the model\n",
    "y_predict_nb = model_nb.predict(X_test)"
   ]
  },
  {
   "cell_type": "code",
   "execution_count": 48,
   "metadata": {},
   "outputs": [
    {
     "name": "stdout",
     "output_type": "stream",
     "text": [
      "0.8\n",
      "              precision    recall  f1-score   support\n",
      "\n",
      "           2       0.68      0.55      0.61        38\n",
      "           3       0.82      0.96      0.88       179\n",
      "           4       0.00      0.00      0.00        23\n",
      "\n",
      "   micro avg       0.80      0.80      0.80       240\n",
      "   macro avg       0.50      0.50      0.50       240\n",
      "weighted avg       0.72      0.80      0.75       240\n",
      "\n"
     ]
    }
   ],
   "source": [
    "# Finding accuracy, precision, recall and confusion matrix\n",
    "print(accuracy_score(y_test,y_predict_nb))\n",
    "print(classification_report(y_test,y_predict_nb))"
   ]
  },
  {
   "cell_type": "code",
   "execution_count": 49,
   "metadata": {},
   "outputs": [
    {
     "data": {
      "text/plain": [
       "array([[ 21,  17,   0],\n",
       "       [  8, 171,   0],\n",
       "       [  2,  21,   0]], dtype=int64)"
      ]
     },
     "execution_count": 49,
     "metadata": {},
     "output_type": "execute_result"
    }
   ],
   "source": [
    "confusion_matrix(y_test,y_predict_nb)"
   ]
  },
  {
   "cell_type": "markdown",
   "metadata": {},
   "source": [
    "## 6. K-Nearest Neighbor"
   ]
  },
  {
   "cell_type": "code",
   "execution_count": 50,
   "metadata": {},
   "outputs": [
    {
     "data": {
      "text/plain": [
       "KNeighborsClassifier(algorithm='auto', leaf_size=30, metric='euclidean',\n",
       "           metric_params=None, n_jobs=None, n_neighbors=10, p=2,\n",
       "           weights='uniform')"
      ]
     },
     "execution_count": 50,
     "metadata": {},
     "output_type": "execute_result"
    }
   ],
   "source": [
    "# Training the model\n",
    "from sklearn.neighbors import KNeighborsClassifier\n",
    "model_knn = KNeighborsClassifier(n_neighbors=10,metric='euclidean') # Maximum accuracy for n=10\n",
    "model_knn.fit(X_train,y_train)"
   ]
  },
  {
   "cell_type": "code",
   "execution_count": 51,
   "metadata": {},
   "outputs": [],
   "source": [
    "# Predicting the model\n",
    "y_predict_knn = model_knn.predict(X_test)"
   ]
  },
  {
   "cell_type": "code",
   "execution_count": 52,
   "metadata": {},
   "outputs": [
    {
     "name": "stdout",
     "output_type": "stream",
     "text": [
      "0.8416666666666667\n",
      "              precision    recall  f1-score   support\n",
      "\n",
      "           2       0.65      0.63      0.64        38\n",
      "           3       0.88      0.93      0.90       179\n",
      "           4       0.86      0.52      0.65        23\n",
      "\n",
      "   micro avg       0.84      0.84      0.84       240\n",
      "   macro avg       0.79      0.69      0.73       240\n",
      "weighted avg       0.84      0.84      0.84       240\n",
      "\n"
     ]
    }
   ],
   "source": [
    "# Finding accuracy, precision, recall and confusion matrix\n",
    "print(accuracy_score(y_test,y_predict_knn))\n",
    "print(classification_report(y_test,y_predict_knn))"
   ]
  },
  {
   "cell_type": "code",
   "execution_count": 53,
   "metadata": {},
   "outputs": [
    {
     "data": {
      "text/plain": [
       "array([[ 24,  13,   1],\n",
       "       [ 12, 166,   1],\n",
       "       [  1,  10,  12]], dtype=int64)"
      ]
     },
     "execution_count": 53,
     "metadata": {},
     "output_type": "execute_result"
    }
   ],
   "source": [
    "confusion_matrix(y_test,y_predict_knn)"
   ]
  },
  {
   "cell_type": "markdown",
   "metadata": {},
   "source": [
    "## 7. XGBoost Classifier"
   ]
  },
  {
   "cell_type": "code",
   "execution_count": 54,
   "metadata": {},
   "outputs": [
    {
     "data": {
      "text/plain": [
       "XGBClassifier(base_score=0.5, booster='gbtree', colsample_bylevel=1,\n",
       "       colsample_bynode=1, colsample_bytree=1, gamma=0, learning_rate=0.1,\n",
       "       max_delta_step=0, max_depth=3, min_child_weight=1, missing=None,\n",
       "       n_estimators=100, n_jobs=1, nthread=None,\n",
       "       objective='multi:softprob', random_state=0, reg_alpha=0,\n",
       "       reg_lambda=1, scale_pos_weight=1, seed=None, silent=None,\n",
       "       subsample=1, verbosity=1)"
      ]
     },
     "execution_count": 54,
     "metadata": {},
     "output_type": "execute_result"
    }
   ],
   "source": [
    "# Training the model\n",
    "from xgboost import XGBClassifier\n",
    "model_xgb = XGBClassifier()\n",
    "model_xgb.fit(X_train,y_train)"
   ]
  },
  {
   "cell_type": "code",
   "execution_count": 55,
   "metadata": {},
   "outputs": [],
   "source": [
    "# Predicting the model\n",
    "y_predict_xgb = model_xgb.predict(X_test)"
   ]
  },
  {
   "cell_type": "code",
   "execution_count": 56,
   "metadata": {},
   "outputs": [
    {
     "name": "stdout",
     "output_type": "stream",
     "text": [
      "0.9416666666666667\n",
      "              precision    recall  f1-score   support\n",
      "\n",
      "           2       0.88      0.92      0.90        38\n",
      "           3       0.96      0.97      0.96       179\n",
      "           4       0.90      0.78      0.84        23\n",
      "\n",
      "   micro avg       0.94      0.94      0.94       240\n",
      "   macro avg       0.91      0.89      0.90       240\n",
      "weighted avg       0.94      0.94      0.94       240\n",
      "\n"
     ]
    }
   ],
   "source": [
    "# Finding accuracy, precision, recall and confusion matrix\n",
    "print(accuracy_score(y_test,y_predict_xgb))\n",
    "print(classification_report(y_test,y_predict_xgb))"
   ]
  },
  {
   "cell_type": "code",
   "execution_count": 57,
   "metadata": {},
   "outputs": [
    {
     "data": {
      "text/plain": [
       "array([[ 35,   3,   0],\n",
       "       [  4, 173,   2],\n",
       "       [  1,   4,  18]], dtype=int64)"
      ]
     },
     "execution_count": 57,
     "metadata": {},
     "output_type": "execute_result"
    }
   ],
   "source": [
    "confusion_matrix(y_test,y_predict_xgb)"
   ]
  },
  {
   "cell_type": "markdown",
   "metadata": {},
   "source": [
    "## 8. Artificial Neural Network"
   ]
  },
  {
   "cell_type": "code",
   "execution_count": 58,
   "metadata": {},
   "outputs": [
    {
     "data": {
      "text/plain": [
       "MLPClassifier(activation='relu', alpha=0.0001, batch_size=10, beta_1=0.9,\n",
       "       beta_2=0.999, early_stopping=False, epsilon=1e-08,\n",
       "       hidden_layer_sizes=(100, 100, 100), learning_rate='constant',\n",
       "       learning_rate_init=0.01, max_iter=2000, momentum=0.9,\n",
       "       n_iter_no_change=10, nesterovs_momentum=True, power_t=0.5,\n",
       "       random_state=10, shuffle=True, solver='adam', tol=0.0001,\n",
       "       validation_fraction=0.1, verbose=False, warm_start=False)"
      ]
     },
     "execution_count": 58,
     "metadata": {},
     "output_type": "execute_result"
    }
   ],
   "source": [
    "# Training the model\n",
    "from sklearn.neural_network import MLPClassifier\n",
    "model_mlp = MLPClassifier(hidden_layer_sizes=(100,100,100),batch_size=10,learning_rate_init=0.01,max_iter=2000,random_state=10)\n",
    "model_mlp.fit(X_train,y_train)"
   ]
  },
  {
   "cell_type": "code",
   "execution_count": 59,
   "metadata": {},
   "outputs": [],
   "source": [
    "# Predicting the model\n",
    "y_predict_mlp = model_mlp.predict(X_test)"
   ]
  },
  {
   "cell_type": "code",
   "execution_count": 60,
   "metadata": {},
   "outputs": [
    {
     "name": "stdout",
     "output_type": "stream",
     "text": [
      "0.9041666666666667\n",
      "              precision    recall  f1-score   support\n",
      "\n",
      "           2       0.80      0.97      0.88        38\n",
      "           3       0.97      0.91      0.94       179\n",
      "           4       0.67      0.78      0.72        23\n",
      "\n",
      "   micro avg       0.90      0.90      0.90       240\n",
      "   macro avg       0.81      0.89      0.85       240\n",
      "weighted avg       0.91      0.90      0.91       240\n",
      "\n"
     ]
    }
   ],
   "source": [
    "# Finding accuracy, precision, recall and confusion matrix\n",
    "print(accuracy_score(y_test,y_predict_mlp))\n",
    "print(classification_report(y_test,y_predict_mlp))"
   ]
  },
  {
   "cell_type": "code",
   "execution_count": 61,
   "metadata": {},
   "outputs": [
    {
     "data": {
      "text/plain": [
       "array([[ 37,   1,   0],\n",
       "       [  8, 162,   9],\n",
       "       [  1,   4,  18]], dtype=int64)"
      ]
     },
     "execution_count": 61,
     "metadata": {},
     "output_type": "execute_result"
    }
   ],
   "source": [
    "confusion_matrix(y_test,y_predict_mlp)"
   ]
  },
  {
   "cell_type": "markdown",
   "metadata": {},
   "source": [
    "### 9. LSTM-CNN"
   ]
  },
  {
   "cell_type": "code",
   "execution_count": 62,
   "metadata": {},
   "outputs": [
    {
     "name": "stderr",
     "output_type": "stream",
     "text": [
      "Using TensorFlow backend.\n"
     ]
    }
   ],
   "source": [
    "from keras.models import Sequential\n",
    "import matplotlib.patches as mpatches\n",
    "from keras.layers import Dense\n",
    "from keras.layers import Dropout\n",
    "from keras.layers import LSTM\n",
    "from sklearn.preprocessing import MinMaxScaler\n",
    "from sklearn.metrics import mean_squared_error\n",
    "from keras.layers import Dense,RepeatVector\n",
    "from keras.layers import Flatten\n",
    "from keras.layers import TimeDistributed\n",
    "from keras.layers.convolutional import Conv1D\n",
    "from keras.layers.convolutional import MaxPooling1D"
   ]
  },
  {
   "cell_type": "code",
   "execution_count": 63,
   "metadata": {},
   "outputs": [
    {
     "name": "stdout",
     "output_type": "stream",
     "text": [
      "Epoch 1/5\n",
      "960/960 [==============================] - 1s 996us/step - loss: 9.8906 - acc: 0.1167\n",
      "Epoch 2/5\n",
      "960/960 [==============================] - 0s 186us/step - loss: 9.8869 - acc: 0.1521\n",
      "Epoch 3/5\n",
      "960/960 [==============================] - 0s 176us/step - loss: 9.8762 - acc: 0.1531\n",
      "Epoch 4/5\n",
      "960/960 [==============================] - 0s 193us/step - loss: 9.8737 - acc: 0.1542\n",
      "Epoch 5/5\n",
      "960/960 [==============================] - 0s 193us/step - loss: 9.8739 - acc: 0.1604\n"
     ]
    },
    {
     "data": {
      "text/plain": [
       "<keras.callbacks.History at 0x14da6ec2a20>"
      ]
     },
     "execution_count": 63,
     "metadata": {},
     "output_type": "execute_result"
    }
   ],
   "source": [
    "X_train = np.expand_dims(np.random.normal(size=(960, 9)),axis=-1)\n",
    "\n",
    "y_train = np.random.choice([0,1], size=(960,9))\n",
    "\n",
    "\n",
    "n_timesteps, n_features, n_outputs =X_train.shape[0], X_train.shape[1], y_train.shape[1]\n",
    "\n",
    "model = Sequential()\n",
    "model.add(Conv1D(filters=64, kernel_size=1, \n",
    "activation='relu',input_shape=(n_features,1)))\n",
    "\n",
    "model.add(Conv1D(filters=64, kernel_size=1, activation='relu'))\n",
    "model.add(Dropout(0.5))\n",
    "model.add(MaxPooling1D(pool_size=2))\n",
    "model.add(Flatten())\n",
    "model.add(Dense(100, activation='relu'))\n",
    "model.add(Dense(n_outputs, activation='softmax'))\n",
    "model.compile(loss='categorical_crossentropy', optimizer='adam', metrics=['accuracy'])\n",
    "# fit network\n",
    "model.fit(X_train, y_train, epochs=5, batch_size=32, verbose=1)"
   ]
  },
  {
   "cell_type": "code",
   "execution_count": 64,
   "metadata": {},
   "outputs": [
    {
     "data": {
      "text/plain": [
       "(240,)"
      ]
     },
     "execution_count": 64,
     "metadata": {},
     "output_type": "execute_result"
    }
   ],
   "source": [
    "y_test.shape"
   ]
  },
  {
   "cell_type": "code",
   "execution_count": 65,
   "metadata": {},
   "outputs": [],
   "source": [
    "# Predicting the model\n",
    "X_test = np.expand_dims(np.random.normal(size=(240, 9)),axis=-1)\n",
    "Predictions = model.predict(X_test,batch_size =32)"
   ]
  },
  {
   "cell_type": "code",
   "execution_count": 66,
   "metadata": {},
   "outputs": [
    {
     "name": "stdout",
     "output_type": "stream",
     "text": [
      "0.6062969399565384\n"
     ]
    }
   ],
   "source": [
    "# Finding accuracy, precision, recall and confusion matrix\n",
    "from sklearn.metrics import label_ranking_average_precision_score\n",
    "y_test = np.random.choice([0,1], size=(240,9))\n",
    "print(label_ranking_average_precision_score(y_test,Predictions))\n",
    "#print(accuracy_score(y_test,Predictions))\n",
    "#print(classification_report(y_test,Predictions))"
   ]
  },
  {
   "cell_type": "code",
   "execution_count": 68,
   "metadata": {},
   "outputs": [
    {
     "data": {
      "text/plain": [
       "['INX_Future_IncRF.ml']"
      ]
     },
     "execution_count": 68,
     "metadata": {},
     "output_type": "execute_result"
    }
   ],
   "source": [
    "# Exporting the trained model\n",
    "from sklearn.externals import joblib\n",
    "joblib.dump(model_gridrf,'INX_Future_IncRF.ml')"
   ]
  },
  {
   "cell_type": "code",
   "execution_count": 69,
   "metadata": {},
   "outputs": [
    {
     "data": {
      "text/plain": [
       "['INX_Future_IncXGB.ml']"
      ]
     },
     "execution_count": 69,
     "metadata": {},
     "output_type": "execute_result"
    }
   ],
   "source": [
    "# Exporting the trained model\n",
    "from sklearn.externals import joblib\n",
    "joblib.dump(model_xgb,'INX_Future_IncXGB.ml')"
   ]
  }
 ],
 "metadata": {
  "kernelspec": {
   "display_name": "Python 3",
   "language": "python",
   "name": "python3"
  },
  "language_info": {
   "codemirror_mode": {
    "name": "ipython",
    "version": 3
   },
   "file_extension": ".py",
   "mimetype": "text/x-python",
   "name": "python",
   "nbconvert_exporter": "python",
   "pygments_lexer": "ipython3",
   "version": "3.6.9"
  }
 },
 "nbformat": 4,
 "nbformat_minor": 2
}
